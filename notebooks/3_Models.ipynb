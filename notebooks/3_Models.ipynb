{
 "cells": [
  {
   "cell_type": "markdown",
   "metadata": {
    "toc": true
   },
   "source": [
    "<h1>Table of Contents<span class=\"tocSkip\"></span></h1>\n",
    "<div class=\"toc\"><ul class=\"toc-item\"><li><span><a href=\"#Libraries\" data-toc-modified-id=\"Libraries-1\"><span class=\"toc-item-num\">1&nbsp;&nbsp;</span>Libraries</a></span></li><li><span><a href=\"#Functions\" data-toc-modified-id=\"Functions-2\"><span class=\"toc-item-num\">2&nbsp;&nbsp;</span>Functions</a></span></li><li><span><a href=\"#Introduction\" data-toc-modified-id=\"Introduction-3\"><span class=\"toc-item-num\">3&nbsp;&nbsp;</span>Introduction</a></span></li><li><span><a href=\"#Data-load\" data-toc-modified-id=\"Data-load-4\"><span class=\"toc-item-num\">4&nbsp;&nbsp;</span>Data load</a></span></li><li><span><a href=\"#Data-Preprocessig\" data-toc-modified-id=\"Data-Preprocessig-5\"><span class=\"toc-item-num\">5&nbsp;&nbsp;</span>Data Preprocessig</a></span></li><li><span><a href=\"#Model-Selection\" data-toc-modified-id=\"Model-Selection-6\"><span class=\"toc-item-num\">6&nbsp;&nbsp;</span>Model Selection</a></span><ul class=\"toc-item\"><li><span><a href=\"#Identifying-important-features-(Random-Forest-Classifier)\" data-toc-modified-id=\"Identifying-important-features-(Random-Forest-Classifier)-6.1\"><span class=\"toc-item-num\">6.1&nbsp;&nbsp;</span>Identifying important features (Random Forest Classifier)</a></span></li><li><span><a href=\"#Testing-models-with-different-lists-of-features\" data-toc-modified-id=\"Testing-models-with-different-lists-of-features-6.2\"><span class=\"toc-item-num\">6.2&nbsp;&nbsp;</span>Testing models with different lists of features</a></span><ul class=\"toc-item\"><li><span><a href=\"#Using-the-short-list-of-feature-importance\" data-toc-modified-id=\"Using-the-short-list-of-feature-importance-6.2.1\"><span class=\"toc-item-num\">6.2.1&nbsp;&nbsp;</span>Using the short list of feature importance</a></span><ul class=\"toc-item\"><li><span><a href=\"#Models-with-default-parameters\" data-toc-modified-id=\"Models-with-default-parameters-6.2.1.1\"><span class=\"toc-item-num\">6.2.1.1&nbsp;&nbsp;</span>Models with default parameters</a></span></li><li><span><a href=\"#Models-with-hyperparameter-tuning\" data-toc-modified-id=\"Models-with-hyperparameter-tuning-6.2.1.2\"><span class=\"toc-item-num\">6.2.1.2&nbsp;&nbsp;</span>Models with hyperparameter tuning</a></span></li></ul></li><li><span><a href=\"#Using-the-long-list-of-feature-importance\" data-toc-modified-id=\"Using-the-long-list-of-feature-importance-6.2.2\"><span class=\"toc-item-num\">6.2.2&nbsp;&nbsp;</span>Using the long list of feature importance</a></span><ul class=\"toc-item\"><li><span><a href=\"#Models-with-default-parameters\" data-toc-modified-id=\"Models-with-default-parameters-6.2.2.1\"><span class=\"toc-item-num\">6.2.2.1&nbsp;&nbsp;</span>Models with default parameters</a></span></li><li><span><a href=\"#Models-with-set-parameters\" data-toc-modified-id=\"Models-with-set-parameters-6.2.2.2\"><span class=\"toc-item-num\">6.2.2.2&nbsp;&nbsp;</span>Models with set parameters</a></span></li></ul></li></ul></li></ul></li><li><span><a href=\"#Model-Tuning\" data-toc-modified-id=\"Model-Tuning-7\"><span class=\"toc-item-num\">7&nbsp;&nbsp;</span>Model Tuning</a></span><ul class=\"toc-item\"><li><span><a href=\"#Pipeline-(Feature-Scaling)\" data-toc-modified-id=\"Pipeline-(Feature-Scaling)-7.1\"><span class=\"toc-item-num\">7.1&nbsp;&nbsp;</span>Pipeline (Feature Scaling)</a></span><ul class=\"toc-item\"><li><span><a href=\"#Random-Forest-Classifier\" data-toc-modified-id=\"Random-Forest-Classifier-7.1.1\"><span class=\"toc-item-num\">7.1.1&nbsp;&nbsp;</span>Random Forest Classifier</a></span></li><li><span><a href=\"#Support-Vector-Machine\" data-toc-modified-id=\"Support-Vector-Machine-7.1.2\"><span class=\"toc-item-num\">7.1.2&nbsp;&nbsp;</span>Support Vector Machine</a></span></li><li><span><a href=\"#K-Nearest-Neighbors-Classifier\" data-toc-modified-id=\"K-Nearest-Neighbors-Classifier-7.1.3\"><span class=\"toc-item-num\">7.1.3&nbsp;&nbsp;</span>K-Nearest Neighbors Classifier</a></span><ul class=\"toc-item\"><li><span><a href=\"#Feature-Scaling-Conclusions\" data-toc-modified-id=\"Feature-Scaling-Conclusions-7.1.3.1\"><span class=\"toc-item-num\">7.1.3.1&nbsp;&nbsp;</span>Feature Scaling Conclusions</a></span></li></ul></li></ul></li><li><span><a href=\"#Pipeline-(Data-Balancing)\" data-toc-modified-id=\"Pipeline-(Data-Balancing)-7.2\"><span class=\"toc-item-num\">7.2&nbsp;&nbsp;</span>Pipeline (Data Balancing)</a></span><ul class=\"toc-item\"><li><span><a href=\"#Random-Forest-Classifier\" data-toc-modified-id=\"Random-Forest-Classifier-7.2.1\"><span class=\"toc-item-num\">7.2.1&nbsp;&nbsp;</span>Random Forest Classifier</a></span></li><li><span><a href=\"#Support-Vector-Machine\" data-toc-modified-id=\"Support-Vector-Machine-7.2.2\"><span class=\"toc-item-num\">7.2.2&nbsp;&nbsp;</span>Support Vector Machine</a></span></li><li><span><a href=\"#K-Nearest-Neighbors-Classifier\" data-toc-modified-id=\"K-Nearest-Neighbors-Classifier-7.2.3\"><span class=\"toc-item-num\">7.2.3&nbsp;&nbsp;</span>K-Nearest Neighbors Classifier</a></span><ul class=\"toc-item\"><li><span><a href=\"#Data-Preprocessing-(Scaling-and-Balancing)-Conclusions\" data-toc-modified-id=\"Data-Preprocessing-(Scaling-and-Balancing)-Conclusions-7.2.3.1\"><span class=\"toc-item-num\">7.2.3.1&nbsp;&nbsp;</span>Data Preprocessing (Scaling and Balancing) Conclusions</a></span></li></ul></li></ul></li><li><span><a href=\"#Pipeline-(Hyperparameter-tuning)\" data-toc-modified-id=\"Pipeline-(Hyperparameter-tuning)-7.3\"><span class=\"toc-item-num\">7.3&nbsp;&nbsp;</span>Pipeline (Hyperparameter tuning)</a></span><ul class=\"toc-item\"><li><span><a href=\"#Random-Forest-Classifier\" data-toc-modified-id=\"Random-Forest-Classifier-7.3.1\"><span class=\"toc-item-num\">7.3.1&nbsp;&nbsp;</span>Random Forest Classifier</a></span></li><li><span><a href=\"#K-Nearest-Neighbors-Classifier\" data-toc-modified-id=\"K-Nearest-Neighbors-Classifier-7.3.2\"><span class=\"toc-item-num\">7.3.2&nbsp;&nbsp;</span>K-Nearest Neighbors Classifier</a></span></li><li><span><a href=\"#Support-Vector-Machine\" data-toc-modified-id=\"Support-Vector-Machine-7.3.3\"><span class=\"toc-item-num\">7.3.3&nbsp;&nbsp;</span>Support Vector Machine</a></span></li><li><span><a href=\"#Extreme-Gradient-Boosting-Classifier\" data-toc-modified-id=\"Extreme-Gradient-Boosting-Classifier-7.3.4\"><span class=\"toc-item-num\">7.3.4&nbsp;&nbsp;</span>Extreme Gradient Boosting Classifier</a></span></li><li><span><a href=\"#Extra-Trees-Classifier\" data-toc-modified-id=\"Extra-Trees-Classifier-7.3.5\"><span class=\"toc-item-num\">7.3.5&nbsp;&nbsp;</span>Extra Trees Classifier</a></span></li></ul></li></ul></li><li><span><a href=\"#Neural-Networks\" data-toc-modified-id=\"Neural-Networks-8\"><span class=\"toc-item-num\">8&nbsp;&nbsp;</span>Neural Networks</a></span><ul class=\"toc-item\"><li><span><a href=\"#Multi-Layer-Perceptron-Classifier\" data-toc-modified-id=\"Multi-Layer-Perceptron-Classifier-8.1\"><span class=\"toc-item-num\">8.1&nbsp;&nbsp;</span>Multi-Layer Perceptron Classifier</a></span></li></ul></li><li><span><a href=\"#Conclusions\" data-toc-modified-id=\"Conclusions-9\"><span class=\"toc-item-num\">9&nbsp;&nbsp;</span>Conclusions</a></span></li><li><span><a href=\"#Recommendations-and-next-steps\" data-toc-modified-id=\"Recommendations-and-next-steps-10\"><span class=\"toc-item-num\">10&nbsp;&nbsp;</span>Recommendations and next steps</a></span></li></ul></div>"
   ]
  },
  {
   "cell_type": "markdown",
   "metadata": {},
   "source": [
    "# Libraries"
   ]
  },
  {
   "cell_type": "code",
   "execution_count": 1,
   "metadata": {
    "ExecuteTime": {
     "end_time": "2020-05-31T18:50:43.364541Z",
     "start_time": "2020-05-31T18:50:40.072270Z"
    }
   },
   "outputs": [
    {
     "name": "stderr",
     "output_type": "stream",
     "text": [
      "Using TensorFlow backend.\n",
      "C:\\Users\\krist\\Anaconda3\\lib\\site-packages\\sklearn\\externals\\six.py:31: DeprecationWarning: The module is deprecated in version 0.21 and will be removed in version 0.23 since we've dropped support for Python 2.7. Please rely on the official version of six (https://pypi.org/project/six/).\n",
      "  \"(https://pypi.org/project/six/).\", DeprecationWarning)\n"
     ]
    }
   ],
   "source": [
    "import pandas as pd\n",
    "import numpy as np\n",
    "import seaborn as sns\n",
    "import matplotlib.pyplot as plt\n",
    "\n",
    "# Pipelines\n",
    "from sklearn.pipeline import Pipeline\n",
    "from imblearn.pipeline import Pipeline as imbPipeline\n",
    "\n",
    "# Models\n",
    "from sklearn.svm import LinearSVC, SVC\n",
    "from sklearn.tree import DecisionTreeClassifier, export_graphviz\n",
    "from sklearn.ensemble import RandomForestClassifier, ExtraTreesClassifier, VotingClassifier\n",
    "from sklearn.linear_model import LogisticRegression\n",
    "from sklearn.neighbors import KNeighborsClassifier\n",
    "from sklearn.neural_network import MLPClassifier\n",
    "from lightgbm import LGBMClassifier\n",
    "from xgboost import XGBClassifier\n",
    "from sklearn.externals.six import StringIO  \n",
    "from IPython.display import Image  \n",
    "import pydotplus\n",
    "\n",
    "# Preprocessing\n",
    "from imblearn.under_sampling import NearMiss, InstanceHardnessThreshold\n",
    "from imblearn.over_sampling import SMOTE\n",
    "from sklearn.preprocessing import StandardScaler, MinMaxScaler, Normalizer\n",
    "\n",
    "# Metrics, model evaluation\n",
    "from sklearn.metrics import confusion_matrix, classification_report\n",
    "from sklearn.metrics import accuracy_score, precision_score, recall_score, f1_score, log_loss\n",
    "from sklearn.metrics import auc, roc_curve, roc_auc_score, precision_recall_curve\n",
    "from sklearn.model_selection import GridSearchCV, StratifiedKFold, cross_val_score, cross_val_predict\n",
    "import sklearn.metrics as metrics"
   ]
  },
  {
   "cell_type": "code",
   "execution_count": 2,
   "metadata": {
    "ExecuteTime": {
     "end_time": "2020-05-31T18:50:43.369783Z",
     "start_time": "2020-05-31T18:50:43.364541Z"
    }
   },
   "outputs": [],
   "source": [
    "plt.rcParams[\"figure.figsize\"] = (10, 10)"
   ]
  },
  {
   "cell_type": "code",
   "execution_count": 3,
   "metadata": {
    "ExecuteTime": {
     "end_time": "2020-05-31T18:50:43.380753Z",
     "start_time": "2020-05-31T18:50:43.370780Z"
    }
   },
   "outputs": [],
   "source": [
    "import warnings\n",
    "warnings.filterwarnings('ignore')\n",
    "warnings.simplefilter('ignore')"
   ]
  },
  {
   "cell_type": "code",
   "execution_count": 4,
   "metadata": {
    "ExecuteTime": {
     "end_time": "2020-05-31T18:50:43.385741Z",
     "start_time": "2020-05-31T18:50:43.381752Z"
    }
   },
   "outputs": [],
   "source": [
    "pd.set_option('display.max_columns', None)"
   ]
  },
  {
   "cell_type": "markdown",
   "metadata": {},
   "source": [
    "# Functions"
   ]
  },
  {
   "cell_type": "code",
   "execution_count": 5,
   "metadata": {
    "ExecuteTime": {
     "end_time": "2020-05-31T18:50:43.401699Z",
     "start_time": "2020-05-31T18:50:43.386737Z"
    }
   },
   "outputs": [],
   "source": [
    "def model_results_tr_ts(model, X_train, y_train, X_test, y_test, name):\n",
    "    \"\"\"\n",
    "    Function to evaluate one or multiple models and check train and test results with parameters set.\n",
    "    \n",
    "    Model fitting is done inside of the function.\n",
    "    \n",
    "    The function takes model, split data, and model name and returns the results on test and train sets. \n",
    "    Test set: confusion matrix, classification report. \n",
    "    Train and test sets: dataframe with accuracy, precision, recall, F1 score, and rocauc \n",
    "    score done with cross-validation.\n",
    "    \"\"\"\n",
    "    print(f'**{name}** results', '\\n')\n",
    "    \n",
    "    model.fit(X_train, y_train)\n",
    "    y_pred_train = model.predict(X_train)\n",
    "    y_pred_test  = model.predict(X_test)\n",
    "    \n",
    "    # Confusion matrix\n",
    "    cf_matrix = confusion_matrix(y_test, y_pred_test)\n",
    "    \n",
    "    # Visualizing confusion matrix\n",
    "    print(f'Confusion Matrix of test data')\n",
    "    group_names  = ['TN', 'FP', 'FN', 'TP']\n",
    "    group_counts = ['{0:0.0f}'.format(value) for value in cf_matrix.flatten()]\n",
    "    labels       = [f'{v1}\\n{v2}' for v1, v2 in zip(group_names, group_counts)]\n",
    "    labels       = np.asarray(labels).reshape(2,2)\n",
    "    fig, ax      = plt.subplots(figsize=(8,5))\n",
    "    sns.heatmap(cf_matrix, annot=labels, fmt='', cmap='BuGn', ax=ax)\n",
    "    plt.show()\n",
    "    \n",
    "    # Classification report\n",
    "    print(f'Classifictation Report of test data', '\\n')\n",
    "    print(classification_report(y_test, y_pred_test),'\\n')\n",
    "    \n",
    "    # Main metrics with cross_val_score\n",
    "    print(f'Main model evaluation metrics with cross validation (train and test data)','\\n')\n",
    "    strat_k_fold   = StratifiedKFold(n_splits=5, shuffle=True, random_state=42)\n",
    "    accuracy       = np.mean(cross_val_score(model, X_train, y_train, cv=strat_k_fold, scoring='accuracy'))\n",
    "    precision      = np.mean(cross_val_score(model, X_train, y_train, cv=strat_k_fold, scoring='precision'))\n",
    "    recall         = np.mean(cross_val_score(model, X_train, y_train, cv=strat_k_fold, scoring='recall'))\n",
    "    f1score        = np.mean(cross_val_score(model, X_train, y_train, cv=strat_k_fold, scoring='f1'))\n",
    "    rocauc         = np.mean(cross_val_score(model, X_train, y_train, cv=strat_k_fold, scoring='roc_auc'))\n",
    "    \n",
    "    df_model_train = pd.DataFrame({'data'         : 'train',\n",
    "                                   'model'        : [name],\n",
    "                                   'accuracy'     : [accuracy],\n",
    "                                   'precision'    : [precision],\n",
    "                                   'recall'       : [recall],\n",
    "                                   'f1score'      : [f1score],\n",
    "                                   'rocauc'       : [rocauc]})\n",
    "   \n",
    "    accuracy      = np.mean(cross_val_score(model, X_test, y_test, cv=strat_k_fold, scoring='accuracy'))\n",
    "    precision     = np.mean(cross_val_score(model, X_test, y_test, cv=strat_k_fold, scoring='precision'))\n",
    "    recall        = np.mean(cross_val_score(model, X_test, y_test, cv=strat_k_fold, scoring='recall'))\n",
    "    f1score       = np.mean(cross_val_score(model, X_test, y_test, cv=strat_k_fold, scoring='f1'))\n",
    "    rocauc        = np.mean(cross_val_score(model, X_test, y_test, cv=strat_k_fold, scoring='roc_auc'))\n",
    "    \n",
    "    df_model_test = pd.DataFrame({'data'         : 'test',\n",
    "                                  'model'        : [name],\n",
    "                                  'accuracy'     : [accuracy],\n",
    "                                  'precision'    : [precision],\n",
    "                                  'recall'       : [recall],\n",
    "                                  'f1score'      : [f1score],\n",
    "                                  'rocauc'       : [rocauc]})\n",
    "    \n",
    "    df_model = pd.concat([df_model_train, df_model_test], ignore_index=True)\n",
    "    \n",
    "    print(df_model.to_string())"
   ]
  },
  {
   "cell_type": "code",
   "execution_count": 6,
   "metadata": {
    "ExecuteTime": {
     "end_time": "2020-05-31T18:50:43.410673Z",
     "start_time": "2020-05-31T18:50:43.403693Z"
    }
   },
   "outputs": [],
   "source": [
    "def model_results_test_df(model, X_train, y_train, X_test, y_test, model_name):\n",
    "    \"\"\"\n",
    "    Function to evaluate multiple models on test data with parameters set.\n",
    "    \n",
    "    Model fitting is done inside of the function.\n",
    "    \n",
    "    The function takes model, split data and the name of the model and returns the results of the test \n",
    "    data: dataframe with accuracy, precision, recall, F1 score and rocauc score done with \n",
    "    cross-validation.\n",
    "    \"\"\"\n",
    "    model.fit(X_train, y_train)\n",
    "    y_pred_test = model.predict(X_test)\n",
    "    \n",
    "    # Main metrics with cross_val_score\n",
    "    strat_k_fold   = StratifiedKFold(n_splits=5, shuffle=True, random_state=42)\n",
    "    accuracy       = np.mean(cross_val_score(model, X_test, y_test, cv=strat_k_fold, scoring='accuracy'))\n",
    "    precision      = np.mean(cross_val_score(model, X_test, y_test, cv=strat_k_fold, scoring='precision'))\n",
    "    recall         = np.mean(cross_val_score(model, X_test, y_test, cv=strat_k_fold, scoring='recall'))\n",
    "    f1score        = np.mean(cross_val_score(model, X_test, y_test, cv=strat_k_fold, scoring='f1'))\n",
    "    rocauc         = np.mean(cross_val_score(model, X_test, y_test, cv=strat_k_fold, scoring='roc_auc'))\n",
    "    \n",
    "    df_model_test  = pd.DataFrame({'data'         : 'test',\n",
    "                                   'model'        : [model_name],\n",
    "                                   'accuracy'     : [accuracy],\n",
    "                                   'precision'    : [precision],\n",
    "                                   'recall'       : [recall],\n",
    "                                   'f1score'      : [f1score],\n",
    "                                   'rocauc'       : [rocauc]})\n",
    "    \n",
    "    return df_model_test"
   ]
  },
  {
   "cell_type": "code",
   "execution_count": 7,
   "metadata": {
    "ExecuteTime": {
     "end_time": "2020-05-31T18:50:43.421645Z",
     "start_time": "2020-05-31T18:50:43.411670Z"
    }
   },
   "outputs": [],
   "source": [
    "def model_results_test_cm_cr_df(model, X_train, y_train, X_test, y_test, model_name):\n",
    "    \"\"\"\n",
    "    Function to evaluate multiple models on test data with parameters set.\n",
    "    \n",
    "    Model fitting is done inside of the function.\n",
    "    \n",
    "    The function takes model, test data (X and y) and model name and returns the results on test set:\n",
    "    confusion matrix, classification report and dataframe with accuracy, precision, recall, F1 score\n",
    "    and rocauc score done with cross-validation.\n",
    "    \"\"\"\n",
    "    model.fit(X_train, y_train)\n",
    "    print('\\n', f'**{model_name}** results', '\\n')\n",
    "    y_pred_test = model.predict(X_test)\n",
    "    \n",
    "    # Confusion matrix\n",
    "    cf_matrix = confusion_matrix(y_test, y_pred_test)\n",
    "    \n",
    "    # Visualizing confusion matrix\n",
    "    print(f'Confusion Matrix of test data')\n",
    "    group_names  = ['TN', 'FP', 'FN', 'TP']\n",
    "    group_counts = ['{0:0.0f}'.format(value) for value in cf_matrix.flatten()]\n",
    "    labels       = [f'{v1}\\n{v2}' for v1, v2 in zip(group_names, group_counts)]\n",
    "    labels       = np.asarray(labels).reshape(2,2)\n",
    "    fig, ax      = plt.subplots(figsize=(8,5))\n",
    "    sns.heatmap(cf_matrix, annot=labels, fmt='', cmap='BuGn', ax=ax)\n",
    "    plt.show()\n",
    "    \n",
    "    # Classification report\n",
    "    print(f'Classifictation Report of test data', '\\n')\n",
    "    print(classification_report(y_test, y_pred_test),'\\n')\n",
    "    \n",
    "    # Main metrics with cross_val_score\n",
    "    strat_k_fold   = StratifiedKFold(n_splits=5, shuffle=True, random_state=42)\n",
    "    accuracy       = np.mean(cross_val_score(model, X_test, y_test, cv=strat_k_fold, scoring='accuracy'))\n",
    "    precision      = np.mean(cross_val_score(model, X_test, y_test, cv=strat_k_fold, scoring='precision'))\n",
    "    recall         = np.mean(cross_val_score(model, X_test, y_test, cv=strat_k_fold, scoring='recall'))\n",
    "    f1score        = np.mean(cross_val_score(model, X_test, y_test, cv=strat_k_fold, scoring='f1'))\n",
    "    rocauc         = np.mean(cross_val_score(model, X_test, y_test, cv=strat_k_fold, scoring='roc_auc'))\n",
    "    \n",
    "    df_model_test  = pd.DataFrame({'data'         : 'test',\n",
    "                                   'model'        : [model_name],\n",
    "                                   'accuracy'     : [accuracy],\n",
    "                                   'precision'    : [precision],\n",
    "                                   'recall'       : [recall],\n",
    "                                   'f1score'      : [f1score],\n",
    "                                   'rocauc'       : [rocauc]})\n",
    "    \n",
    "    return df_model_test"
   ]
  },
  {
   "cell_type": "code",
   "execution_count": 8,
   "metadata": {
    "ExecuteTime": {
     "end_time": "2020-05-31T18:50:43.436626Z",
     "start_time": "2020-05-31T18:50:43.425634Z"
    }
   },
   "outputs": [],
   "source": [
    "def model_results_test_cm_df(model, X_train, y_train, X_test, y_test, model_name):\n",
    "    \"\"\"\n",
    "    Function to evaluate multiple models on test data with parameters set.\n",
    "    \n",
    "    Model fitting is done inside of the function.\n",
    "    \n",
    "    The function takes the model, split data and the model name and returns the results on the \n",
    "    test set:\n",
    "    confusion matrix and the dataframe with accuracy, precision, recall, F1 score\n",
    "    and rocauc score done with cross-validation.\n",
    "    \"\"\"\n",
    "    model.fit(X_train, y_train)\n",
    "    print('\\n', f'**{model_name}** results', '\\n')\n",
    "    y_pred_test = model.predict(X_test)\n",
    "    \n",
    "    # Confusion matrix\n",
    "    cf_matrix = confusion_matrix(y_test, y_pred_test)\n",
    "    \n",
    "    # Visualizing confusion matrix\n",
    "    print(f'Confusion Matrix of test data')\n",
    "    group_names  = ['TN', 'FP', 'FN', 'TP']\n",
    "    group_counts = ['{0:0.0f}'.format(value) for value in cf_matrix.flatten()]\n",
    "    labels       = [f'{v1}\\n{v2}' for v1, v2 in zip(group_names, group_counts)]\n",
    "    labels       = np.asarray(labels).reshape(2,2)\n",
    "    fig, ax      = plt.subplots(figsize=(8,5))\n",
    "    sns.heatmap(cf_matrix, annot=labels, fmt='', cmap='BuGn', ax=ax)\n",
    "    plt.show()\n",
    "    \n",
    "    # Main metrics with cross_val_score\n",
    "    strat_k_fold   = StratifiedKFold(n_splits=5, shuffle=True, random_state=42)\n",
    "    accuracy       = np.mean(cross_val_score(model, X_test, y_test, cv=strat_k_fold, scoring='accuracy'))\n",
    "    precision      = np.mean(cross_val_score(model, X_test, y_test, cv=strat_k_fold, scoring='precision'))\n",
    "    recall         = np.mean(cross_val_score(model, X_test, y_test, cv=strat_k_fold, scoring='recall'))\n",
    "    f1score        = np.mean(cross_val_score(model, X_test, y_test, cv=strat_k_fold, scoring='f1'))\n",
    "    rocauc         = np.mean(cross_val_score(model, X_test, y_test, cv=strat_k_fold, scoring='roc_auc'))\n",
    "    \n",
    "    df_model_test  = pd.DataFrame({'data'         : 'test',\n",
    "                                   'model'        : [model_name],\n",
    "                                   'accuracy'     : [accuracy],\n",
    "                                   'precision'    : [precision],\n",
    "                                   'recall'       : [recall],\n",
    "                                   'f1score'      : [f1score],\n",
    "                                   'rocauc'       : [rocauc]})\n",
    "    \n",
    "    return df_model_test"
   ]
  },
  {
   "cell_type": "code",
   "execution_count": 9,
   "metadata": {
    "ExecuteTime": {
     "end_time": "2020-05-31T18:50:43.448574Z",
     "start_time": "2020-05-31T18:50:43.438599Z"
    }
   },
   "outputs": [],
   "source": [
    "def model_results_hyp_test_cm_cr_df(model, X_test, y_test, model_name):\n",
    "    \"\"\"\n",
    "    Function to evaluate one or multiple models on test set with hyperparameter tuning.\n",
    "    \n",
    "    Model fitting is done outside of the function (when doing grid search).\n",
    "    \n",
    "    The function takes model, test data (X and y) and model name and returns the results on test set:\n",
    "    confusion matrix, classification report and dataframe with accuracy, precision, recall, F1 score\n",
    "    and rocauc score done with cross-validation.\n",
    "    \"\"\"\n",
    "    print('\\n', f'**{model_name}** results', '\\n')\n",
    "    y_pred_test = model.predict(X_test)\n",
    "    \n",
    "    # Confusion matrix\n",
    "    cf_matrix = confusion_matrix(y_test, y_pred_test)\n",
    "    \n",
    "    # Visualizing confusion matrix\n",
    "    print(f'Confusion Matrix of test data')\n",
    "    group_names  = ['TN', 'FP', 'FN', 'TP']\n",
    "    group_counts = ['{0:0.0f}'.format(value) for value in cf_matrix.flatten()]\n",
    "    labels       = [f'{v1}\\n{v2}' for v1, v2 in zip(group_names, group_counts)]\n",
    "    labels       = np.asarray(labels).reshape(2,2)\n",
    "    fig, ax      = plt.subplots(figsize=(8,5))\n",
    "    sns.heatmap(cf_matrix, annot=labels, fmt='', cmap='BuGn', ax=ax)\n",
    "    plt.show()\n",
    "    \n",
    "    # Classification report\n",
    "    print(f'Classifictation Report of test data', '\\n')\n",
    "    print(classification_report(y_test, y_pred_test),'\\n')\n",
    "    \n",
    "    # Main metrics with cross_val_score\n",
    "    strat_k_fold   = StratifiedKFold(n_splits=5, shuffle=True, random_state=42)\n",
    "    accuracy       = np.mean(cross_val_score(model, X_test, y_test, cv=strat_k_fold, scoring='accuracy'))\n",
    "    precision      = np.mean(cross_val_score(model, X_test, y_test, cv=strat_k_fold, scoring='precision'))\n",
    "    recall         = np.mean(cross_val_score(model, X_test, y_test, cv=strat_k_fold, scoring='recall'))\n",
    "    f1score        = np.mean(cross_val_score(model, X_test, y_test, cv=strat_k_fold, scoring='f1'))\n",
    "    rocauc         = np.mean(cross_val_score(model, X_test, y_test, cv=strat_k_fold, scoring='roc_auc'))\n",
    "    \n",
    "    df_model_test  = pd.DataFrame({'data'         : 'test',\n",
    "                                   'model'        : [model_name],\n",
    "                                   'accuracy'     : [accuracy],\n",
    "                                   'precision'    : [precision],\n",
    "                                   'recall'       : [recall],\n",
    "                                   'f1score'      : [f1score],\n",
    "                                   'rocauc'       : [rocauc]})\n",
    "    \n",
    "    return df_model_test"
   ]
  },
  {
   "cell_type": "markdown",
   "metadata": {},
   "source": [
    "# Introduction"
   ]
  },
  {
   "cell_type": "markdown",
   "metadata": {},
   "source": [
    "After exploring and preprocessing our data we are ready to start working with Machine Learning algorithms. Before diving into models, let's define what problem we have, what models should be used, and which metrics will be used for evaluation.\n",
    "\n",
    "- We have a **binary classification problem**, we want to predict if a customer is going to churn after the first month or not (two classes).\n",
    "- We will be using **supervised machine learning** models. We will train our model with historical data that has an outcome specified.\n",
    "- The best **metric** in our case is **F1 score**, which shows the balance between precision and recall. We will also be using the **confusion matrix** to see how many customers have fallen under correct categories (True Positive and True Negative) and how many were mistaken (False Positive and False Negative). \n",
    "- In the case of improving precision or recall, we **will be focusing on improving recall**. High precision relates to a low False Positive rate, and high recall relates to a low False Negative rate. The lower False Negative rate, the better. **In our case, False Negative entries indicate that the customers will not churn but actually they will. Thinking that customer is not going to churn, we are losing opportunities because we are not putting appropriate attention to his/hers case. It means that to recover this loss, we would need to invest more, to again acquire a new customer**. "
   ]
  },
  {
   "cell_type": "markdown",
   "metadata": {},
   "source": [
    "# Data load"
   ]
  },
  {
   "cell_type": "code",
   "execution_count": 10,
   "metadata": {
    "ExecuteTime": {
     "end_time": "2020-05-31T18:50:43.529357Z",
     "start_time": "2020-05-31T18:50:43.449569Z"
    }
   },
   "outputs": [],
   "source": [
    "df_encoded = pd.read_csv('../data/encoded_data.csv', sep=',', index_col=0)"
   ]
  },
  {
   "cell_type": "markdown",
   "metadata": {},
   "source": [
    "Let's take a look what features we have and what is the shape of the dataset:"
   ]
  },
  {
   "cell_type": "code",
   "execution_count": 11,
   "metadata": {
    "ExecuteTime": {
     "end_time": "2020-05-31T18:50:43.554290Z",
     "start_time": "2020-05-31T18:50:43.531351Z"
    }
   },
   "outputs": [
    {
     "data": {
      "text/html": [
       "<div>\n",
       "<style scoped>\n",
       "    .dataframe tbody tr th:only-of-type {\n",
       "        vertical-align: middle;\n",
       "    }\n",
       "\n",
       "    .dataframe tbody tr th {\n",
       "        vertical-align: top;\n",
       "    }\n",
       "\n",
       "    .dataframe thead th {\n",
       "        text-align: right;\n",
       "    }\n",
       "</style>\n",
       "<table border=\"1\" class=\"dataframe\">\n",
       "  <thead>\n",
       "    <tr style=\"text-align: right;\">\n",
       "      <th></th>\n",
       "      <th>sex</th>\n",
       "      <th>master_channel_a</th>\n",
       "      <th>master_channel_f</th>\n",
       "      <th>master_channel_d</th>\n",
       "      <th>master_channel_ps</th>\n",
       "      <th>master_channel_gb</th>\n",
       "      <th>master_channel_de</th>\n",
       "      <th>master_channel_g</th>\n",
       "      <th>master_channel_s</th>\n",
       "      <th>master_channel_e</th>\n",
       "      <th>master_channel_b</th>\n",
       "      <th>master_channel_dd</th>\n",
       "      <th>newsletter</th>\n",
       "      <th>registration_payment</th>\n",
       "      <th>use_pickup_point</th>\n",
       "      <th>churned_1_month</th>\n",
       "      <th>email_domain_gc</th>\n",
       "      <th>email_domain_hc</th>\n",
       "      <th>email_domain_yc</th>\n",
       "      <th>email_domain_he</th>\n",
       "      <th>email_domain_other</th>\n",
       "      <th>email_domain_ye</th>\n",
       "      <th>email_domain_lc</th>\n",
       "      <th>email_domain_mc</th>\n",
       "      <th>email_domain_ic</th>\n",
       "      <th>email_domain_ce</th>\n",
       "      <th>email_domain_oe</th>\n",
       "      <th>email_domain_ge</th>\n",
       "      <th>email_domain_oc</th>\n",
       "      <th>email_domain_ae</th>\n",
       "      <th>with_promotion</th>\n",
       "      <th>is_lead</th>\n",
       "      <th>reg_year</th>\n",
       "      <th>days_from_first_click</th>\n",
       "      <th>age</th>\n",
       "      <th>box_satisfaction</th>\n",
       "      <th>reg_month_a</th>\n",
       "      <th>reg_month_b</th>\n",
       "      <th>reg_month_c</th>\n",
       "      <th>reg_month_d</th>\n",
       "      <th>reg_month_e</th>\n",
       "      <th>reg_month_f</th>\n",
       "      <th>reg_month_g</th>\n",
       "      <th>reg_month_h</th>\n",
       "      <th>reg_month_i</th>\n",
       "      <th>reg_month_j</th>\n",
       "      <th>reg_month_k</th>\n",
       "      <th>reg_month_l</th>\n",
       "      <th>random</th>\n",
       "      <th>income_per_region</th>\n",
       "      <th>population_per_region</th>\n",
       "    </tr>\n",
       "  </thead>\n",
       "  <tbody>\n",
       "    <tr>\n",
       "      <td>0</td>\n",
       "      <td>0</td>\n",
       "      <td>1</td>\n",
       "      <td>0</td>\n",
       "      <td>0</td>\n",
       "      <td>0</td>\n",
       "      <td>0</td>\n",
       "      <td>0</td>\n",
       "      <td>0</td>\n",
       "      <td>0</td>\n",
       "      <td>0</td>\n",
       "      <td>0</td>\n",
       "      <td>0</td>\n",
       "      <td>1</td>\n",
       "      <td>10.99</td>\n",
       "      <td>0</td>\n",
       "      <td>1</td>\n",
       "      <td>1</td>\n",
       "      <td>0</td>\n",
       "      <td>0</td>\n",
       "      <td>0</td>\n",
       "      <td>0</td>\n",
       "      <td>0</td>\n",
       "      <td>0</td>\n",
       "      <td>0</td>\n",
       "      <td>0</td>\n",
       "      <td>0</td>\n",
       "      <td>0</td>\n",
       "      <td>0</td>\n",
       "      <td>0</td>\n",
       "      <td>0</td>\n",
       "      <td>1</td>\n",
       "      <td>1</td>\n",
       "      <td>2017</td>\n",
       "      <td>0.0</td>\n",
       "      <td>25.0</td>\n",
       "      <td>152.34</td>\n",
       "      <td>1</td>\n",
       "      <td>0</td>\n",
       "      <td>0</td>\n",
       "      <td>0</td>\n",
       "      <td>0</td>\n",
       "      <td>0</td>\n",
       "      <td>0</td>\n",
       "      <td>0</td>\n",
       "      <td>0</td>\n",
       "      <td>0</td>\n",
       "      <td>0</td>\n",
       "      <td>0</td>\n",
       "      <td>466</td>\n",
       "      <td>18707</td>\n",
       "      <td>6663394</td>\n",
       "    </tr>\n",
       "    <tr>\n",
       "      <td>1</td>\n",
       "      <td>0</td>\n",
       "      <td>0</td>\n",
       "      <td>1</td>\n",
       "      <td>0</td>\n",
       "      <td>0</td>\n",
       "      <td>0</td>\n",
       "      <td>0</td>\n",
       "      <td>0</td>\n",
       "      <td>0</td>\n",
       "      <td>0</td>\n",
       "      <td>0</td>\n",
       "      <td>0</td>\n",
       "      <td>1</td>\n",
       "      <td>10.99</td>\n",
       "      <td>0</td>\n",
       "      <td>1</td>\n",
       "      <td>1</td>\n",
       "      <td>0</td>\n",
       "      <td>0</td>\n",
       "      <td>0</td>\n",
       "      <td>0</td>\n",
       "      <td>0</td>\n",
       "      <td>0</td>\n",
       "      <td>0</td>\n",
       "      <td>0</td>\n",
       "      <td>0</td>\n",
       "      <td>0</td>\n",
       "      <td>0</td>\n",
       "      <td>0</td>\n",
       "      <td>0</td>\n",
       "      <td>1</td>\n",
       "      <td>1</td>\n",
       "      <td>2017</td>\n",
       "      <td>0.0</td>\n",
       "      <td>26.5</td>\n",
       "      <td>152.34</td>\n",
       "      <td>1</td>\n",
       "      <td>0</td>\n",
       "      <td>0</td>\n",
       "      <td>0</td>\n",
       "      <td>0</td>\n",
       "      <td>0</td>\n",
       "      <td>0</td>\n",
       "      <td>0</td>\n",
       "      <td>0</td>\n",
       "      <td>0</td>\n",
       "      <td>0</td>\n",
       "      <td>0</td>\n",
       "      <td>764</td>\n",
       "      <td>18707</td>\n",
       "      <td>6663394</td>\n",
       "    </tr>\n",
       "    <tr>\n",
       "      <td>2</td>\n",
       "      <td>1</td>\n",
       "      <td>0</td>\n",
       "      <td>1</td>\n",
       "      <td>0</td>\n",
       "      <td>0</td>\n",
       "      <td>0</td>\n",
       "      <td>0</td>\n",
       "      <td>0</td>\n",
       "      <td>0</td>\n",
       "      <td>0</td>\n",
       "      <td>0</td>\n",
       "      <td>0</td>\n",
       "      <td>1</td>\n",
       "      <td>10.99</td>\n",
       "      <td>0</td>\n",
       "      <td>1</td>\n",
       "      <td>1</td>\n",
       "      <td>0</td>\n",
       "      <td>0</td>\n",
       "      <td>0</td>\n",
       "      <td>0</td>\n",
       "      <td>0</td>\n",
       "      <td>0</td>\n",
       "      <td>0</td>\n",
       "      <td>0</td>\n",
       "      <td>0</td>\n",
       "      <td>0</td>\n",
       "      <td>0</td>\n",
       "      <td>0</td>\n",
       "      <td>0</td>\n",
       "      <td>1</td>\n",
       "      <td>0</td>\n",
       "      <td>2017</td>\n",
       "      <td>0.0</td>\n",
       "      <td>11.0</td>\n",
       "      <td>152.34</td>\n",
       "      <td>1</td>\n",
       "      <td>0</td>\n",
       "      <td>0</td>\n",
       "      <td>0</td>\n",
       "      <td>0</td>\n",
       "      <td>0</td>\n",
       "      <td>0</td>\n",
       "      <td>0</td>\n",
       "      <td>0</td>\n",
       "      <td>0</td>\n",
       "      <td>0</td>\n",
       "      <td>0</td>\n",
       "      <td>954</td>\n",
       "      <td>15251</td>\n",
       "      <td>316798</td>\n",
       "    </tr>\n",
       "    <tr>\n",
       "      <td>3</td>\n",
       "      <td>1</td>\n",
       "      <td>0</td>\n",
       "      <td>0</td>\n",
       "      <td>1</td>\n",
       "      <td>0</td>\n",
       "      <td>0</td>\n",
       "      <td>0</td>\n",
       "      <td>0</td>\n",
       "      <td>0</td>\n",
       "      <td>0</td>\n",
       "      <td>0</td>\n",
       "      <td>0</td>\n",
       "      <td>1</td>\n",
       "      <td>10.99</td>\n",
       "      <td>0</td>\n",
       "      <td>1</td>\n",
       "      <td>1</td>\n",
       "      <td>0</td>\n",
       "      <td>0</td>\n",
       "      <td>0</td>\n",
       "      <td>0</td>\n",
       "      <td>0</td>\n",
       "      <td>0</td>\n",
       "      <td>0</td>\n",
       "      <td>0</td>\n",
       "      <td>0</td>\n",
       "      <td>0</td>\n",
       "      <td>0</td>\n",
       "      <td>0</td>\n",
       "      <td>0</td>\n",
       "      <td>1</td>\n",
       "      <td>0</td>\n",
       "      <td>2017</td>\n",
       "      <td>0.0</td>\n",
       "      <td>13.5</td>\n",
       "      <td>152.34</td>\n",
       "      <td>1</td>\n",
       "      <td>0</td>\n",
       "      <td>0</td>\n",
       "      <td>0</td>\n",
       "      <td>0</td>\n",
       "      <td>0</td>\n",
       "      <td>0</td>\n",
       "      <td>0</td>\n",
       "      <td>0</td>\n",
       "      <td>0</td>\n",
       "      <td>0</td>\n",
       "      <td>0</td>\n",
       "      <td>471</td>\n",
       "      <td>17102</td>\n",
       "      <td>7675217</td>\n",
       "    </tr>\n",
       "    <tr>\n",
       "      <td>4</td>\n",
       "      <td>1</td>\n",
       "      <td>0</td>\n",
       "      <td>0</td>\n",
       "      <td>1</td>\n",
       "      <td>0</td>\n",
       "      <td>0</td>\n",
       "      <td>0</td>\n",
       "      <td>0</td>\n",
       "      <td>0</td>\n",
       "      <td>0</td>\n",
       "      <td>0</td>\n",
       "      <td>0</td>\n",
       "      <td>1</td>\n",
       "      <td>10.99</td>\n",
       "      <td>0</td>\n",
       "      <td>0</td>\n",
       "      <td>1</td>\n",
       "      <td>0</td>\n",
       "      <td>0</td>\n",
       "      <td>0</td>\n",
       "      <td>0</td>\n",
       "      <td>0</td>\n",
       "      <td>0</td>\n",
       "      <td>0</td>\n",
       "      <td>0</td>\n",
       "      <td>0</td>\n",
       "      <td>0</td>\n",
       "      <td>0</td>\n",
       "      <td>0</td>\n",
       "      <td>0</td>\n",
       "      <td>1</td>\n",
       "      <td>1</td>\n",
       "      <td>2017</td>\n",
       "      <td>0.0</td>\n",
       "      <td>18.0</td>\n",
       "      <td>152.34</td>\n",
       "      <td>1</td>\n",
       "      <td>0</td>\n",
       "      <td>0</td>\n",
       "      <td>0</td>\n",
       "      <td>0</td>\n",
       "      <td>0</td>\n",
       "      <td>0</td>\n",
       "      <td>0</td>\n",
       "      <td>0</td>\n",
       "      <td>0</td>\n",
       "      <td>0</td>\n",
       "      <td>0</td>\n",
       "      <td>657</td>\n",
       "      <td>13148</td>\n",
       "      <td>5003769</td>\n",
       "    </tr>\n",
       "  </tbody>\n",
       "</table>\n",
       "</div>"
      ],
      "text/plain": [
       "   sex  master_channel_a  master_channel_f  master_channel_d  \\\n",
       "0    0                 1                 0                 0   \n",
       "1    0                 0                 1                 0   \n",
       "2    1                 0                 1                 0   \n",
       "3    1                 0                 0                 1   \n",
       "4    1                 0                 0                 1   \n",
       "\n",
       "   master_channel_ps  master_channel_gb  master_channel_de  master_channel_g  \\\n",
       "0                  0                  0                  0                 0   \n",
       "1                  0                  0                  0                 0   \n",
       "2                  0                  0                  0                 0   \n",
       "3                  0                  0                  0                 0   \n",
       "4                  0                  0                  0                 0   \n",
       "\n",
       "   master_channel_s  master_channel_e  master_channel_b  master_channel_dd  \\\n",
       "0                 0                 0                 0                  0   \n",
       "1                 0                 0                 0                  0   \n",
       "2                 0                 0                 0                  0   \n",
       "3                 0                 0                 0                  0   \n",
       "4                 0                 0                 0                  0   \n",
       "\n",
       "   newsletter  registration_payment  use_pickup_point  churned_1_month  \\\n",
       "0           1                 10.99                 0                1   \n",
       "1           1                 10.99                 0                1   \n",
       "2           1                 10.99                 0                1   \n",
       "3           1                 10.99                 0                1   \n",
       "4           1                 10.99                 0                0   \n",
       "\n",
       "   email_domain_gc  email_domain_hc  email_domain_yc  email_domain_he  \\\n",
       "0                1                0                0                0   \n",
       "1                1                0                0                0   \n",
       "2                1                0                0                0   \n",
       "3                1                0                0                0   \n",
       "4                1                0                0                0   \n",
       "\n",
       "   email_domain_other  email_domain_ye  email_domain_lc  email_domain_mc  \\\n",
       "0                   0                0                0                0   \n",
       "1                   0                0                0                0   \n",
       "2                   0                0                0                0   \n",
       "3                   0                0                0                0   \n",
       "4                   0                0                0                0   \n",
       "\n",
       "   email_domain_ic  email_domain_ce  email_domain_oe  email_domain_ge  \\\n",
       "0                0                0                0                0   \n",
       "1                0                0                0                0   \n",
       "2                0                0                0                0   \n",
       "3                0                0                0                0   \n",
       "4                0                0                0                0   \n",
       "\n",
       "   email_domain_oc  email_domain_ae  with_promotion  is_lead  reg_year  \\\n",
       "0                0                0               1        1      2017   \n",
       "1                0                0               1        1      2017   \n",
       "2                0                0               1        0      2017   \n",
       "3                0                0               1        0      2017   \n",
       "4                0                0               1        1      2017   \n",
       "\n",
       "   days_from_first_click   age  box_satisfaction  reg_month_a  reg_month_b  \\\n",
       "0                    0.0  25.0            152.34            1            0   \n",
       "1                    0.0  26.5            152.34            1            0   \n",
       "2                    0.0  11.0            152.34            1            0   \n",
       "3                    0.0  13.5            152.34            1            0   \n",
       "4                    0.0  18.0            152.34            1            0   \n",
       "\n",
       "   reg_month_c  reg_month_d  reg_month_e  reg_month_f  reg_month_g  \\\n",
       "0            0            0            0            0            0   \n",
       "1            0            0            0            0            0   \n",
       "2            0            0            0            0            0   \n",
       "3            0            0            0            0            0   \n",
       "4            0            0            0            0            0   \n",
       "\n",
       "   reg_month_h  reg_month_i  reg_month_j  reg_month_k  reg_month_l  random  \\\n",
       "0            0            0            0            0            0     466   \n",
       "1            0            0            0            0            0     764   \n",
       "2            0            0            0            0            0     954   \n",
       "3            0            0            0            0            0     471   \n",
       "4            0            0            0            0            0     657   \n",
       "\n",
       "   income_per_region  population_per_region  \n",
       "0              18707                6663394  \n",
       "1              18707                6663394  \n",
       "2              15251                 316798  \n",
       "3              17102                7675217  \n",
       "4              13148                5003769  "
      ]
     },
     "execution_count": 11,
     "metadata": {},
     "output_type": "execute_result"
    }
   ],
   "source": [
    "df_encoded.head()"
   ]
  },
  {
   "cell_type": "code",
   "execution_count": 12,
   "metadata": {
    "ExecuteTime": {
     "end_time": "2020-05-31T18:50:43.561271Z",
     "start_time": "2020-05-31T18:50:43.555287Z"
    }
   },
   "outputs": [
    {
     "data": {
      "text/plain": [
       "(26184, 51)"
      ]
     },
     "execution_count": 12,
     "metadata": {},
     "output_type": "execute_result"
    }
   ],
   "source": [
    "df_encoded.shape"
   ]
  },
  {
   "cell_type": "markdown",
   "metadata": {},
   "source": [
    "# Data Preprocessing"
   ]
  },
  {
   "cell_type": "markdown",
   "metadata": {},
   "source": [
    "We have our data encoded, now it's time to split it to train and test sets to be able to use different data for training the model and testing it on a fresh set."
   ]
  },
  {
   "cell_type": "markdown",
   "metadata": {},
   "source": [
    "**Splitting data to train and test sets**"
   ]
  },
  {
   "cell_type": "markdown",
   "metadata": {},
   "source": [
    "Our goal is to predict which customers are going to churn. To have the most realistic scenario, we will use, as a training set, historical data from 2017 and 2018, and for testing, we will take 2019 data. "
   ]
  },
  {
   "cell_type": "code",
   "execution_count": 13,
   "metadata": {
    "ExecuteTime": {
     "end_time": "2020-05-31T18:50:43.589197Z",
     "start_time": "2020-05-31T18:50:43.562269Z"
    }
   },
   "outputs": [
    {
     "name": "stdout",
     "output_type": "stream",
     "text": [
      "Training data shape X: (18377, 49)\n",
      "Testing data shape X: (7807, 49)\n"
     ]
    }
   ],
   "source": [
    "# Training data\n",
    "\n",
    "year = [2017, 2018]\n",
    "train = df_encoded.loc[df_encoded.reg_year.apply(lambda x: x in year)]\n",
    "\n",
    "# We are dropping reg_year here because we only needed it to split our data, it doesn't help to predict the churn\n",
    "to_drop = ['churned_1_month', 'reg_year'] \n",
    "X_train = train.drop(to_drop, axis=1)\n",
    "y_train = train['churned_1_month']\n",
    "\n",
    "print(f'Training data shape X: {X_train.shape}')\n",
    "\n",
    "# Testing data\n",
    "\n",
    "year = [2019]\n",
    "test = df_encoded.loc[df_encoded.reg_year.apply(lambda x: x in year)]\n",
    "\n",
    "to_drop = ['churned_1_month', 'reg_year']\n",
    "X_test = test.drop(to_drop, axis=1)\n",
    "y_test = test['churned_1_month']\n",
    "\n",
    "print(f'Testing data shape X: {X_test.shape}')"
   ]
  },
  {
   "cell_type": "markdown",
   "metadata": {},
   "source": [
    "After splitting our data we can see that we have 18377 customers to train our data and 7807 to test. Let's see again, how our data looks, and if we need to be worried about the unbalanced data:"
   ]
  },
  {
   "cell_type": "code",
   "execution_count": 14,
   "metadata": {
    "ExecuteTime": {
     "end_time": "2020-05-31T18:50:43.722844Z",
     "start_time": "2020-05-31T18:50:43.590193Z"
    }
   },
   "outputs": [
    {
     "data": {
      "image/png": "[encoded data removed]",
      "text/plain": [
       "<Figure size 720x720 with 1 Axes>"
      ]
     },
     "metadata": {
      "needs_background": "light"
     },
     "output_type": "display_data"
    },
    {
     "name": "stdout",
     "output_type": "stream",
     "text": [
      "The split between two classes (churned and not churned customers):\n",
      "1    54.44\n",
      "0    45.56\n",
      "Name: churned_1_month, dtype: float64\n"
     ]
    }
   ],
   "source": [
    "ax = sns.countplot(data=df_encoded, x='churned_1_month', palette={1: \"Gold\", 0: \"Lightblue\"})\n",
    "ax.set_xticklabels(ax.get_xticklabels(), rotation=90)\n",
    "plt.show()\n",
    "\n",
    "val_counts = round(df_encoded.churned_1_month.value_counts(normalize=True)*100, 2)\n",
    "print(f'The split between two classes (churned and not churned customers):\\n{val_counts}')"
   ]
  },
  {
   "cell_type": "markdown",
   "metadata": {},
   "source": [
    "We don't have a big unbalance problem in our classes. Knowing this, we will run our first models without balancing data, and later on, we will test different techniques to see if this could improve our results.\n",
    "\n",
    "Next preprocessing steps, scaling, and balancing will be done in the Model Tuning section, using pipelines."
   ]
  },
  {
   "cell_type": "markdown",
   "metadata": {},
   "source": [
    "# Model Selection"
   ]
  },
  {
   "cell_type": "markdown",
   "metadata": {},
   "source": [
    "## Identifying important features (Random Forest Classifier)"
   ]
  },
  {
   "cell_type": "markdown",
   "metadata": {},
   "source": [
    "We will start our model building by identifying the most important features using Random Forest Classifier. The most important features are the features that have the biggest impact on churn. After identifying these features, we will be able to test other models in a faster and more convenient way.  "
   ]
  },
  {
   "cell_type": "markdown",
   "metadata": {},
   "source": [
    "##### Random Forest Classifier"
   ]
  },
  {
   "cell_type": "markdown",
   "metadata": {},
   "source": [
    "A random forest is a meta estimator that fits a number of decision tree classifiers on various sub-samples of the dataset and uses averaging to improve the predictive accuracy and control over-fitting. As they use a collection of results to make a final decision, they are referred to as Ensemble techniques."
   ]
  },
  {
   "cell_type": "code",
   "execution_count": 15,
   "metadata": {
    "ExecuteTime": {
     "end_time": "2020-05-31T18:51:06.596024Z",
     "start_time": "2020-05-31T18:50:43.723835Z"
    }
   },
   "outputs": [
    {
     "name": "stdout",
     "output_type": "stream",
     "text": [
      "**RandomForestClassifier** results \n",
      "\n",
      "Confusion Matrix of test data\n"
     ]
    },
    {
     "data": {
      "image/png": "[encoded data removed]",
      "text/plain": [
       "<Figure size 576x360 with 2 Axes>"
      ]
     },
     "metadata": {
      "needs_background": "light"
     },
     "output_type": "display_data"
    },
    {
     "name": "stdout",
     "output_type": "stream",
     "text": [
      "Classifictation Report of test data \n",
      "\n",
      "              precision    recall  f1-score   support\n",
      "\n",
      "           0       0.54      0.46      0.49      3597\n",
      "           1       0.59      0.67      0.63      4210\n",
      "\n",
      "    accuracy                           0.57      7807\n",
      "   macro avg       0.56      0.56      0.56      7807\n",
      "weighted avg       0.57      0.57      0.57      7807\n",
      " \n",
      "\n",
      "Main model evaluation metrics with cross validation (train and test data) \n",
      "\n",
      "    data                   model  accuracy  precision    recall   f1score    rocauc\n",
      "0  train  RandomForestClassifier  0.614191   0.595107  0.920150  0.722758  0.685069\n",
      "1   test  RandomForestClassifier  0.612912   0.605699  0.809264  0.692669  0.666563\n"
     ]
    }
   ],
   "source": [
    "estimator = RandomForestClassifier(criterion='entropy', \n",
    "                                   max_depth=2, \n",
    "                                   max_features='auto', \n",
    "                                   n_estimators=200, \n",
    "                                   random_state=42) \n",
    "\n",
    "estimator_name = 'RandomForestClassifier'\n",
    "\n",
    "pipeline = Pipeline([('scaler', StandardScaler()), ('clf', estimator)])\n",
    "model_results_tr_ts(pipeline, X_train, y_train, X_test, y_test, estimator_name)"
   ]
  },
  {
   "cell_type": "markdown",
   "metadata": {},
   "source": [
    "We have F1 Score 0.69 (after cross-validation). Considering low correlation and low variability of our data (as explained in the exploratory data analysis), it was expected.\n",
    "\n",
    "- We now have 2815(TP)/4210 = 0.67% prediction of customers who churn and they will actually churn (recall).\n",
    "- We have 1395(FN)/4210 = 0.33% prediction of customers who will not churn but they will actually churn. Our goal is to have this number as low as possible. \n",
    "- There are 1959 customers who are predicted to churn but they will actually not churn (FP). It’s 1959/7807 = 0.25% of all customers. We will be investing in these customers thinking that they will churn but they will actually not. Ideally, this number should also be as low as possible. But in our case, it’s better to have more customers predicted as false positive (thinking that they churn but they don't), instead of having a lot of customers who are predicted to not churn, but they actually will (FN). We don’t want to lose opportunities by not acting on time with these customers. \n",
    "\n",
    "Now let's look which features are most important and have the biggest impact on churn:"
   ]
  },
  {
   "cell_type": "markdown",
   "metadata": {
    "ExecuteTime": {
     "end_time": "2020-05-27T12:10:50.887402Z",
     "start_time": "2020-05-27T12:10:50.880076Z"
    }
   },
   "source": [
    "##### Feature importance"
   ]
  },
  {
   "cell_type": "code",
   "execution_count": 16,
   "metadata": {
    "ExecuteTime": {
     "end_time": "2020-05-31T18:51:06.802535Z",
     "start_time": "2020-05-31T18:51:06.598018Z"
    }
   },
   "outputs": [
    {
     "data": {
      "image/png": "[encoded data removed]",
      "text/plain": [
       "<Figure size 720x720 with 1 Axes>"
      ]
     },
     "metadata": {
      "needs_background": "light"
     },
     "output_type": "display_data"
    }
   ],
   "source": [
    "feat_importances = pd.Series(pipeline.steps[1][1].feature_importances_, \n",
    "                             index=df_encoded.drop(['churned_1_month', 'reg_year'], axis=1).columns)\n",
    "\n",
    "feat_importances.nlargest(25).sort_values().plot(kind='barh', color='#1fb299')\n",
    "plt.show()"
   ]
  },
  {
   "cell_type": "markdown",
   "metadata": {},
   "source": [
    "We can see that **the most important feature is newsletter**. This feature indicates if a customer is subscribed to the newsletters or not. From the exploratory data analysis, we saw that those that don't subscribe to the newsletter tend to cancel less. It could be a signal that the email marketing strategy is too abusing and making customers cancel, rather than keeping them engaged.\n",
    "\n",
    "The second important feature is **master_channel_f**, it's also matching with our insights when doing the exploratory data analysis, where we saw that this channel has a much higher number of churned users compared to the rest. It could be that a different marketing strategy is being used to acquire new customers through this channel that is making customers churn a lot more compared to the rest. The company should keep an eye on this channel and maybe adjust their strategy, unless the risk is being calculated and other metrics (such as maybe a low cost) is still keeping the channel profitable.\n",
    "\n",
    "**Registration payment** is also important, it makes sense to have it between the top most important features because it usually influences customer behavior a lot. Lower the price a lot and you will have a lot of new customers but they will cancel a lot more, increase the price and customers will stay longer but you might have very little new ones entering. The idea here is to find the silver lining between the two and see what works best for the company. \n",
    "\n",
    "Next to the registration payment, we have the feature **with promotion**. It indicates if the customer used the promotion or not. \n",
    "\n",
    "As seen in the previous analysis, we have a significant difference between the two **sex** categories. We have a lot lower number of gender '1' and also it tends to churn more after the first month compared to category '0'.  "
   ]
  },
  {
   "cell_type": "markdown",
   "metadata": {},
   "source": [
    "##### Selecting important features for the future analysis"
   ]
  },
  {
   "cell_type": "markdown",
   "metadata": {},
   "source": [
    "In the previous step, we have created a random feature to be used when creating a list of the most important features. We can see that the random feature is in position 25. We will use it to create a long list of important features.\n",
    "\n",
    "We will create a short list by applying the elbow method. In this case, we can see that email_domain_ce is the elbow of our curve."
   ]
  },
  {
   "cell_type": "code",
   "execution_count": 17,
   "metadata": {
    "ExecuteTime": {
     "end_time": "2020-05-31T18:51:06.809895Z",
     "start_time": "2020-05-31T18:51:06.803911Z"
    }
   },
   "outputs": [],
   "source": [
    "# The lists of the important features\n",
    "\n",
    "imp_features_to_filter_short = ['newsletter', 'master_channel_f', 'registration_payment', \n",
    "                                'with_promotion', 'sex', 'master_channel_a','master_channel_e', \n",
    "                                'master_channel_de', 'age', 'income_per_region', 'master_channel_s', \n",
    "                                'email_domain_ce', 'reg_year', 'churned_1_month']\n",
    "\n",
    "imp_features_to_filter_long = ['newsletter', 'master_channel_f', 'registration_payment', \n",
    "                               'with_promotion', 'sex', 'master_channel_a','master_channel_e', \n",
    "                               'master_channel_de', 'age', 'income_per_region', 'master_channel_s', \n",
    "                               'email_domain_ce', 'email_domain_oe', 'is_lead', 'population_per_region',\n",
    "                               'days_from_first_click', 'email_domain_ge', 'email_domain_ae', \n",
    "                               'box_satisfaction', 'reg_month_b', 'master_channel_ps', 'reg_month_c',\n",
    "                               'email_domain_hc', 'reg_month_k', 'reg_year', 'churned_1_month']"
   ]
  },
  {
   "cell_type": "markdown",
   "metadata": {},
   "source": [
    "We will use both lists with various algorithms to understand which list works best."
   ]
  },
  {
   "cell_type": "markdown",
   "metadata": {},
   "source": [
    "##### Random tree visualization"
   ]
  },
  {
   "cell_type": "markdown",
   "metadata": {},
   "source": [
    "To understand how Random Forest works we will visualize one random tree of the forest:"
   ]
  },
  {
   "cell_type": "code",
   "execution_count": 18,
   "metadata": {
    "ExecuteTime": {
     "end_time": "2020-05-31T18:51:07.841144Z",
     "start_time": "2020-05-31T18:51:06.810910Z"
    }
   },
   "outputs": [
    {
     "data": {
      "image/png": "[encoded data removed]",
      "text/plain": [
       "<IPython.core.display.Image object>"
      ]
     },
     "execution_count": 18,
     "metadata": {},
     "output_type": "execute_result"
    }
   ],
   "source": [
    "model = RandomForestClassifier(criterion='entropy', \n",
    "                               max_depth=2, \n",
    "                               max_features='auto', \n",
    "                               n_estimators=200, \n",
    "                               random_state=42) \n",
    "# Train\n",
    "model.fit(X_train, y_train)\n",
    "\n",
    "# Extract single tree\n",
    "estimator = model.estimators_[2]\n",
    "\n",
    "# Export as dot file\n",
    "dot_data = StringIO()\n",
    "export_graphviz(estimator, out_file=dot_data, \n",
    "                feature_names = df_encoded.drop(['churned_1_month', 'reg_year'], axis=1).columns,\n",
    "                class_names = ['not_churned', 'churned'],\n",
    "                rounded=True, proportion=False, precision=2, filled=True)\n",
    "\n",
    "graph = pydotplus.graph_from_dot_data(dot_data.getvalue())  \n",
    "Image(graph.create_png())"
   ]
  },
  {
   "cell_type": "markdown",
   "metadata": {},
   "source": [
    "## Testing models with different lists of features"
   ]
  },
  {
   "cell_type": "markdown",
   "metadata": {},
   "source": [
    "After selecting the most important features we can run multiple algorithms to see which ones work best to solve our problem. We will filter our dataset to work only with the most important features identified above.\n",
    "\n",
    "We will first run the models with the short list and later we will run them with the long, to see if there is any impact on the results."
   ]
  },
  {
   "cell_type": "code",
   "execution_count": 19,
   "metadata": {
    "ExecuteTime": {
     "end_time": "2020-05-31T18:51:07.853113Z",
     "start_time": "2020-05-31T18:51:07.843138Z"
    }
   },
   "outputs": [
    {
     "name": "stdout",
     "output_type": "stream",
     "text": [
      "Dataset shape with the short list of feature importance (26184, 14)\n",
      "Dataset shape with the long list of feature importance (26184, 26)\n"
     ]
    }
   ],
   "source": [
    "df_encoded_short = df_encoded[imp_features_to_filter_short]\n",
    "df_encoded_long = df_encoded[imp_features_to_filter_long]\n",
    "print(f'Dataset shape with the short list of feature importance {df_encoded_short.shape}')\n",
    "print(f'Dataset shape with the long list of feature importance {df_encoded_long.shape}')"
   ]
  },
  {
   "cell_type": "markdown",
   "metadata": {},
   "source": [
    "### Using the short list of feature importance"
   ]
  },
  {
   "cell_type": "markdown",
   "metadata": {},
   "source": [
    "We will be splitting our dataset to train and test sets again with the filter of the most important features."
   ]
  },
  {
   "cell_type": "code",
   "execution_count": 20,
   "metadata": {
    "ExecuteTime": {
     "end_time": "2020-05-31T18:51:07.876079Z",
     "start_time": "2020-05-31T18:51:07.855108Z"
    }
   },
   "outputs": [
    {
     "name": "stdout",
     "output_type": "stream",
     "text": [
      "Training data shape: (18377, 12)\n",
      "Testing data shape: (7807, 12)\n"
     ]
    }
   ],
   "source": [
    "# Train data\n",
    "\n",
    "year = [2017, 2018]\n",
    "train = df_encoded_short.loc[df_encoded_short.reg_year.apply(lambda x: x in year)]\n",
    "\n",
    "to_drop = ['churned_1_month', 'reg_year']\n",
    "X_train = train.drop(to_drop, axis=1)\n",
    "y_train = train['churned_1_month']\n",
    "\n",
    "print(f'Training data shape: {X_train.shape}')\n",
    "\n",
    "# Test data\n",
    "\n",
    "year = [2019]\n",
    "test = df_encoded_short.loc[df_encoded_short.reg_year.apply(lambda x: x in year)]\n",
    "\n",
    "to_drop = ['churned_1_month', 'reg_year']\n",
    "X_test = test.drop(to_drop, axis=1)\n",
    "y_test = test['churned_1_month']\n",
    "\n",
    "print(f'Testing data shape: {X_test.shape}')"
   ]
  },
  {
   "cell_type": "markdown",
   "metadata": {},
   "source": [
    "We will be scaling our data using the Standard Scaler. Other scalers will be tested in the later Model Tuning step, once the best performing models are identified. "
   ]
  },
  {
   "cell_type": "code",
   "execution_count": 21,
   "metadata": {
    "ExecuteTime": {
     "end_time": "2020-05-31T18:51:07.892339Z",
     "start_time": "2020-05-31T18:51:07.877076Z"
    }
   },
   "outputs": [],
   "source": [
    "# Scaling X\n",
    "\n",
    "X_train = StandardScaler().fit_transform(X_train)\n",
    "X_test = StandardScaler().fit_transform(X_test)"
   ]
  },
  {
   "cell_type": "markdown",
   "metadata": {
    "ExecuteTime": {
     "end_time": "2020-05-24T13:02:56.543971Z",
     "start_time": "2020-05-24T13:02:56.540980Z"
    }
   },
   "source": [
    "#### Models with default parameters"
   ]
  },
  {
   "cell_type": "code",
   "execution_count": 22,
   "metadata": {
    "ExecuteTime": {
     "end_time": "2020-05-31T18:52:24.949044Z",
     "start_time": "2020-05-31T18:51:07.893070Z"
    }
   },
   "outputs": [
    {
     "data": {
      "text/html": [
       "<div>\n",
       "<style scoped>\n",
       "    .dataframe tbody tr th:only-of-type {\n",
       "        vertical-align: middle;\n",
       "    }\n",
       "\n",
       "    .dataframe tbody tr th {\n",
       "        vertical-align: top;\n",
       "    }\n",
       "\n",
       "    .dataframe thead th {\n",
       "        text-align: right;\n",
       "    }\n",
       "</style>\n",
       "<table border=\"1\" class=\"dataframe\">\n",
       "  <thead>\n",
       "    <tr style=\"text-align: right;\">\n",
       "      <th></th>\n",
       "      <th>data</th>\n",
       "      <th>model</th>\n",
       "      <th>accuracy</th>\n",
       "      <th>precision</th>\n",
       "      <th>recall</th>\n",
       "      <th>f1score</th>\n",
       "      <th>rocauc</th>\n",
       "    </tr>\n",
       "  </thead>\n",
       "  <tbody>\n",
       "    <tr>\n",
       "      <td>0</td>\n",
       "      <td>test</td>\n",
       "      <td>RandomForestClassifier</td>\n",
       "      <td>0.576405</td>\n",
       "      <td>0.607527</td>\n",
       "      <td>0.605463</td>\n",
       "      <td>0.606361</td>\n",
       "      <td>0.603095</td>\n",
       "    </tr>\n",
       "    <tr>\n",
       "      <td>1</td>\n",
       "      <td>test</td>\n",
       "      <td>XGBClassifier</td>\n",
       "      <td>0.636608</td>\n",
       "      <td>0.649522</td>\n",
       "      <td>0.708314</td>\n",
       "      <td>0.677539</td>\n",
       "      <td>0.676775</td>\n",
       "    </tr>\n",
       "    <tr>\n",
       "      <td>2</td>\n",
       "      <td>test</td>\n",
       "      <td>ExtraTreesClassifier</td>\n",
       "      <td>0.568079</td>\n",
       "      <td>0.607669</td>\n",
       "      <td>0.561758</td>\n",
       "      <td>0.583788</td>\n",
       "      <td>0.591827</td>\n",
       "    </tr>\n",
       "    <tr>\n",
       "      <td>3</td>\n",
       "      <td>test</td>\n",
       "      <td>LGBMClassifier</td>\n",
       "      <td>0.627771</td>\n",
       "      <td>0.646841</td>\n",
       "      <td>0.681948</td>\n",
       "      <td>0.663836</td>\n",
       "      <td>0.665970</td>\n",
       "    </tr>\n",
       "    <tr>\n",
       "      <td>4</td>\n",
       "      <td>test</td>\n",
       "      <td>LogisticRegression</td>\n",
       "      <td>0.624956</td>\n",
       "      <td>0.651095</td>\n",
       "      <td>0.655819</td>\n",
       "      <td>0.653398</td>\n",
       "      <td>0.664781</td>\n",
       "    </tr>\n",
       "    <tr>\n",
       "      <td>5</td>\n",
       "      <td>test</td>\n",
       "      <td>SVC</td>\n",
       "      <td>0.630589</td>\n",
       "      <td>0.657827</td>\n",
       "      <td>0.656295</td>\n",
       "      <td>0.656914</td>\n",
       "      <td>0.660952</td>\n",
       "    </tr>\n",
       "    <tr>\n",
       "      <td>6</td>\n",
       "      <td>test</td>\n",
       "      <td>KNeighborsClassifier</td>\n",
       "      <td>0.595106</td>\n",
       "      <td>0.619185</td>\n",
       "      <td>0.647743</td>\n",
       "      <td>0.633029</td>\n",
       "      <td>0.618156</td>\n",
       "    </tr>\n",
       "    <tr>\n",
       "      <td>7</td>\n",
       "      <td>test</td>\n",
       "      <td>DecisionTreeClassifier</td>\n",
       "      <td>0.560009</td>\n",
       "      <td>0.601324</td>\n",
       "      <td>0.546793</td>\n",
       "      <td>0.572650</td>\n",
       "      <td>0.572079</td>\n",
       "    </tr>\n",
       "    <tr>\n",
       "      <td>8</td>\n",
       "      <td>test</td>\n",
       "      <td>LinearSVC</td>\n",
       "      <td>0.624956</td>\n",
       "      <td>0.652143</td>\n",
       "      <td>0.652494</td>\n",
       "      <td>0.652263</td>\n",
       "      <td>0.664859</td>\n",
       "    </tr>\n",
       "  </tbody>\n",
       "</table>\n",
       "</div>"
      ],
      "text/plain": [
       "   data                   model  accuracy  precision    recall   f1score  \\\n",
       "0  test  RandomForestClassifier  0.576405   0.607527  0.605463  0.606361   \n",
       "1  test           XGBClassifier  0.636608   0.649522  0.708314  0.677539   \n",
       "2  test    ExtraTreesClassifier  0.568079   0.607669  0.561758  0.583788   \n",
       "3  test          LGBMClassifier  0.627771   0.646841  0.681948  0.663836   \n",
       "4  test      LogisticRegression  0.624956   0.651095  0.655819  0.653398   \n",
       "5  test                     SVC  0.630589   0.657827  0.656295  0.656914   \n",
       "6  test    KNeighborsClassifier  0.595106   0.619185  0.647743  0.633029   \n",
       "7  test  DecisionTreeClassifier  0.560009   0.601324  0.546793  0.572650   \n",
       "8  test               LinearSVC  0.624956   0.652143  0.652494  0.652263   \n",
       "\n",
       "     rocauc  \n",
       "0  0.603095  \n",
       "1  0.676775  \n",
       "2  0.591827  \n",
       "3  0.665970  \n",
       "4  0.664781  \n",
       "5  0.660952  \n",
       "6  0.618156  \n",
       "7  0.572079  \n",
       "8  0.664859  "
      ]
     },
     "execution_count": 22,
     "metadata": {},
     "output_type": "execute_result"
    }
   ],
   "source": [
    "models = {'RandomForestClassifier': RandomForestClassifier(random_state=42),\n",
    "          'XGBClassifier': XGBClassifier(random_state=42),\n",
    "          'ExtraTreesClassifier': ExtraTreesClassifier(random_state=42),\n",
    "          'LGBMClassifier': LGBMClassifier(random_state=42), \n",
    "          'LogisticRegression': LogisticRegression(random_state=42), \n",
    "          'SVC': SVC(random_state=42),\n",
    "          'KNeighborsClassifier': KNeighborsClassifier(),\n",
    "          'DecisionTreeClassifier': DecisionTreeClassifier(random_state=42),\n",
    "          'LinearSVC': LinearSVC(random_state=42),\n",
    "         }\n",
    "\n",
    "models_df_test = pd.concat([model_results_test_df(model, X_train, y_train, X_test, y_test, name) for (name, model) in models.items()])\n",
    "models_df_test.reset_index(inplace=True, drop=True)\n",
    "models_df_test"
   ]
  },
  {
   "cell_type": "markdown",
   "metadata": {},
   "source": [
    "**On the test set, with the default parameters we have these models performing best**:\n",
    "- Extreme Gradient Boosting Classifier, \n",
    "- Light Gradient Boosting Machine Classifier, \n",
    "- Logistic Regression, \n",
    "- Support Vector Classification, \n",
    "- Linear Support Vector Classification\n",
    "\n",
    "We will run hyperparameter tuning on each model to make sure that our top selection is the best and we can really focus on these models."
   ]
  },
  {
   "cell_type": "markdown",
   "metadata": {},
   "source": [
    "#### Models with hyperparameter tuning"
   ]
  },
  {
   "cell_type": "code",
   "execution_count": 23,
   "metadata": {
    "ExecuteTime": {
     "end_time": "2020-05-31T18:59:17.505922Z",
     "start_time": "2020-05-31T18:52:24.954031Z"
    },
    "scrolled": true
   },
   "outputs": [
    {
     "name": "stdout",
     "output_type": "stream",
     "text": [
      "\n",
      " **RandomForestClassifier** results \n",
      "\n",
      "Confusion Matrix of test data\n"
     ]
    },
    {
     "data": {
      "image/png": "[encoded data removed]",
      "text/plain": [
       "<Figure size 576x360 with 2 Axes>"
      ]
     },
     "metadata": {
      "needs_background": "light"
     },
     "output_type": "display_data"
    },
    {
     "name": "stdout",
     "output_type": "stream",
     "text": [
      "Classifictation Report of test data \n",
      "\n",
      "              precision    recall  f1-score   support\n",
      "\n",
      "           0       0.51      0.51      0.51      3597\n",
      "           1       0.58      0.58      0.58      4210\n",
      "\n",
      "    accuracy                           0.55      7807\n",
      "   macro avg       0.54      0.54      0.54      7807\n",
      "weighted avg       0.55      0.55      0.55      7807\n",
      " \n",
      "\n",
      "Best parameters: {'criterion': 'gini', 'max_depth': 2, 'max_features': 'auto', 'n_estimators': 100}\n",
      "\n",
      " **XGBClassifier** results \n",
      "\n",
      "Confusion Matrix of test data\n"
     ]
    },
    {
     "data": {
      "image/png": "[encoded data removed]",
      "text/plain": [
       "<Figure size 576x360 with 2 Axes>"
      ]
     },
     "metadata": {
      "needs_background": "light"
     },
     "output_type": "display_data"
    },
    {
     "name": "stdout",
     "output_type": "stream",
     "text": [
      "Classifictation Report of test data \n",
      "\n",
      "              precision    recall  f1-score   support\n",
      "\n",
      "           0       0.53      0.66      0.59      3597\n",
      "           1       0.64      0.50      0.56      4210\n",
      "\n",
      "    accuracy                           0.58      7807\n",
      "   macro avg       0.59      0.58      0.58      7807\n",
      "weighted avg       0.59      0.58      0.58      7807\n",
      " \n",
      "\n",
      "Best parameters: {'learning_rate': 0.01, 'max_depth': 7, 'n_estimators': 300, 'reg_alpha': 0.3}\n",
      "\n",
      " **ExtraTreesClassifier** results \n",
      "\n",
      "Confusion Matrix of test data\n"
     ]
    },
    {
     "data": {
      "image/png": "[encoded data removed]",
      "text/plain": [
       "<Figure size 576x360 with 2 Axes>"
      ]
     },
     "metadata": {
      "needs_background": "light"
     },
     "output_type": "display_data"
    },
    {
     "name": "stdout",
     "output_type": "stream",
     "text": [
      "Classifictation Report of test data \n",
      "\n",
      "              precision    recall  f1-score   support\n",
      "\n",
      "           0       0.55      0.57      0.56      3597\n",
      "           1       0.62      0.60      0.61      4210\n",
      "\n",
      "    accuracy                           0.59      7807\n",
      "   macro avg       0.59      0.59      0.59      7807\n",
      "weighted avg       0.59      0.59      0.59      7807\n",
      " \n",
      "\n",
      "Best parameters: {'max_features': 'auto', 'min_samples_split': 6, 'n_estimators': 100}\n",
      "\n",
      " **LGBMClassifier** results \n",
      "\n",
      "Confusion Matrix of test data\n"
     ]
    },
    {
     "data": {
      "image/png": "[encoded data removed]",
      "text/plain": [
       "<Figure size 576x360 with 2 Axes>"
      ]
     },
     "metadata": {
      "needs_background": "light"
     },
     "output_type": "display_data"
    },
    {
     "name": "stdout",
     "output_type": "stream",
     "text": [
      "Classifictation Report of test data \n",
      "\n",
      "              precision    recall  f1-score   support\n",
      "\n",
      "           0       0.51      0.89      0.65      3597\n",
      "           1       0.74      0.26      0.38      4210\n",
      "\n",
      "    accuracy                           0.55      7807\n",
      "   macro avg       0.62      0.58      0.51      7807\n",
      "weighted avg       0.63      0.55      0.50      7807\n",
      " \n",
      "\n",
      "Best parameters: {'min_child_samples': 40, 'min_child_weight': 1e-05, 'num_leaves': 10, 'reg_alpha': 5, 'reg_lambda': 0.1}\n",
      "\n",
      " **LogisticRegression** results \n",
      "\n",
      "Confusion Matrix of test data\n"
     ]
    },
    {
     "data": {
      "image/png": "[encoded data removed]",
      "text/plain": [
       "<Figure size 576x360 with 2 Axes>"
      ]
     },
     "metadata": {
      "needs_background": "light"
     },
     "output_type": "display_data"
    },
    {
     "name": "stdout",
     "output_type": "stream",
     "text": [
      "Classifictation Report of test data \n",
      "\n",
      "              precision    recall  f1-score   support\n",
      "\n",
      "           0       0.00      0.00      0.00      3597\n",
      "           1       0.54      1.00      0.70      4210\n",
      "\n",
      "    accuracy                           0.54      7807\n",
      "   macro avg       0.27      0.50      0.35      7807\n",
      "weighted avg       0.29      0.54      0.38      7807\n",
      " \n",
      "\n",
      "Best parameters: {'C': 0.001, 'multi_class': 'ovr', 'penalty': 'l1', 'solver': 'saga'}\n",
      "\n",
      " **SVC** results \n",
      "\n",
      "Confusion Matrix of test data\n"
     ]
    },
    {
     "data": {
      "image/png": "[encoded data removed]",
      "text/plain": [
       "<Figure size 576x360 with 2 Axes>"
      ]
     },
     "metadata": {
      "needs_background": "light"
     },
     "output_type": "display_data"
    },
    {
     "name": "stdout",
     "output_type": "stream",
     "text": [
      "Classifictation Report of test data \n",
      "\n",
      "              precision    recall  f1-score   support\n",
      "\n",
      "           0       0.56      0.53      0.55      3597\n",
      "           1       0.62      0.64      0.63      4210\n",
      "\n",
      "    accuracy                           0.59      7807\n",
      "   macro avg       0.59      0.59      0.59      7807\n",
      "weighted avg       0.59      0.59      0.59      7807\n",
      " \n",
      "\n",
      "Best parameters: {'C': 1, 'gamma': 0.1, 'kernel': 'rbf'}\n",
      "\n",
      " **KNeighborsClassifier** results \n",
      "\n",
      "Confusion Matrix of test data\n"
     ]
    },
    {
     "data": {
      "image/png": "[encoded data removed]",
      "text/plain": [
       "<Figure size 576x360 with 2 Axes>"
      ]
     },
     "metadata": {
      "needs_background": "light"
     },
     "output_type": "display_data"
    },
    {
     "name": "stdout",
     "output_type": "stream",
     "text": [
      "Classifictation Report of test data \n",
      "\n",
      "              precision    recall  f1-score   support\n",
      "\n",
      "           0       0.57      0.48      0.53      3597\n",
      "           1       0.61      0.69      0.65      4210\n",
      "\n",
      "    accuracy                           0.60      7807\n",
      "   macro avg       0.59      0.59      0.59      7807\n",
      "weighted avg       0.59      0.60      0.59      7807\n",
      " \n",
      "\n",
      "Best parameters: {'metric': 'manhattan', 'n_neighbors': 19, 'weights': 'uniform'}\n",
      "\n",
      " **DecisionTreeClassifier** results \n",
      "\n",
      "Confusion Matrix of test data\n"
     ]
    },
    {
     "data": {
      "image/png": "[encoded data removed]",
      "text/plain": [
       "<Figure size 576x360 with 2 Axes>"
      ]
     },
     "metadata": {
      "needs_background": "light"
     },
     "output_type": "display_data"
    },
    {
     "name": "stdout",
     "output_type": "stream",
     "text": [
      "Classifictation Report of test data \n",
      "\n",
      "              precision    recall  f1-score   support\n",
      "\n",
      "           0       0.47      0.56      0.51      3597\n",
      "           1       0.55      0.47      0.51      4210\n",
      "\n",
      "    accuracy                           0.51      7807\n",
      "   macro avg       0.51      0.51      0.51      7807\n",
      "weighted avg       0.52      0.51      0.51      7807\n",
      " \n",
      "\n",
      "Best parameters: {'criterion': 'gini', 'max_depth': 4, 'splitter': 'best'}\n",
      "\n",
      " **LinearSVC** results \n",
      "\n",
      "Confusion Matrix of test data\n"
     ]
    },
    {
     "data": {
      "image/png": "[encoded data removed]",
      "text/plain": [
       "<Figure size 576x360 with 2 Axes>"
      ]
     },
     "metadata": {
      "needs_background": "light"
     },
     "output_type": "display_data"
    },
    {
     "name": "stdout",
     "output_type": "stream",
     "text": [
      "Classifictation Report of test data \n",
      "\n",
      "              precision    recall  f1-score   support\n",
      "\n",
      "           0       0.48      0.57      0.52      3597\n",
      "           1       0.56      0.47      0.51      4210\n",
      "\n",
      "    accuracy                           0.51      7807\n",
      "   macro avg       0.52      0.52      0.51      7807\n",
      "weighted avg       0.52      0.51      0.51      7807\n",
      " \n",
      "\n",
      "Best parameters: {'C': 0.001, 'dual': 0, 'loss': 'squared_hinge', 'multi_class': 'crammer_singer', 'penalty': 'l1'}\n"
     ]
    },
    {
     "data": {
      "text/html": [
       "<div>\n",
       "<style scoped>\n",
       "    .dataframe tbody tr th:only-of-type {\n",
       "        vertical-align: middle;\n",
       "    }\n",
       "\n",
       "    .dataframe tbody tr th {\n",
       "        vertical-align: top;\n",
       "    }\n",
       "\n",
       "    .dataframe thead th {\n",
       "        text-align: right;\n",
       "    }\n",
       "</style>\n",
       "<table border=\"1\" class=\"dataframe\">\n",
       "  <thead>\n",
       "    <tr style=\"text-align: right;\">\n",
       "      <th></th>\n",
       "      <th>data</th>\n",
       "      <th>model</th>\n",
       "      <th>accuracy</th>\n",
       "      <th>precision</th>\n",
       "      <th>recall</th>\n",
       "      <th>f1score</th>\n",
       "      <th>rocauc</th>\n",
       "    </tr>\n",
       "  </thead>\n",
       "  <tbody>\n",
       "    <tr>\n",
       "      <td>0</td>\n",
       "      <td>test</td>\n",
       "      <td>RandomForestClassifier</td>\n",
       "      <td>0.604845</td>\n",
       "      <td>0.602514</td>\n",
       "      <td>0.787173</td>\n",
       "      <td>0.682165</td>\n",
       "      <td>0.661088</td>\n",
       "    </tr>\n",
       "    <tr>\n",
       "      <td>1</td>\n",
       "      <td>test</td>\n",
       "      <td>XGBClassifier</td>\n",
       "      <td>0.633279</td>\n",
       "      <td>0.657268</td>\n",
       "      <td>0.668409</td>\n",
       "      <td>0.662576</td>\n",
       "      <td>0.673515</td>\n",
       "    </tr>\n",
       "    <tr>\n",
       "      <td>2</td>\n",
       "      <td>test</td>\n",
       "      <td>ExtraTreesClassifier</td>\n",
       "      <td>0.591393</td>\n",
       "      <td>0.617941</td>\n",
       "      <td>0.634679</td>\n",
       "      <td>0.626046</td>\n",
       "      <td>0.624999</td>\n",
       "    </tr>\n",
       "    <tr>\n",
       "      <td>3</td>\n",
       "      <td>test</td>\n",
       "      <td>LGBMClassifier</td>\n",
       "      <td>0.632510</td>\n",
       "      <td>0.646383</td>\n",
       "      <td>0.703563</td>\n",
       "      <td>0.673634</td>\n",
       "      <td>0.674003</td>\n",
       "    </tr>\n",
       "    <tr>\n",
       "      <td>4</td>\n",
       "      <td>test</td>\n",
       "      <td>LogisticRegression</td>\n",
       "      <td>0.539260</td>\n",
       "      <td>0.539260</td>\n",
       "      <td>1.000000</td>\n",
       "      <td>0.700674</td>\n",
       "      <td>0.500000</td>\n",
       "    </tr>\n",
       "    <tr>\n",
       "      <td>5</td>\n",
       "      <td>test</td>\n",
       "      <td>SVC</td>\n",
       "      <td>0.628796</td>\n",
       "      <td>0.655044</td>\n",
       "      <td>0.658195</td>\n",
       "      <td>0.656490</td>\n",
       "      <td>0.659809</td>\n",
       "    </tr>\n",
       "    <tr>\n",
       "      <td>6</td>\n",
       "      <td>test</td>\n",
       "      <td>KNeighborsClassifier</td>\n",
       "      <td>0.622647</td>\n",
       "      <td>0.642898</td>\n",
       "      <td>0.675534</td>\n",
       "      <td>0.658674</td>\n",
       "      <td>0.658949</td>\n",
       "    </tr>\n",
       "    <tr>\n",
       "      <td>7</td>\n",
       "      <td>test</td>\n",
       "      <td>DecisionTreeClassifier</td>\n",
       "      <td>0.617907</td>\n",
       "      <td>0.665596</td>\n",
       "      <td>0.590261</td>\n",
       "      <td>0.623791</td>\n",
       "      <td>0.651300</td>\n",
       "    </tr>\n",
       "    <tr>\n",
       "      <td>8</td>\n",
       "      <td>test</td>\n",
       "      <td>LinearSVC</td>\n",
       "      <td>0.610352</td>\n",
       "      <td>0.613322</td>\n",
       "      <td>0.751069</td>\n",
       "      <td>0.675181</td>\n",
       "      <td>0.647461</td>\n",
       "    </tr>\n",
       "  </tbody>\n",
       "</table>\n",
       "</div>"
      ],
      "text/plain": [
       "   data                   model  accuracy  precision    recall   f1score  \\\n",
       "0  test  RandomForestClassifier  0.604845   0.602514  0.787173  0.682165   \n",
       "1  test           XGBClassifier  0.633279   0.657268  0.668409  0.662576   \n",
       "2  test    ExtraTreesClassifier  0.591393   0.617941  0.634679  0.626046   \n",
       "3  test          LGBMClassifier  0.632510   0.646383  0.703563  0.673634   \n",
       "4  test      LogisticRegression  0.539260   0.539260  1.000000  0.700674   \n",
       "5  test                     SVC  0.628796   0.655044  0.658195  0.656490   \n",
       "6  test    KNeighborsClassifier  0.622647   0.642898  0.675534  0.658674   \n",
       "7  test  DecisionTreeClassifier  0.617907   0.665596  0.590261  0.623791   \n",
       "8  test               LinearSVC  0.610352   0.613322  0.751069  0.675181   \n",
       "\n",
       "     rocauc  \n",
       "0  0.661088  \n",
       "1  0.673515  \n",
       "2  0.624999  \n",
       "3  0.674003  \n",
       "4  0.500000  \n",
       "5  0.659809  \n",
       "6  0.658949  \n",
       "7  0.651300  \n",
       "8  0.647461  "
      ]
     },
     "execution_count": 23,
     "metadata": {},
     "output_type": "execute_result"
    }
   ],
   "source": [
    "# Defining models\n",
    "models = {'RandomForestClassifier': RandomForestClassifier(random_state=42),\n",
    "          'XGBClassifier': XGBClassifier(random_state=42),\n",
    "          'ExtraTreesClassifier': ExtraTreesClassifier(random_state=42),\n",
    "          'LGBMClassifier': LGBMClassifier(random_state=42), \n",
    "          'LogisticRegression': LogisticRegression(random_state=42), \n",
    "          'SVC': SVC(random_state=42),\n",
    "          'KNeighborsClassifier': KNeighborsClassifier(),\n",
    "          'DecisionTreeClassifier': DecisionTreeClassifier(random_state=42),\n",
    "          'LinearSVC': LinearSVC(random_state=42),\n",
    "         }\n",
    "\n",
    "# Defining values for the parameters\n",
    "random_grid = {'n_estimators': [100, 200, 300],\n",
    "              'max_features': ['auto', 'sqrt', 'log2'],\n",
    "              'max_depth' : [2, 5, 10],\n",
    "              'criterion' :['gini', 'entropy']}\n",
    "\n",
    "xgb_grid   = {'learning_rate': [0.01],\n",
    "              'n_estimators': [300, 700],\n",
    "              'max_depth':[7, 8],\n",
    "              'reg_alpha':[0.3, 0.4]}\n",
    "\n",
    "extra_grid = {'n_estimators': [20, 50, 100],\n",
    "             'max_features': ['auto', 'sqrt', 'log2'],\n",
    "             'min_samples_split': [2, 4, 6]}\n",
    "\n",
    "lgbm_grid  = {'num_leaves': [10, 30, 50], \n",
    "             'min_child_samples': [20, 40, 60], \n",
    "             'min_child_weight': [1e-5, 1e-3, 1e-2],\n",
    "             'reg_alpha': [1e-1, 5],\n",
    "             'reg_lambda': [1e-1, 5]}\n",
    "\n",
    "c_values   = list(10.0**np.arange(-3, 3))\n",
    "log_grid   = [{'C': c_values,\n",
    "              'penalty': ['l2'],\n",
    "              'solver' : ['liblinear', 'newton-cg', 'lbfgs', 'sag', 'saga'],\n",
    "              'multi_class': ['ovr', 'warn']},\n",
    "              {'C': c_values,\n",
    "              'penalty': ['l1'],\n",
    "              'solver' : ['liblinear', 'saga'],\n",
    "              'multi_class': ['ovr', 'warn']}]\n",
    "\n",
    "svc_grid   = {'C': [0.1, 1],\n",
    "              'gamma': [1, 0.1],\n",
    "              'kernel': ['rbf']}\n",
    "\n",
    "knn_grid   = {'n_neighbors': [5,7,9,11,13,15,17,19],\n",
    "              'weights': ['uniform', 'distance'],\n",
    "              'metric' : ['euclidean', 'manhattan']}\n",
    "\n",
    "depth      = list(np.arange(2, 10))\n",
    "dtree_grid = {'criterion': ['gini', 'entropy'],\n",
    "              'splitter': ['best', 'random'],\n",
    "              'max_depth' : depth}\n",
    "\n",
    "c_values   = list(10.0**np.arange(-3, 3))\n",
    "lsvc_grid  = [{'C': c_values,\n",
    "              'multi_class': ['ovr', 'crammer_singer'],\n",
    "              'penalty': ['l1'],\n",
    "              'loss': ['squared_hinge'],\n",
    "              'dual': [0]},\n",
    "              {'C': c_values,\n",
    "              'multi_class': ['ovr', 'crammer_singer'],\n",
    "              'penalty': ['l2'],\n",
    "              'loss': ['squared_hinge'],\n",
    "              'dual': [1]}]\n",
    "\n",
    "\n",
    "grids = [random_grid, xgb_grid, extra_grid, lgbm_grid, log_grid, svc_grid, knn_grid, dtree_grid,\n",
    "        lsvc_grid]\n",
    "\n",
    "# Defining cv\n",
    "strat_k_fold = StratifiedKFold(n_splits=5, shuffle=True, random_state=42)\n",
    "\n",
    "appended_dfs = []\n",
    "for (name, model), param_grid in zip (models.items(), grids):\n",
    "    # Runing grid search\n",
    "    grid = GridSearchCV(estimator=model, param_grid=param_grid, cv=strat_k_fold, n_jobs=-1, \n",
    "                        scoring='f1')\n",
    "    # Fitting the grid and use it to find the best estimator on train data\n",
    "    grid.fit(X_train, y_train) \n",
    "    # Creating the variable for best etimator \n",
    "    best_estimator = grid.best_estimator_\n",
    "    # Conducting model metrics on test data\n",
    "    models_df_test = model_results_hyp_test_cm_cr_df(best_estimator, X_test, y_test, name)\n",
    "    # Printing best parameters\n",
    "    print(f'Best parameters: {grid.best_params_}')\n",
    "    appended_dfs.append(models_df_test)\n",
    "\n",
    "model_results_hyp = pd.concat(appended_dfs, ignore_index = True)\n",
    "model_results_hyp"
   ]
  },
  {
   "cell_type": "markdown",
   "metadata": {},
   "source": [
    "After hyperparameter tuning F1 score improved in:\n",
    "- Random Forest Classifier (0.61 to 0.68)\n",
    "- Extra Tree Classifier (0.58 to 0.63)\n",
    "- Light Gradient Boosting Machine Classifier (0.66 to 0.67)\n",
    "- Logistic Regression (0.65 to 0.70)\n",
    "- K-Nearest Neighbors Classifier (0.63 to 0.66)\n",
    "- Decision Tree Classifier (0.57 to 0.62)\n",
    "- Linear Support Vector Machine (0.65 to 0.68)\n",
    "\n",
    "The top-performing models (by taking the top 5 highest F1 scores):\n",
    "- Logistic Regression (0.70)\n",
    "- Random Forest Classifier (0.68)\n",
    "- Linear Support Vector Machine (0.68)\n",
    "- Light Gradient Boosting Machine Classifier (0.67)\n",
    "- Extreme Gradient Boosting Classifier (0.66)\n",
    "\n",
    "**High F1 score is not enough to define if the model is performing well, that's why we are going to be checking the confusion matrix and the classification report:**\n",
    "- Logistic Regression (0.70) is only predicting one class (1)\n",
    "- **Random Forest Classifier (0.68)** class separation OK\n",
    "- Linear Support Vector Machine (0.68) TP low, leaning towards class (0)\n",
    "- Light Gradient Boosting Machine Classifier (0.67) TP low, leaning towards class (0)\n",
    "- Extreme Gradient Boosting Classifier (0.66) TP low, leaning towards class (0)\n",
    "\n",
    "After investigating the confusion matrix we additionally selected these models: \n",
    "- **Extra Trees Classifier (0.63)**, F1 lower than others but has good separation of both classes\n",
    "- **Support Vector Machine (0.66)**, has a good prediction for TP\n",
    "- **K-Nearest Neighbors Classifier (0.66)**, has good prediction for TP\n",
    "\n",
    "These are the results when using the short list of the most important features. Let's see if the results change when we use the long list."
   ]
  },
  {
   "cell_type": "markdown",
   "metadata": {},
   "source": [
    "### Using the long list of feature importance"
   ]
  },
  {
   "cell_type": "markdown",
   "metadata": {},
   "source": [
    "We will be splitting and scaling our dataset again (filtering the new list of important features):"
   ]
  },
  {
   "cell_type": "code",
   "execution_count": 24,
   "metadata": {
    "ExecuteTime": {
     "end_time": "2020-05-31T18:59:17.552786Z",
     "start_time": "2020-05-31T18:59:17.505922Z"
    }
   },
   "outputs": [
    {
     "name": "stdout",
     "output_type": "stream",
     "text": [
      "Training data shape: (18377, 24)\n",
      "Testing data shape: (7807, 24)\n"
     ]
    }
   ],
   "source": [
    "# Train data\n",
    "\n",
    "year = [2017, 2018]\n",
    "train = df_encoded_long.loc[df_encoded_long.reg_year.apply(lambda x: x in year)]\n",
    "\n",
    "to_drop = ['churned_1_month', 'reg_year']\n",
    "X_train = train.drop(to_drop, axis=1)\n",
    "y_train = train['churned_1_month']\n",
    "\n",
    "print(f'Training data shape: {X_train.shape}')\n",
    "\n",
    "# Test data\n",
    "\n",
    "year = [2019]\n",
    "test = df_encoded_long.loc[df_encoded_long.reg_year.apply(lambda x: x in year)]\n",
    "\n",
    "to_drop = ['churned_1_month', 'reg_year']\n",
    "X_test = test.drop(to_drop, axis=1)\n",
    "y_test = test['churned_1_month']\n",
    "\n",
    "print(f'Testing data shape: {X_test.shape}')"
   ]
  },
  {
   "cell_type": "code",
   "execution_count": 25,
   "metadata": {
    "ExecuteTime": {
     "end_time": "2020-05-31T18:59:17.603765Z",
     "start_time": "2020-05-31T18:59:17.552786Z"
    }
   },
   "outputs": [],
   "source": [
    "# Scaling X\n",
    "\n",
    "X_train = StandardScaler().fit_transform(X_train)\n",
    "X_test = StandardScaler().fit_transform(X_test)"
   ]
  },
  {
   "cell_type": "markdown",
   "metadata": {
    "ExecuteTime": {
     "end_time": "2020-05-24T13:02:56.543971Z",
     "start_time": "2020-05-24T13:02:56.540980Z"
    }
   },
   "source": [
    "#### Models with default parameters"
   ]
  },
  {
   "cell_type": "code",
   "execution_count": 26,
   "metadata": {
    "ExecuteTime": {
     "end_time": "2020-05-31T19:00:55.440824Z",
     "start_time": "2020-05-31T18:59:17.603765Z"
    }
   },
   "outputs": [
    {
     "data": {
      "text/html": [
       "<div>\n",
       "<style scoped>\n",
       "    .dataframe tbody tr th:only-of-type {\n",
       "        vertical-align: middle;\n",
       "    }\n",
       "\n",
       "    .dataframe tbody tr th {\n",
       "        vertical-align: top;\n",
       "    }\n",
       "\n",
       "    .dataframe thead th {\n",
       "        text-align: right;\n",
       "    }\n",
       "</style>\n",
       "<table border=\"1\" class=\"dataframe\">\n",
       "  <thead>\n",
       "    <tr style=\"text-align: right;\">\n",
       "      <th></th>\n",
       "      <th>data</th>\n",
       "      <th>model</th>\n",
       "      <th>accuracy</th>\n",
       "      <th>precision</th>\n",
       "      <th>recall</th>\n",
       "      <th>f1score</th>\n",
       "      <th>rocauc</th>\n",
       "    </tr>\n",
       "  </thead>\n",
       "  <tbody>\n",
       "    <tr>\n",
       "      <td>0</td>\n",
       "      <td>test</td>\n",
       "      <td>RandomForestClassifier</td>\n",
       "      <td>0.606123</td>\n",
       "      <td>0.648603</td>\n",
       "      <td>0.587886</td>\n",
       "      <td>0.616562</td>\n",
       "      <td>0.638297</td>\n",
       "    </tr>\n",
       "    <tr>\n",
       "      <td>1</td>\n",
       "      <td>test</td>\n",
       "      <td>XGBClassifier</td>\n",
       "      <td>0.635453</td>\n",
       "      <td>0.648219</td>\n",
       "      <td>0.709026</td>\n",
       "      <td>0.677080</td>\n",
       "      <td>0.685878</td>\n",
       "    </tr>\n",
       "    <tr>\n",
       "      <td>2</td>\n",
       "      <td>test</td>\n",
       "      <td>ExtraTreesClassifier</td>\n",
       "      <td>0.589084</td>\n",
       "      <td>0.628609</td>\n",
       "      <td>0.581473</td>\n",
       "      <td>0.604075</td>\n",
       "      <td>0.625511</td>\n",
       "    </tr>\n",
       "    <tr>\n",
       "      <td>3</td>\n",
       "      <td>test</td>\n",
       "      <td>LGBMClassifier</td>\n",
       "      <td>0.630715</td>\n",
       "      <td>0.650435</td>\n",
       "      <td>0.681235</td>\n",
       "      <td>0.665313</td>\n",
       "      <td>0.675994</td>\n",
       "    </tr>\n",
       "    <tr>\n",
       "      <td>4</td>\n",
       "      <td>test</td>\n",
       "      <td>LogisticRegression</td>\n",
       "      <td>0.626877</td>\n",
       "      <td>0.648387</td>\n",
       "      <td>0.673159</td>\n",
       "      <td>0.660449</td>\n",
       "      <td>0.669315</td>\n",
       "    </tr>\n",
       "    <tr>\n",
       "      <td>5</td>\n",
       "      <td>test</td>\n",
       "      <td>SVC</td>\n",
       "      <td>0.633022</td>\n",
       "      <td>0.650911</td>\n",
       "      <td>0.689074</td>\n",
       "      <td>0.669345</td>\n",
       "      <td>0.673870</td>\n",
       "    </tr>\n",
       "    <tr>\n",
       "      <td>6</td>\n",
       "      <td>test</td>\n",
       "      <td>KNeighborsClassifier</td>\n",
       "      <td>0.597924</td>\n",
       "      <td>0.619188</td>\n",
       "      <td>0.660333</td>\n",
       "      <td>0.638965</td>\n",
       "      <td>0.627399</td>\n",
       "    </tr>\n",
       "    <tr>\n",
       "      <td>7</td>\n",
       "      <td>test</td>\n",
       "      <td>DecisionTreeClassifier</td>\n",
       "      <td>0.566543</td>\n",
       "      <td>0.599251</td>\n",
       "      <td>0.591686</td>\n",
       "      <td>0.595367</td>\n",
       "      <td>0.565124</td>\n",
       "    </tr>\n",
       "    <tr>\n",
       "      <td>8</td>\n",
       "      <td>test</td>\n",
       "      <td>LinearSVC</td>\n",
       "      <td>0.627389</td>\n",
       "      <td>0.649193</td>\n",
       "      <td>0.672447</td>\n",
       "      <td>0.660510</td>\n",
       "      <td>0.669525</td>\n",
       "    </tr>\n",
       "  </tbody>\n",
       "</table>\n",
       "</div>"
      ],
      "text/plain": [
       "   data                   model  accuracy  precision    recall   f1score  \\\n",
       "0  test  RandomForestClassifier  0.606123   0.648603  0.587886  0.616562   \n",
       "1  test           XGBClassifier  0.635453   0.648219  0.709026  0.677080   \n",
       "2  test    ExtraTreesClassifier  0.589084   0.628609  0.581473  0.604075   \n",
       "3  test          LGBMClassifier  0.630715   0.650435  0.681235  0.665313   \n",
       "4  test      LogisticRegression  0.626877   0.648387  0.673159  0.660449   \n",
       "5  test                     SVC  0.633022   0.650911  0.689074  0.669345   \n",
       "6  test    KNeighborsClassifier  0.597924   0.619188  0.660333  0.638965   \n",
       "7  test  DecisionTreeClassifier  0.566543   0.599251  0.591686  0.595367   \n",
       "8  test               LinearSVC  0.627389   0.649193  0.672447  0.660510   \n",
       "\n",
       "     rocauc  \n",
       "0  0.638297  \n",
       "1  0.685878  \n",
       "2  0.625511  \n",
       "3  0.675994  \n",
       "4  0.669315  \n",
       "5  0.673870  \n",
       "6  0.627399  \n",
       "7  0.565124  \n",
       "8  0.669525  "
      ]
     },
     "execution_count": 26,
     "metadata": {},
     "output_type": "execute_result"
    }
   ],
   "source": [
    "models = {'RandomForestClassifier': RandomForestClassifier(random_state=42),\n",
    "          'XGBClassifier': XGBClassifier(random_state=42),\n",
    "          'ExtraTreesClassifier': ExtraTreesClassifier(random_state=42),\n",
    "          'LGBMClassifier': LGBMClassifier(random_state=42), \n",
    "          'LogisticRegression': LogisticRegression(random_state=42), \n",
    "          'SVC': SVC(random_state=42),\n",
    "          'KNeighborsClassifier': KNeighborsClassifier(),\n",
    "          'DecisionTreeClassifier': DecisionTreeClassifier(random_state=42),\n",
    "          'LinearSVC': LinearSVC(random_state=42),\n",
    "         }\n",
    "\n",
    "models_df_test = pd.concat([model_results_test_df(model, X_train, y_train, X_test, y_test, name) for (name, model) in models.items()])\n",
    "models_df_test.reset_index(inplace=True, drop=True)\n",
    "models_df_test"
   ]
  },
  {
   "cell_type": "markdown",
   "metadata": {},
   "source": [
    "**On the test set, with the default parameters we have these models performing best**:\n",
    "- Extreme Gradient Boosting Classifier (no change compared to the short list), \n",
    "- Light Gradient Boosting Machine Classifier (slightly better compared to the short list),\n",
    "- Logistic Regression (slightly better compared to the short list),\n",
    "- Support Vector Classification (better compared to the short list),\n",
    "- Linear Support Vector Classification performs best (better compared to the short list).\n",
    "\n",
    "These are also the same models as chosen with the short list. Their performance with default parameters is slightly better compared to the short list.\n",
    "\n",
    "Let's run the models with the best parameters chosen with the short list to only see the impact of the new dataset."
   ]
  },
  {
   "cell_type": "markdown",
   "metadata": {},
   "source": [
    "#### Models with set parameters"
   ]
  },
  {
   "cell_type": "code",
   "execution_count": 27,
   "metadata": {
    "ExecuteTime": {
     "end_time": "2020-05-31T19:03:11.083478Z",
     "start_time": "2020-05-31T19:00:55.442817Z"
    }
   },
   "outputs": [
    {
     "name": "stdout",
     "output_type": "stream",
     "text": [
      "\n",
      " **RandomForestClassifier** results \n",
      "\n",
      "Confusion Matrix of test data\n"
     ]
    },
    {
     "data": {
      "image/png": "[encoded data removed]",
      "text/plain": [
       "<Figure size 576x360 with 2 Axes>"
      ]
     },
     "metadata": {
      "needs_background": "light"
     },
     "output_type": "display_data"
    },
    {
     "name": "stdout",
     "output_type": "stream",
     "text": [
      "Classifictation Report of test data \n",
      "\n",
      "              precision    recall  f1-score   support\n",
      "\n",
      "           0       0.57      0.36      0.45      3597\n",
      "           1       0.59      0.77      0.66      4210\n",
      "\n",
      "    accuracy                           0.58      7807\n",
      "   macro avg       0.58      0.57      0.56      7807\n",
      "weighted avg       0.58      0.58      0.56      7807\n",
      " \n",
      "\n",
      "\n",
      " **XGBClassifier** results \n",
      "\n",
      "Confusion Matrix of test data\n"
     ]
    },
    {
     "data": {
      "image/png": "[encoded data removed]",
      "text/plain": [
       "<Figure size 576x360 with 2 Axes>"
      ]
     },
     "metadata": {
      "needs_background": "light"
     },
     "output_type": "display_data"
    },
    {
     "name": "stdout",
     "output_type": "stream",
     "text": [
      "Classifictation Report of test data \n",
      "\n",
      "              precision    recall  f1-score   support\n",
      "\n",
      "           0       0.52      0.70      0.60      3597\n",
      "           1       0.64      0.45      0.53      4210\n",
      "\n",
      "    accuracy                           0.57      7807\n",
      "   macro avg       0.58      0.58      0.56      7807\n",
      "weighted avg       0.58      0.57      0.56      7807\n",
      " \n",
      "\n",
      "\n",
      " **ExtraTreesClassifier** results \n",
      "\n",
      "Confusion Matrix of test data\n"
     ]
    },
    {
     "data": {
      "image/png": "[encoded data removed]",
      "text/plain": [
       "<Figure size 576x360 with 2 Axes>"
      ]
     },
     "metadata": {
      "needs_background": "light"
     },
     "output_type": "display_data"
    },
    {
     "name": "stdout",
     "output_type": "stream",
     "text": [
      "Classifictation Report of test data \n",
      "\n",
      "              precision    recall  f1-score   support\n",
      "\n",
      "           0       0.54      0.66      0.59      3597\n",
      "           1       0.64      0.52      0.57      4210\n",
      "\n",
      "    accuracy                           0.58      7807\n",
      "   macro avg       0.59      0.59      0.58      7807\n",
      "weighted avg       0.59      0.58      0.58      7807\n",
      " \n",
      "\n",
      "\n",
      " **LGBMClassifier** results \n",
      "\n",
      "Confusion Matrix of test data\n"
     ]
    },
    {
     "data": {
      "image/png": "[encoded data removed]",
      "text/plain": [
       "<Figure size 576x360 with 2 Axes>"
      ]
     },
     "metadata": {
      "needs_background": "light"
     },
     "output_type": "display_data"
    },
    {
     "name": "stdout",
     "output_type": "stream",
     "text": [
      "Classifictation Report of test data \n",
      "\n",
      "              precision    recall  f1-score   support\n",
      "\n",
      "           0       0.51      0.90      0.65      3597\n",
      "           1       0.75      0.25      0.38      4210\n",
      "\n",
      "    accuracy                           0.55      7807\n",
      "   macro avg       0.63      0.58      0.51      7807\n",
      "weighted avg       0.64      0.55      0.50      7807\n",
      " \n",
      "\n",
      "\n",
      " **LogisticRegression** results \n",
      "\n",
      "Confusion Matrix of test data\n"
     ]
    },
    {
     "data": {
      "image/png": "[encoded data removed]",
      "text/plain": [
       "<Figure size 576x360 with 2 Axes>"
      ]
     },
     "metadata": {
      "needs_background": "light"
     },
     "output_type": "display_data"
    },
    {
     "name": "stdout",
     "output_type": "stream",
     "text": [
      "Classifictation Report of test data \n",
      "\n",
      "              precision    recall  f1-score   support\n",
      "\n",
      "           0       0.00      0.00      0.00      3597\n",
      "           1       0.54      1.00      0.70      4210\n",
      "\n",
      "    accuracy                           0.54      7807\n",
      "   macro avg       0.27      0.50      0.35      7807\n",
      "weighted avg       0.29      0.54      0.38      7807\n",
      " \n",
      "\n",
      "\n",
      " **SVC** results \n",
      "\n",
      "Confusion Matrix of test data\n"
     ]
    },
    {
     "data": {
      "image/png": "[encoded data removed]",
      "text/plain": [
       "<Figure size 576x360 with 2 Axes>"
      ]
     },
     "metadata": {
      "needs_background": "light"
     },
     "output_type": "display_data"
    },
    {
     "name": "stdout",
     "output_type": "stream",
     "text": [
      "Classifictation Report of test data \n",
      "\n",
      "              precision    recall  f1-score   support\n",
      "\n",
      "           0       0.57      0.55      0.56      3597\n",
      "           1       0.62      0.64      0.63      4210\n",
      "\n",
      "    accuracy                           0.60      7807\n",
      "   macro avg       0.60      0.59      0.59      7807\n",
      "weighted avg       0.60      0.60      0.60      7807\n",
      " \n",
      "\n",
      "\n",
      " **KNeighborsClassifier** results \n",
      "\n",
      "Confusion Matrix of test data\n"
     ]
    },
    {
     "data": {
      "image/png": "[encoded data removed]",
      "text/plain": [
       "<Figure size 576x360 with 2 Axes>"
      ]
     },
     "metadata": {
      "needs_background": "light"
     },
     "output_type": "display_data"
    },
    {
     "name": "stdout",
     "output_type": "stream",
     "text": [
      "Classifictation Report of test data \n",
      "\n",
      "              precision    recall  f1-score   support\n",
      "\n",
      "           0       0.56      0.46      0.50      3597\n",
      "           1       0.60      0.69      0.64      4210\n",
      "\n",
      "    accuracy                           0.58      7807\n",
      "   macro avg       0.58      0.57      0.57      7807\n",
      "weighted avg       0.58      0.58      0.58      7807\n",
      " \n",
      "\n",
      "\n",
      " **DecisionTreeClassifier** results \n",
      "\n",
      "Confusion Matrix of test data\n"
     ]
    },
    {
     "data": {
      "image/png": "[encoded data removed]",
      "text/plain": [
       "<Figure size 576x360 with 2 Axes>"
      ]
     },
     "metadata": {
      "needs_background": "light"
     },
     "output_type": "display_data"
    },
    {
     "name": "stdout",
     "output_type": "stream",
     "text": [
      "Classifictation Report of test data \n",
      "\n",
      "              precision    recall  f1-score   support\n",
      "\n",
      "           0       0.47      0.56      0.51      3597\n",
      "           1       0.56      0.47      0.51      4210\n",
      "\n",
      "    accuracy                           0.51      7807\n",
      "   macro avg       0.51      0.51      0.51      7807\n",
      "weighted avg       0.52      0.51      0.51      7807\n",
      " \n",
      "\n",
      "\n",
      " **LinearSVC** results \n",
      "\n",
      "Confusion Matrix of test data\n"
     ]
    },
    {
     "data": {
      "image/png": "[encoded data removed]",
      "text/plain": [
       "<Figure size 576x360 with 2 Axes>"
      ]
     },
     "metadata": {
      "needs_background": "light"
     },
     "output_type": "display_data"
    },
    {
     "name": "stdout",
     "output_type": "stream",
     "text": [
      "Classifictation Report of test data \n",
      "\n",
      "              precision    recall  f1-score   support\n",
      "\n",
      "           0       0.58      0.32      0.41      3597\n",
      "           1       0.58      0.80      0.67      4210\n",
      "\n",
      "    accuracy                           0.58      7807\n",
      "   macro avg       0.58      0.56      0.54      7807\n",
      "weighted avg       0.58      0.58      0.55      7807\n",
      " \n",
      "\n"
     ]
    },
    {
     "data": {
      "text/html": [
       "<div>\n",
       "<style scoped>\n",
       "    .dataframe tbody tr th:only-of-type {\n",
       "        vertical-align: middle;\n",
       "    }\n",
       "\n",
       "    .dataframe tbody tr th {\n",
       "        vertical-align: top;\n",
       "    }\n",
       "\n",
       "    .dataframe thead th {\n",
       "        text-align: right;\n",
       "    }\n",
       "</style>\n",
       "<table border=\"1\" class=\"dataframe\">\n",
       "  <thead>\n",
       "    <tr style=\"text-align: right;\">\n",
       "      <th></th>\n",
       "      <th>data</th>\n",
       "      <th>model</th>\n",
       "      <th>accuracy</th>\n",
       "      <th>precision</th>\n",
       "      <th>recall</th>\n",
       "      <th>f1score</th>\n",
       "      <th>rocauc</th>\n",
       "    </tr>\n",
       "  </thead>\n",
       "  <tbody>\n",
       "    <tr>\n",
       "      <td>0</td>\n",
       "      <td>test</td>\n",
       "      <td>RandomForestClassifier</td>\n",
       "      <td>0.612399</td>\n",
       "      <td>0.607638</td>\n",
       "      <td>0.793824</td>\n",
       "      <td>0.688270</td>\n",
       "      <td>0.663411</td>\n",
       "    </tr>\n",
       "    <tr>\n",
       "      <td>1</td>\n",
       "      <td>test</td>\n",
       "      <td>XGBClassifier</td>\n",
       "      <td>0.633918</td>\n",
       "      <td>0.654462</td>\n",
       "      <td>0.680523</td>\n",
       "      <td>0.666967</td>\n",
       "      <td>0.686138</td>\n",
       "    </tr>\n",
       "    <tr>\n",
       "      <td>2</td>\n",
       "      <td>test</td>\n",
       "      <td>ExtraTreesClassifier</td>\n",
       "      <td>0.623285</td>\n",
       "      <td>0.647545</td>\n",
       "      <td>0.661995</td>\n",
       "      <td>0.654553</td>\n",
       "      <td>0.666612</td>\n",
       "    </tr>\n",
       "    <tr>\n",
       "      <td>3</td>\n",
       "      <td>test</td>\n",
       "      <td>LGBMClassifier</td>\n",
       "      <td>0.630331</td>\n",
       "      <td>0.645835</td>\n",
       "      <td>0.696437</td>\n",
       "      <td>0.670054</td>\n",
       "      <td>0.681266</td>\n",
       "    </tr>\n",
       "    <tr>\n",
       "      <td>4</td>\n",
       "      <td>test</td>\n",
       "      <td>LogisticRegression</td>\n",
       "      <td>0.539260</td>\n",
       "      <td>0.539260</td>\n",
       "      <td>1.000000</td>\n",
       "      <td>0.700674</td>\n",
       "      <td>0.500000</td>\n",
       "    </tr>\n",
       "    <tr>\n",
       "      <td>5</td>\n",
       "      <td>test</td>\n",
       "      <td>SVC</td>\n",
       "      <td>0.629563</td>\n",
       "      <td>0.643597</td>\n",
       "      <td>0.701425</td>\n",
       "      <td>0.671053</td>\n",
       "      <td>0.664079</td>\n",
       "    </tr>\n",
       "    <tr>\n",
       "      <td>6</td>\n",
       "      <td>test</td>\n",
       "      <td>KNeighborsClassifier</td>\n",
       "      <td>0.614831</td>\n",
       "      <td>0.630056</td>\n",
       "      <td>0.692162</td>\n",
       "      <td>0.659475</td>\n",
       "      <td>0.656807</td>\n",
       "    </tr>\n",
       "    <tr>\n",
       "      <td>7</td>\n",
       "      <td>test</td>\n",
       "      <td>DecisionTreeClassifier</td>\n",
       "      <td>0.614448</td>\n",
       "      <td>0.616815</td>\n",
       "      <td>0.766983</td>\n",
       "      <td>0.680886</td>\n",
       "      <td>0.640805</td>\n",
       "    </tr>\n",
       "    <tr>\n",
       "      <td>8</td>\n",
       "      <td>test</td>\n",
       "      <td>LinearSVC</td>\n",
       "      <td>0.620342</td>\n",
       "      <td>0.649851</td>\n",
       "      <td>0.642043</td>\n",
       "      <td>0.645862</td>\n",
       "      <td>0.654375</td>\n",
       "    </tr>\n",
       "  </tbody>\n",
       "</table>\n",
       "</div>"
      ],
      "text/plain": [
       "   data                   model  accuracy  precision    recall   f1score  \\\n",
       "0  test  RandomForestClassifier  0.612399   0.607638  0.793824  0.688270   \n",
       "1  test           XGBClassifier  0.633918   0.654462  0.680523  0.666967   \n",
       "2  test    ExtraTreesClassifier  0.623285   0.647545  0.661995  0.654553   \n",
       "3  test          LGBMClassifier  0.630331   0.645835  0.696437  0.670054   \n",
       "4  test      LogisticRegression  0.539260   0.539260  1.000000  0.700674   \n",
       "5  test                     SVC  0.629563   0.643597  0.701425  0.671053   \n",
       "6  test    KNeighborsClassifier  0.614831   0.630056  0.692162  0.659475   \n",
       "7  test  DecisionTreeClassifier  0.614448   0.616815  0.766983  0.680886   \n",
       "8  test               LinearSVC  0.620342   0.649851  0.642043  0.645862   \n",
       "\n",
       "     rocauc  \n",
       "0  0.663411  \n",
       "1  0.686138  \n",
       "2  0.666612  \n",
       "3  0.681266  \n",
       "4  0.500000  \n",
       "5  0.664079  \n",
       "6  0.656807  \n",
       "7  0.640805  \n",
       "8  0.654375  "
      ]
     },
     "execution_count": 27,
     "metadata": {},
     "output_type": "execute_result"
    }
   ],
   "source": [
    "rf_params   = {'criterion': 'gini', 'max_depth': 2, 'max_features': 'auto', 'n_estimators': 100}\n",
    "xgb_params  = {'learning_rate': 0.01, 'max_depth': 7, 'n_estimators': 300, 'reg_alpha': 0.3}\n",
    "ext_params  = {'max_features': 'auto', 'min_samples_split': 6, 'n_estimators': 100}\n",
    "lgbm_params = {'min_child_samples': 40, 'min_child_weight': 1e-05, 'num_leaves': 10, 'reg_alpha': 5, \n",
    "               'reg_lambda': 0.1}\n",
    "log_params  = {'C': 0.001, 'multi_class': 'ovr', 'penalty': 'l1', 'solver': 'saga'}\n",
    "svc_params  = {'C': 1, 'gamma': 0.1, 'kernel': 'rbf'}\n",
    "knn_params  = {'metric': 'manhattan', 'n_neighbors': 19, 'weights': 'uniform'}\n",
    "dt_params   = {'criterion': 'gini', 'max_depth': 4, 'splitter': 'best'}\n",
    "lsvc_params = {'C': 0.001, 'dual': 0, 'loss': 'squared_hinge', 'multi_class': 'crammer_singer', \n",
    "               'penalty': 'l1'}\n",
    "\n",
    "models = {'RandomForestClassifier': RandomForestClassifier(**rf_params, random_state=42),\n",
    "          'XGBClassifier': XGBClassifier(**xgb_params, random_state=42),\n",
    "          'ExtraTreesClassifier': ExtraTreesClassifier(**ext_params, random_state=42),\n",
    "          'LGBMClassifier': LGBMClassifier(**lgbm_params, random_state=42), \n",
    "          'LogisticRegression': LogisticRegression(**log_params, random_state=42), \n",
    "          'SVC': SVC(**svc_params, random_state=42),\n",
    "          'KNeighborsClassifier': KNeighborsClassifier(**knn_params),\n",
    "          'DecisionTreeClassifier': DecisionTreeClassifier(**dt_params, random_state=42),\n",
    "          'LinearSVC': LinearSVC(**lsvc_params, random_state=42),\n",
    "         }\n",
    "\n",
    "models_df_test = pd.concat([model_results_test_cm_cr_df(model, X_train, y_train, X_test, y_test, name) for (name, model) in models.items()])\n",
    "models_df_test.reset_index(inplace=True, drop=True)\n",
    "models_df_test"
   ]
  },
  {
   "cell_type": "markdown",
   "metadata": {},
   "source": [
    "We will first check if the results of the top-performing models have changed compared to the short list.\n",
    "\n",
    "- **Random Forest Classifier (0.68 to 0.69)** \n",
    "    - BEFORE TP 2426 / FN 1784  \n",
    "    - NOW TP 3233 / FN 977\n",
    "    - Perfromance improved a lot!\n",
    "- **Extra Trees Classifier (0.63 to 0.66)** \n",
    "    - BEFORE TP 2537 / FN 1673  \n",
    "    - NOW TP 2173 / FN 2037\n",
    "    - F1 higher because predicting more for the class (0)\n",
    "    - Better results with a short list.\n",
    "- **Support Vector Machine (0.66 to 0.67)**\n",
    "    - BEFORE TP 2710 / FN 1500 \n",
    "    - NOW TP 2705 / FN 1505\n",
    "    - Almost no difference.\n",
    "- **K-Nearest Neighbors Classifier (0.66 the same)** \n",
    "    - BEFORE TP 2915 / FN 1295 \n",
    "    - NOW TP 2918 / FN 1292 \n",
    "    - Almost no difference.\n",
    "    \n",
    "Performance has improved a lot using the long list of the important features in the Random Forest Classifier, we have better class separation and a higher F1 score.\n",
    "\n",
    "For ExtraTreesClassifier we had better results with the short list. Here it tends to predict class (0) more, so the impact is negative.\n",
    "\n",
    "For the rest, there is no impact.\n",
    "\n",
    "Other models with a higher F1 score don't qualify for the top list because they tend to predict class (0) more. "
   ]
  },
  {
   "cell_type": "markdown",
   "metadata": {},
   "source": [
    "**Top-performing models**\n",
    "\n",
    "- Random Forest Classifier\n",
    "- Support Vector Machine\n",
    "- K-Nearest Neighbors Classifier\n",
    "\n",
    "We will be focusing on these three models during the next steps."
   ]
  },
  {
   "cell_type": "markdown",
   "metadata": {},
   "source": [
    "# Model Tuning"
   ]
  },
  {
   "cell_type": "markdown",
   "metadata": {},
   "source": [
    "There are different techniques to try to improve model performance. We will test different scaling and data balancing techniques, as well as more in-depth hyperparameter tuning.\n",
    "\n",
    "We will be using Pipelines to run different tests, which is very convenient to test different techniques."
   ]
  },
  {
   "cell_type": "markdown",
   "metadata": {},
   "source": [
    "##### Data split to train and test sets"
   ]
  },
  {
   "cell_type": "markdown",
   "metadata": {},
   "source": [
    "We will split our dataset again to train and test sets to test different scaling and balancing techniques. We will be using the dataset with the long most important feature list since it had the best impact on the Random Forest Classifier."
   ]
  },
  {
   "cell_type": "code",
   "execution_count": 28,
   "metadata": {
    "ExecuteTime": {
     "end_time": "2020-05-31T19:03:11.112400Z",
     "start_time": "2020-05-31T19:03:11.084476Z"
    }
   },
   "outputs": [
    {
     "name": "stdout",
     "output_type": "stream",
     "text": [
      "Training data shape: (18377, 24)\n",
      "Testing data shape: (7807, 24)\n"
     ]
    }
   ],
   "source": [
    "# Train data\n",
    "\n",
    "year = [2017, 2018]\n",
    "train = df_encoded_long.loc[df_encoded_long.reg_year.apply(lambda x: x in year)]\n",
    "\n",
    "to_drop = ['churned_1_month', 'reg_year']\n",
    "X_train = train.drop(to_drop, axis=1)\n",
    "y_train = train['churned_1_month']\n",
    "\n",
    "print(f'Training data shape: {X_train.shape}')\n",
    "\n",
    "# Test data\n",
    "\n",
    "year = [2019]\n",
    "test = df_encoded_long.loc[df_encoded_long.reg_year.apply(lambda x: x in year)]\n",
    "\n",
    "to_drop = ['churned_1_month', 'reg_year']\n",
    "X_test = test.drop(to_drop, axis=1)\n",
    "y_test = test['churned_1_month']\n",
    "\n",
    "print(f'Testing data shape: {X_test.shape}')"
   ]
  },
  {
   "cell_type": "markdown",
   "metadata": {},
   "source": [
    "## Pipeline (Feature Scaling)"
   ]
  },
  {
   "cell_type": "markdown",
   "metadata": {
    "ExecuteTime": {
     "end_time": "2020-05-24T10:23:09.936590Z",
     "start_time": "2020-05-24T10:23:09.928376Z"
    }
   },
   "source": [
    "We are starting to test our models by choosing the best feature scaling technique. **We will test Normalizer, Standard and Min Max scalers**. The next step will be to choose the best method to balance data (if any).\n",
    "\n",
    "Feature Scaling is a technique to standardize the independent variables present in the data in a fixed range. We will perform it to handle highly varying values of our dataset. If feature scaling is not done, a machine learning algorithm tends to weigh greater values, and consider smaller values as the lower values, regardless of the unit of the values.\n",
    "\n",
    "- **StandardScaler**. It is a technique which re-scales a feature value so that it has distribution with 0 mean value and variance equals to 1.\n",
    "- **MinMaxScaler**. It scales and translates each feature individually such that it is in the given range on the training set, e.g. between zero and one.\n",
    "- **Normalizer**. It normalizes samples individually to unit norm. Each sample (i.e. each row of the data matrix) with at least one non zero component is rescaled independently of other samples so that its norm (l1, l2 or inf) equals one."
   ]
  },
  {
   "cell_type": "markdown",
   "metadata": {},
   "source": [
    "### Random Forest Classifier"
   ]
  },
  {
   "cell_type": "code",
   "execution_count": 29,
   "metadata": {
    "ExecuteTime": {
     "end_time": "2020-05-31T19:03:31.096126Z",
     "start_time": "2020-05-31T19:03:11.114395Z"
    },
    "scrolled": true
   },
   "outputs": [
    {
     "name": "stdout",
     "output_type": "stream",
     "text": [
      "\n",
      " **No Scaler**\n",
      "**RandomForestClassifier** results \n",
      "\n",
      "Confusion Matrix of test data\n"
     ]
    },
    {
     "data": {
      "image/png": "[encoded data removed]",
      "text/plain": [
       "<Figure size 576x360 with 2 Axes>"
      ]
     },
     "metadata": {
      "needs_background": "light"
     },
     "output_type": "display_data"
    },
    {
     "name": "stdout",
     "output_type": "stream",
     "text": [
      "Classifictation Report of test data \n",
      "\n",
      "              precision    recall  f1-score   support\n",
      "\n",
      "           0       0.57      0.37      0.45      3597\n",
      "           1       0.59      0.77      0.66      4210\n",
      "\n",
      "    accuracy                           0.58      7807\n",
      "   macro avg       0.58      0.57      0.56      7807\n",
      "weighted avg       0.58      0.58      0.56      7807\n",
      " \n",
      "\n",
      "Main model evaluation metrics with cross validation (train and test data) \n",
      "\n",
      "    data                   model  accuracy  precision    recall   f1score    rocauc\n",
      "0  train  RandomForestClassifier  0.607335   0.588851  0.932994  0.722007  0.683232\n",
      "1   test  RandomForestClassifier  0.612399   0.607638  0.793824  0.688270  0.663411\n",
      "\n",
      " **Normalizer**\n",
      "**RandomForestClassifier** results \n",
      "\n",
      "Confusion Matrix of test data\n"
     ]
    },
    {
     "data": {
      "image/png": "[encoded data removed]",
      "text/plain": [
       "<Figure size 576x360 with 2 Axes>"
      ]
     },
     "metadata": {
      "needs_background": "light"
     },
     "output_type": "display_data"
    },
    {
     "name": "stdout",
     "output_type": "stream",
     "text": [
      "Classifictation Report of test data \n",
      "\n",
      "              precision    recall  f1-score   support\n",
      "\n",
      "           0       0.56      0.36      0.44      3597\n",
      "           1       0.58      0.76      0.66      4210\n",
      "\n",
      "    accuracy                           0.57      7807\n",
      "   macro avg       0.57      0.56      0.55      7807\n",
      "weighted avg       0.57      0.57      0.56      7807\n",
      " \n",
      "\n",
      "Main model evaluation metrics with cross validation (train and test data) \n",
      "\n",
      "    data                   model  accuracy  precision    recall   f1score    rocauc\n",
      "0  train  RandomForestClassifier  0.602601   0.585017  0.938968  0.720878  0.678450\n",
      "1   test  RandomForestClassifier  0.605994   0.604323  0.780048  0.680940  0.651733\n"
     ]
    }
   ],
   "source": [
    "estimator = RandomForestClassifier(**rf_params, random_state=42) \n",
    "estimator_name = 'RandomForestClassifier'\n",
    "\n",
    "no_scaler  = [('clf', estimator)]\n",
    "norm       = [('scaler', Normalizer()), ('clf', estimator)]\n",
    "\n",
    "scl_pipes  = [no_scaler, norm]\n",
    "scl_names  = ['No Scaler', 'Normalizer']\n",
    "\n",
    "for steps, scl in zip(scl_pipes, scl_names):\n",
    "    pipeline = Pipeline(steps)\n",
    "    print('\\n',f'**{scl}**')\n",
    "    model_results_tr_ts(pipeline, X_train, y_train, X_test, y_test, estimator_name)"
   ]
  },
  {
   "cell_type": "markdown",
   "metadata": {},
   "source": [
    "In the case of Random Forest, since the scaler doesn't have any impact on the performance, we have only tested a Normalizer. But we can see that results without the Normalizer are better (F1 score is higher and we have more TP values).\n",
    "\n",
    "Let's see the results when testing the Support Vector Machine."
   ]
  },
  {
   "cell_type": "markdown",
   "metadata": {},
   "source": [
    "### Support Vector Machine"
   ]
  },
  {
   "cell_type": "code",
   "execution_count": 30,
   "metadata": {
    "ExecuteTime": {
     "end_time": "2020-05-31T19:28:30.748098Z",
     "start_time": "2020-05-31T19:03:31.097134Z"
    },
    "scrolled": true
   },
   "outputs": [
    {
     "name": "stdout",
     "output_type": "stream",
     "text": [
      "\n",
      " **No Scaler**\n",
      "**Support Vector Machine** results \n",
      "\n",
      "Confusion Matrix of test data\n"
     ]
    },
    {
     "data": {
      "image/png": "[encoded data removed]",
      "text/plain": [
       "<Figure size 576x360 with 2 Axes>"
      ]
     },
     "metadata": {
      "needs_background": "light"
     },
     "output_type": "display_data"
    },
    {
     "name": "stdout",
     "output_type": "stream",
     "text": [
      "Classifictation Report of test data \n",
      "\n",
      "              precision    recall  f1-score   support\n",
      "\n",
      "           0       0.51      0.61      0.56      3597\n",
      "           1       0.60      0.51      0.55      4210\n",
      "\n",
      "    accuracy                           0.56      7807\n",
      "   macro avg       0.56      0.56      0.56      7807\n",
      "weighted avg       0.56      0.56      0.56      7807\n",
      " \n",
      "\n",
      "Main model evaluation metrics with cross validation (train and test data) \n",
      "\n",
      "    data                   model  accuracy  precision    recall   f1score    rocauc\n",
      "0  train  Support Vector Machine  0.597214   0.616079  0.698229  0.654527  0.627789\n",
      "1   test  Support Vector Machine  0.554245   0.572030  0.688836  0.625002  0.585123\n",
      "\n",
      " **StandardScaler**\n",
      "**Support Vector Machine** results \n",
      "\n",
      "Confusion Matrix of test data\n"
     ]
    },
    {
     "data": {
      "image/png": "[encoded data removed]",
      "text/plain": [
       "<Figure size 576x360 with 2 Axes>"
      ]
     },
     "metadata": {
      "needs_background": "light"
     },
     "output_type": "display_data"
    },
    {
     "name": "stdout",
     "output_type": "stream",
     "text": [
      "Classifictation Report of test data \n",
      "\n",
      "              precision    recall  f1-score   support\n",
      "\n",
      "           0       0.54      0.65      0.59      3597\n",
      "           1       0.64      0.54      0.58      4210\n",
      "\n",
      "    accuracy                           0.59      7807\n",
      "   macro avg       0.59      0.59      0.59      7807\n",
      "weighted avg       0.59      0.59      0.59      7807\n",
      " \n",
      "\n",
      "Main model evaluation metrics with cross validation (train and test data) \n",
      "\n",
      "    data                   model  accuracy  precision    recall   f1score    rocauc\n",
      "0  train  Support Vector Machine  0.642325   0.650730  0.746118  0.695134  0.678256\n",
      "1   test  Support Vector Machine  0.628923   0.643097  0.700713  0.670457  0.664131\n",
      "\n",
      " **MinMaxScaler**\n",
      "**Support Vector Machine** results \n",
      "\n",
      "Confusion Matrix of test data\n"
     ]
    },
    {
     "data": {
      "image/png": "[encoded data removed]",
      "text/plain": [
       "<Figure size 576x360 with 2 Axes>"
      ]
     },
     "metadata": {
      "needs_background": "light"
     },
     "output_type": "display_data"
    },
    {
     "name": "stdout",
     "output_type": "stream",
     "text": [
      "Classifictation Report of test data \n",
      "\n",
      "              precision    recall  f1-score   support\n",
      "\n",
      "           0       0.51      0.73      0.60      3597\n",
      "           1       0.63      0.40      0.49      4210\n",
      "\n",
      "    accuracy                           0.55      7807\n",
      "   macro avg       0.57      0.57      0.55      7807\n",
      "weighted avg       0.58      0.55      0.54      7807\n",
      " \n",
      "\n",
      "Main model evaluation metrics with cross validation (train and test data) \n",
      "\n",
      "    data                   model  accuracy  precision    recall   f1score    rocauc\n",
      "0  train  Support Vector Machine  0.639061   0.660607  0.698728  0.679048  0.687844\n",
      "1   test  Support Vector Machine  0.623288   0.647372  0.661995  0.654465  0.663127\n",
      "\n",
      " **Normalizer**\n",
      "**Support Vector Machine** results \n",
      "\n",
      "Confusion Matrix of test data\n"
     ]
    },
    {
     "data": {
      "image/png": "[encoded data removed]",
      "text/plain": [
       "<Figure size 576x360 with 2 Axes>"
      ]
     },
     "metadata": {
      "needs_background": "light"
     },
     "output_type": "display_data"
    },
    {
     "name": "stdout",
     "output_type": "stream",
     "text": [
      "Classifictation Report of test data \n",
      "\n",
      "              precision    recall  f1-score   support\n",
      "\n",
      "           0       0.00      0.00      0.00      3597\n",
      "           1       0.54      1.00      0.70      4210\n",
      "\n",
      "    accuracy                           0.54      7807\n",
      "   macro avg       0.27      0.50      0.35      7807\n",
      "weighted avg       0.29      0.54      0.38      7807\n",
      " \n",
      "\n",
      "Main model evaluation metrics with cross validation (train and test data) \n",
      "\n",
      "    data                   model  accuracy  precision  recall   f1score    rocauc\n",
      "0  train  Support Vector Machine  0.546553   0.546553     1.0  0.706801  0.493280\n",
      "1   test  Support Vector Machine  0.539260   0.539260     1.0  0.700674  0.501871\n"
     ]
    }
   ],
   "source": [
    "estimator = SVC(**svc_params, random_state=42) \n",
    "estimator_name = 'Support Vector Machine'\n",
    "\n",
    "no_scaler  = [('clf', estimator)]\n",
    "std        = [('scaler', StandardScaler()), ('clf', estimator)]\n",
    "min_max    = [('scaler', MinMaxScaler()), ('clf', estimator)]\n",
    "norm       = [('scaler', Normalizer()), ('clf', estimator)]\n",
    "\n",
    "scl_pipes  = [no_scaler, std, min_max, norm]\n",
    "scl_names  = ['No Scaler', 'StandardScaler', 'MinMaxScaler', 'Normalizer']\n",
    "\n",
    "for steps, scl in zip(scl_pipes, scl_names):\n",
    "    pipeline = Pipeline(steps)\n",
    "    print('\\n',f'**{scl}**')\n",
    "    model_results_tr_ts(pipeline, X_train, y_train, X_test, y_test, estimator_name)"
   ]
  },
  {
   "cell_type": "markdown",
   "metadata": {},
   "source": [
    "In the case of Support Vector Machine, StandardScaler is best compared to the rest."
   ]
  },
  {
   "cell_type": "markdown",
   "metadata": {},
   "source": [
    "### K-Nearest Neighbors Classifier"
   ]
  },
  {
   "cell_type": "code",
   "execution_count": 32,
   "metadata": {
    "ExecuteTime": {
     "end_time": "2020-05-31T19:30:17.770113Z",
     "start_time": "2020-05-31T19:28:30.766721Z"
    },
    "scrolled": true
   },
   "outputs": [
    {
     "name": "stdout",
     "output_type": "stream",
     "text": [
      "\n",
      " **No Scaler**\n",
      "**KNeighborsClassifier** results \n",
      "\n",
      "Confusion Matrix of test data\n"
     ]
    },
    {
     "data": {
      "image/png": "[encoded data removed]",
      "text/plain": [
       "<Figure size 576x360 with 2 Axes>"
      ]
     },
     "metadata": {
      "needs_background": "light"
     },
     "output_type": "display_data"
    },
    {
     "name": "stdout",
     "output_type": "stream",
     "text": [
      "Classifictation Report of test data \n",
      "\n",
      "              precision    recall  f1-score   support\n",
      "\n",
      "           0       0.55      0.46      0.50      3597\n",
      "           1       0.59      0.67      0.63      4210\n",
      "\n",
      "    accuracy                           0.58      7807\n",
      "   macro avg       0.57      0.57      0.57      7807\n",
      "weighted avg       0.57      0.58      0.57      7807\n",
      " \n",
      "\n",
      "Main model evaluation metrics with cross validation (train and test data) \n",
      "\n",
      "    data                 model  accuracy  precision    recall   f1score    rocauc\n",
      "0  train  KNeighborsClassifier   0.59384   0.604607  0.742336  0.666409  0.622226\n",
      "1   test  KNeighborsClassifier   0.57756   0.589278  0.714727  0.645941  0.590732\n",
      "\n",
      " **StandardScaler**\n",
      "**KNeighborsClassifier** results \n",
      "\n",
      "Confusion Matrix of test data\n"
     ]
    },
    {
     "data": {
      "image/png": "[encoded data removed]",
      "text/plain": [
       "<Figure size 576x360 with 2 Axes>"
      ]
     },
     "metadata": {
      "needs_background": "light"
     },
     "output_type": "display_data"
    },
    {
     "name": "stdout",
     "output_type": "stream",
     "text": [
      "Classifictation Report of test data \n",
      "\n",
      "              precision    recall  f1-score   support\n",
      "\n",
      "           0       0.53      0.63      0.58      3597\n",
      "           1       0.63      0.53      0.57      4210\n",
      "\n",
      "    accuracy                           0.58      7807\n",
      "   macro avg       0.58      0.58      0.58      7807\n",
      "weighted avg       0.58      0.58      0.58      7807\n",
      " \n",
      "\n",
      "Main model evaluation metrics with cross validation (train and test data) \n",
      "\n",
      "    data                 model  accuracy  precision    recall   f1score    rocauc\n",
      "0  train  KNeighborsClassifier  0.627796   0.642831  0.717842  0.678264  0.672199\n",
      "1   test  KNeighborsClassifier  0.614831   0.630233  0.691449  0.659257  0.656659\n",
      "\n",
      " **MinMaxScaler**\n",
      "**KNeighborsClassifier** results \n",
      "\n",
      "Confusion Matrix of test data\n"
     ]
    },
    {
     "data": {
      "image/png": "[encoded data removed]",
      "text/plain": [
       "<Figure size 576x360 with 2 Axes>"
      ]
     },
     "metadata": {
      "needs_background": "light"
     },
     "output_type": "display_data"
    },
    {
     "name": "stdout",
     "output_type": "stream",
     "text": [
      "Classifictation Report of test data \n",
      "\n",
      "              precision    recall  f1-score   support\n",
      "\n",
      "           0       0.52      0.63      0.57      3597\n",
      "           1       0.61      0.51      0.56      4210\n",
      "\n",
      "    accuracy                           0.56      7807\n",
      "   macro avg       0.57      0.57      0.56      7807\n",
      "weighted avg       0.57      0.56      0.56      7807\n",
      " \n",
      "\n",
      "Main model evaluation metrics with cross validation (train and test data) \n",
      "\n",
      "    data                 model  accuracy  precision    recall   f1score    rocauc\n",
      "0  train  KNeighborsClassifier  0.625945   0.641307  0.716348  0.676740  0.666609\n",
      "1   test  KNeighborsClassifier  0.612910   0.628907  0.687886  0.656849  0.650500\n",
      "\n",
      " **Normalizer**\n",
      "**KNeighborsClassifier** results \n",
      "\n",
      "Confusion Matrix of test data\n"
     ]
    },
    {
     "data": {
      "image/png": "[encoded data removed]",
      "text/plain": [
       "<Figure size 576x360 with 2 Axes>"
      ]
     },
     "metadata": {
      "needs_background": "light"
     },
     "output_type": "display_data"
    },
    {
     "name": "stdout",
     "output_type": "stream",
     "text": [
      "Classifictation Report of test data \n",
      "\n",
      "              precision    recall  f1-score   support\n",
      "\n",
      "           0       0.55      0.46      0.50      3597\n",
      "           1       0.59      0.67      0.63      4210\n",
      "\n",
      "    accuracy                           0.58      7807\n",
      "   macro avg       0.57      0.57      0.57      7807\n",
      "weighted avg       0.57      0.58      0.57      7807\n",
      " \n",
      "\n",
      "Main model evaluation metrics with cross validation (train and test data) \n",
      "\n",
      "    data                 model  accuracy  precision    recall   f1score    rocauc\n",
      "0  train  KNeighborsClassifier  0.594493   0.605477  0.740742  0.666291  0.622540\n",
      "1   test  KNeighborsClassifier  0.576535   0.588454  0.714014  0.645153  0.590245\n"
     ]
    }
   ],
   "source": [
    "estimator = KNeighborsClassifier(**knn_params) \n",
    "estimator_name = 'KNeighborsClassifier'\n",
    "\n",
    "no_scaler  = [('clf', estimator)]\n",
    "std        = [('scaler', StandardScaler()), ('clf', estimator)]\n",
    "min_max    = [('scaler', MinMaxScaler()), ('clf', estimator)]\n",
    "norm       = [('scaler', Normalizer()), ('clf', estimator)]\n",
    "\n",
    "scl_pipes  = [no_scaler, std, min_max, norm]\n",
    "scl_names  = ['No Scaler', 'StandardScaler', 'MinMaxScaler', 'Normalizer']\n",
    "\n",
    "for steps, scl in zip(scl_pipes, scl_names):\n",
    "    pipeline = Pipeline(steps)\n",
    "    print('\\n',f'**{scl}**')\n",
    "    model_results_tr_ts(pipeline, X_train, y_train, X_test, y_test, estimator_name)"
   ]
  },
  {
   "cell_type": "markdown",
   "metadata": {},
   "source": [
    "In the case of the K-Nearest Neighbors Classifier, Normalizer generates the best results.  "
   ]
  },
  {
   "cell_type": "markdown",
   "metadata": {},
   "source": [
    "#### Feature Scaling Conclusions"
   ]
  },
  {
   "cell_type": "markdown",
   "metadata": {},
   "source": [
    "Based on the results:\n",
    "- for the K-Nearest Neighbors Classifier we will use the Normalizer,\n",
    "- we will not use anything for Random Forest,\n",
    "- for Support Vector Machine we will use the StandardScaler."
   ]
  },
  {
   "cell_type": "markdown",
   "metadata": {},
   "source": [
    "## Pipeline (Data Balancing)"
   ]
  },
  {
   "cell_type": "markdown",
   "metadata": {},
   "source": [
    "As identified during the Exploratory Data Analysis, we have imbalanced data distribution. The difference between the two classes is not very big but it is worth investigating if we could improve our results by applying undersampling or oversampling methods.\n",
    "\n",
    "Standard Machine Learning algorithms such as Decision Tree and Logistic Regression have a bias towards the majority class, and they tend to ignore the minority class. They tend only to predict the majority class, hence, having major misclassification of the minority class in comparison with the majority class.\n",
    "\n",
    "The same as with the feature scaling, we will be testing balancing techniques with Random Forest Classifier, Support Vector Machine and K-Nearest Neighbors Classifier.\n",
    "\n",
    "We will test **undersampling methods NearMiss and Instance Hardness Threshold and oversampling method SMOTE**. Results will be compared between different techniques and also when no balancing technique is applied. Since our data doesn't have a big imbalance, maybe no balancing is needed at all.\n",
    "\n",
    "- **NearMiss**. This technique aims to balance class distribution by randomly eliminating majority class examples. When instances of two different classes are very close to each other, it removes the instances of the majority class to increase the spaces between the two classes. \n",
    "- **Instance Hardness Threshold**. It is an undersampling method for alleviating class imbalance by removing hard samples. Samples that are classified with a low probability will be removed from the dataset. \n",
    "- **Synthetic Minority Oversampling Technique (SMOTE)**. It works by selecting examples that are close in the feature space, drawing a line between the examples in the feature space and drawing a new sample at a point along that line.\n",
    "\n",
    "To test balancing techniques we will use imblearn pipeline. "
   ]
  },
  {
   "cell_type": "markdown",
   "metadata": {},
   "source": [
    "### Random Forest Classifier"
   ]
  },
  {
   "cell_type": "code",
   "execution_count": 33,
   "metadata": {
    "ExecuteTime": {
     "end_time": "2020-05-31T19:33:38.226406Z",
     "start_time": "2020-05-31T19:30:17.770818Z"
    },
    "scrolled": true
   },
   "outputs": [
    {
     "name": "stdout",
     "output_type": "stream",
     "text": [
      "\n",
      " **No Balancing**\n",
      "**RandomForestClassifier** results \n",
      "\n",
      "Confusion Matrix of test data\n"
     ]
    },
    {
     "data": {
      "image/png": "[encoded data removed]",
      "text/plain": [
       "<Figure size 576x360 with 2 Axes>"
      ]
     },
     "metadata": {
      "needs_background": "light"
     },
     "output_type": "display_data"
    },
    {
     "name": "stdout",
     "output_type": "stream",
     "text": [
      "Classifictation Report of test data \n",
      "\n",
      "              precision    recall  f1-score   support\n",
      "\n",
      "           0       0.57      0.37      0.45      3597\n",
      "           1       0.59      0.77      0.66      4210\n",
      "\n",
      "    accuracy                           0.58      7807\n",
      "   macro avg       0.58      0.57      0.56      7807\n",
      "weighted avg       0.58      0.58      0.56      7807\n",
      " \n",
      "\n",
      "Main model evaluation metrics with cross validation (train and test data) \n",
      "\n",
      "    data                   model  accuracy  precision    recall   f1score    rocauc\n",
      "0  train  RandomForestClassifier  0.607335   0.588851  0.932994  0.722007  0.683232\n",
      "1   test  RandomForestClassifier  0.612399   0.607638  0.793824  0.688270  0.663411\n",
      "\n",
      " **Near Miss**\n",
      "**RandomForestClassifier** results \n",
      "\n",
      "Confusion Matrix of test data\n"
     ]
    },
    {
     "data": {
      "image/png": "[encoded data removed]",
      "text/plain": [
       "<Figure size 576x360 with 2 Axes>"
      ]
     },
     "metadata": {
      "needs_background": "light"
     },
     "output_type": "display_data"
    },
    {
     "name": "stdout",
     "output_type": "stream",
     "text": [
      "Classifictation Report of test data \n",
      "\n",
      "              precision    recall  f1-score   support\n",
      "\n",
      "           0       0.51      0.67      0.58      3597\n",
      "           1       0.61      0.44      0.51      4210\n",
      "\n",
      "    accuracy                           0.55      7807\n",
      "   macro avg       0.56      0.56      0.55      7807\n",
      "weighted avg       0.56      0.55      0.54      7807\n",
      " \n",
      "\n",
      "Main model evaluation metrics with cross validation (train and test data) \n",
      "\n",
      "    data                   model  accuracy  precision    recall   f1score    rocauc\n",
      "0  train  RandomForestClassifier  0.624802    0.63373  0.743629  0.684175  0.663111\n",
      "1   test  RandomForestClassifier  0.614321    0.63596  0.666983  0.650926  0.654896\n",
      "\n",
      " **Instance Hardness Threshold**\n",
      "**RandomForestClassifier** results \n",
      "\n",
      "Confusion Matrix of test data\n"
     ]
    },
    {
     "data": {
      "image/png": "[encoded data removed]",
      "text/plain": [
       "<Figure size 576x360 with 2 Axes>"
      ]
     },
     "metadata": {
      "needs_background": "light"
     },
     "output_type": "display_data"
    },
    {
     "name": "stdout",
     "output_type": "stream",
     "text": [
      "Classifictation Report of test data \n",
      "\n",
      "              precision    recall  f1-score   support\n",
      "\n",
      "           0       0.50      0.77      0.61      3597\n",
      "           1       0.63      0.34      0.44      4210\n",
      "\n",
      "    accuracy                           0.54      7807\n",
      "   macro avg       0.57      0.56      0.52      7807\n",
      "weighted avg       0.57      0.54      0.52      7807\n",
      " \n",
      "\n",
      "Main model evaluation metrics with cross validation (train and test data) \n",
      "\n",
      "    data                   model  accuracy  precision    recall   f1score    rocauc\n",
      "0  train  RandomForestClassifier  0.631442   0.665147  0.658210  0.660959  0.678766\n",
      "1   test  RandomForestClassifier  0.621622   0.643480  0.668884  0.655848  0.661332\n",
      "\n",
      " **SMOTE**\n",
      "**RandomForestClassifier** results \n",
      "\n",
      "Confusion Matrix of test data\n"
     ]
    },
    {
     "data": {
      "image/png": "[encoded data removed]",
      "text/plain": [
       "<Figure size 576x360 with 2 Axes>"
      ]
     },
     "metadata": {
      "needs_background": "light"
     },
     "output_type": "display_data"
    },
    {
     "name": "stdout",
     "output_type": "stream",
     "text": [
      "Classifictation Report of test data \n",
      "\n",
      "              precision    recall  f1-score   support\n",
      "\n",
      "           0       0.52      0.77      0.62      3597\n",
      "           1       0.67      0.39      0.49      4210\n",
      "\n",
      "    accuracy                           0.57      7807\n",
      "   macro avg       0.59      0.58      0.56      7807\n",
      "weighted avg       0.60      0.57      0.55      7807\n",
      " \n",
      "\n",
      "Main model evaluation metrics with cross validation (train and test data) \n",
      "\n",
      "    data                   model  accuracy  precision    recall   f1score    rocauc\n",
      "0  train  RandomForestClassifier  0.628940   0.674748  0.620273  0.646224  0.678414\n",
      "1   test  RandomForestClassifier  0.622261   0.641966  0.677672  0.659106  0.660157\n"
     ]
    }
   ],
   "source": [
    "estimator = RandomForestClassifier(**rf_params, random_state=42) \n",
    "estimator_name = 'RandomForestClassifier'\n",
    "\n",
    "no_balancing  = [('clf', estimator)]\n",
    "\n",
    "near_miss     = [('balancing', NearMiss(random_state=42)),\n",
    "                 ('clf', estimator)]\n",
    "\n",
    "instance      = [('balancing', InstanceHardnessThreshold(random_state=42)),\n",
    "                 ('clf', estimator)]\n",
    "\n",
    "smote         = [('balancing', SMOTE(random_state=42)),\n",
    "                 ('clf', estimator)]\n",
    "\n",
    "bal_pipes = [no_balancing, near_miss, instance, smote]\n",
    "bal_names = ['No Balancing', 'Near Miss', 'Instance Hardness Threshold', 'SMOTE']\n",
    "\n",
    "for steps, bal in zip(bal_pipes, bal_names):\n",
    "    pipeline = imbPipeline(steps)\n",
    "    print('\\n',f'**{bal}**')\n",
    "    model_results_tr_ts(pipeline, X_train, y_train, X_test, y_test, estimator_name)"
   ]
  },
  {
   "cell_type": "markdown",
   "metadata": {},
   "source": [
    "We can see that in all cases when a balancing technique is used, the algorithm tends to predict class (0) more often. Based on the results, for Random Forest it is best to not apply any balancing technique.  "
   ]
  },
  {
   "cell_type": "markdown",
   "metadata": {},
   "source": [
    "### Support Vector Machine"
   ]
  },
  {
   "cell_type": "code",
   "execution_count": 34,
   "metadata": {
    "ExecuteTime": {
     "end_time": "2020-05-31T19:55:55.720522Z",
     "start_time": "2020-05-31T19:33:38.227403Z"
    },
    "scrolled": true
   },
   "outputs": [
    {
     "name": "stdout",
     "output_type": "stream",
     "text": [
      "\n",
      " **No Balancing**\n",
      "**Support Vector Machine** results \n",
      "\n",
      "Confusion Matrix of test data\n"
     ]
    },
    {
     "data": {
      "image/png": "[encoded data removed]",
      "text/plain": [
       "<Figure size 576x360 with 2 Axes>"
      ]
     },
     "metadata": {
      "needs_background": "light"
     },
     "output_type": "display_data"
    },
    {
     "name": "stdout",
     "output_type": "stream",
     "text": [
      "Classifictation Report of test data \n",
      "\n",
      "              precision    recall  f1-score   support\n",
      "\n",
      "           0       0.54      0.65      0.59      3597\n",
      "           1       0.64      0.54      0.58      4210\n",
      "\n",
      "    accuracy                           0.59      7807\n",
      "   macro avg       0.59      0.59      0.59      7807\n",
      "weighted avg       0.59      0.59      0.59      7807\n",
      " \n",
      "\n",
      "Main model evaluation metrics with cross validation (train and test data) \n",
      "\n",
      "    data                   model  accuracy  precision    recall   f1score    rocauc\n",
      "0  train  Support Vector Machine  0.642325   0.650730  0.746118  0.695134  0.678256\n",
      "1   test  Support Vector Machine  0.628923   0.643097  0.700713  0.670457  0.664131\n",
      "\n",
      " **Near Miss**\n",
      "**Support Vector Machine** results \n",
      "\n",
      "Confusion Matrix of test data\n"
     ]
    },
    {
     "data": {
      "image/png": "[encoded data removed]",
      "text/plain": [
       "<Figure size 576x360 with 2 Axes>"
      ]
     },
     "metadata": {
      "needs_background": "light"
     },
     "output_type": "display_data"
    },
    {
     "name": "stdout",
     "output_type": "stream",
     "text": [
      "Classifictation Report of test data \n",
      "\n",
      "              precision    recall  f1-score   support\n",
      "\n",
      "           0       0.51      0.73      0.60      3597\n",
      "           1       0.64      0.41      0.50      4210\n",
      "\n",
      "    accuracy                           0.56      7807\n",
      "   macro avg       0.57      0.57      0.55      7807\n",
      "weighted avg       0.58      0.56      0.55      7807\n",
      " \n",
      "\n",
      "Main model evaluation metrics with cross validation (train and test data) \n",
      "\n",
      "    data                   model  accuracy  precision    recall   f1score    rocauc\n",
      "0  train  Support Vector Machine  0.612559   0.649056  0.634011  0.641398  0.651485\n",
      "1   test  Support Vector Machine  0.601896   0.644913  0.582660  0.612057  0.641030\n",
      "\n",
      " **Instance Hardness Threshold**\n",
      "**Support Vector Machine** results \n",
      "\n",
      "Confusion Matrix of test data\n"
     ]
    },
    {
     "data": {
      "image/png": "[encoded data removed]",
      "text/plain": [
       "<Figure size 576x360 with 2 Axes>"
      ]
     },
     "metadata": {
      "needs_background": "light"
     },
     "output_type": "display_data"
    },
    {
     "name": "stdout",
     "output_type": "stream",
     "text": [
      "Classifictation Report of test data \n",
      "\n",
      "              precision    recall  f1-score   support\n",
      "\n",
      "           0       0.51      0.76      0.61      3597\n",
      "           1       0.65      0.37      0.47      4210\n",
      "\n",
      "    accuracy                           0.55      7807\n",
      "   macro avg       0.58      0.57      0.54      7807\n",
      "weighted avg       0.58      0.55      0.54      7807\n",
      " \n",
      "\n",
      "Main model evaluation metrics with cross validation (train and test data) \n",
      "\n",
      "    data                   model  accuracy  precision    recall   f1score    rocauc\n",
      "0  train  Support Vector Machine  0.634871   0.672130  0.648349  0.659934  0.675340\n",
      "1   test  Support Vector Machine  0.629307   0.665019  0.629929  0.646849  0.662809\n",
      "\n",
      " **SMOTE**\n",
      "**Support Vector Machine** results \n",
      "\n",
      "Confusion Matrix of test data\n"
     ]
    },
    {
     "data": {
      "image/png": "[encoded data removed]",
      "text/plain": [
       "<Figure size 576x360 with 2 Axes>"
      ]
     },
     "metadata": {
      "needs_background": "light"
     },
     "output_type": "display_data"
    },
    {
     "name": "stdout",
     "output_type": "stream",
     "text": [
      "Classifictation Report of test data \n",
      "\n",
      "              precision    recall  f1-score   support\n",
      "\n",
      "           0       0.54      0.71      0.61      3597\n",
      "           1       0.66      0.48      0.56      4210\n",
      "\n",
      "    accuracy                           0.59      7807\n",
      "   macro avg       0.60      0.60      0.58      7807\n",
      "weighted avg       0.60      0.59      0.58      7807\n",
      " \n",
      "\n",
      "Main model evaluation metrics with cross validation (train and test data) \n",
      "\n",
      "    data                   model  accuracy  precision    recall   f1score    rocauc\n",
      "0  train  Support Vector Machine  0.633292   0.669583  0.649841  0.659478  0.676760\n",
      "1   test  Support Vector Machine  0.624054   0.656394  0.635392  0.645469  0.661803\n"
     ]
    }
   ],
   "source": [
    "estimator = SVC(**svc_params, random_state=42) \n",
    "estimator_name = 'Support Vector Machine'\n",
    "\n",
    "no_balancing  = [('scaler', StandardScaler()),\n",
    "                 ('clf', estimator)]\n",
    "\n",
    "near_miss     = [('scaler', StandardScaler()),\n",
    "                 ('balancing', NearMiss(random_state=42)),\n",
    "                 ('clf', estimator)]\n",
    "\n",
    "instance      = [('scaler', StandardScaler()),\n",
    "                 ('balancing', InstanceHardnessThreshold(random_state=42)),\n",
    "                 ('clf', estimator)]\n",
    "\n",
    "smote         = [('scaler', StandardScaler()),\n",
    "                 ('balancing', SMOTE(random_state=42)),\n",
    "                 ('clf', estimator)]\n",
    "\n",
    "bal_pipes = [no_balancing, near_miss, instance, smote]\n",
    "bal_names = ['No Balancing', 'Near Miss', 'Instance Hardness Threshold', 'SMOTE']\n",
    "\n",
    "for steps, bal in zip(bal_pipes, bal_names):\n",
    "    pipeline = imbPipeline(steps)\n",
    "    print('\\n',f'**{bal}**')\n",
    "    model_results_tr_ts(pipeline, X_train, y_train, X_test, y_test, estimator_name)"
   ]
  },
  {
   "cell_type": "markdown",
   "metadata": {},
   "source": [
    "The same as with Random Forest, Support Vector Machine is working better without balancing data. Based on the results, for Support Vector Machine it is best to not apply any balancing technique."
   ]
  },
  {
   "cell_type": "markdown",
   "metadata": {},
   "source": [
    "### K-Nearest Neighbors Classifier"
   ]
  },
  {
   "cell_type": "code",
   "execution_count": 35,
   "metadata": {
    "ExecuteTime": {
     "end_time": "2020-05-31T19:59:38.799327Z",
     "start_time": "2020-05-31T19:55:55.721521Z"
    },
    "scrolled": true
   },
   "outputs": [
    {
     "name": "stdout",
     "output_type": "stream",
     "text": [
      "\n",
      " **No Balancing**\n",
      "**KNeighborsClassifier** results \n",
      "\n",
      "Confusion Matrix of test data\n"
     ]
    },
    {
     "data": {
      "image/png": "[encoded data removed]",
      "text/plain": [
       "<Figure size 576x360 with 2 Axes>"
      ]
     },
     "metadata": {
      "needs_background": "light"
     },
     "output_type": "display_data"
    },
    {
     "name": "stdout",
     "output_type": "stream",
     "text": [
      "Classifictation Report of test data \n",
      "\n",
      "              precision    recall  f1-score   support\n",
      "\n",
      "           0       0.55      0.46      0.50      3597\n",
      "           1       0.59      0.67      0.63      4210\n",
      "\n",
      "    accuracy                           0.58      7807\n",
      "   macro avg       0.57      0.57      0.57      7807\n",
      "weighted avg       0.57      0.58      0.57      7807\n",
      " \n",
      "\n",
      "Main model evaluation metrics with cross validation (train and test data) \n",
      "\n",
      "    data                 model  accuracy  precision    recall   f1score    rocauc\n",
      "0  train  KNeighborsClassifier  0.594493   0.605477  0.740742  0.666291  0.622540\n",
      "1   test  KNeighborsClassifier  0.576535   0.588454  0.714014  0.645153  0.590245\n",
      "\n",
      " **Near Miss**\n",
      "**KNeighborsClassifier** results \n",
      "\n",
      "Confusion Matrix of test data\n"
     ]
    },
    {
     "data": {
      "image/png": "[encoded data removed]",
      "text/plain": [
       "<Figure size 576x360 with 2 Axes>"
      ]
     },
     "metadata": {
      "needs_background": "light"
     },
     "output_type": "display_data"
    },
    {
     "name": "stdout",
     "output_type": "stream",
     "text": [
      "Classifictation Report of test data \n",
      "\n",
      "              precision    recall  f1-score   support\n",
      "\n",
      "           0       0.52      0.58      0.54      3597\n",
      "           1       0.60      0.54      0.57      4210\n",
      "\n",
      "    accuracy                           0.56      7807\n",
      "   macro avg       0.56      0.56      0.56      7807\n",
      "weighted avg       0.56      0.56      0.56      7807\n",
      " \n",
      "\n",
      "Main model evaluation metrics with cross validation (train and test data) \n",
      "\n",
      "    data                 model  accuracy  precision    recall   f1score    rocauc\n",
      "0  train  KNeighborsClassifier  0.575829   0.610657  0.617685  0.614088  0.595977\n",
      "1   test  KNeighborsClassifier  0.566158   0.593141  0.622328  0.607338  0.582058\n",
      "\n",
      " **Instance Hardness Threshold**\n",
      "**KNeighborsClassifier** results \n",
      "\n",
      "Confusion Matrix of test data\n"
     ]
    },
    {
     "data": {
      "image/png": "[encoded data removed]",
      "text/plain": [
       "<Figure size 576x360 with 2 Axes>"
      ]
     },
     "metadata": {
      "needs_background": "light"
     },
     "output_type": "display_data"
    },
    {
     "name": "stdout",
     "output_type": "stream",
     "text": [
      "Classifictation Report of test data \n",
      "\n",
      "              precision    recall  f1-score   support\n",
      "\n",
      "           0       0.52      0.61      0.56      3597\n",
      "           1       0.61      0.52      0.56      4210\n",
      "\n",
      "    accuracy                           0.56      7807\n",
      "   macro avg       0.56      0.56      0.56      7807\n",
      "weighted avg       0.57      0.56      0.56      7807\n",
      " \n",
      "\n",
      "Main model evaluation metrics with cross validation (train and test data) \n",
      "\n",
      "    data                 model  accuracy  precision    recall   f1score    rocauc\n",
      "0  train  KNeighborsClassifier  0.595854   0.626454  0.645263  0.635690  0.629618\n",
      "1   test  KNeighborsClassifier  0.573589   0.602610  0.614252  0.608359  0.596618\n",
      "\n",
      " **SMOTE**\n",
      "**KNeighborsClassifier** results \n",
      "\n",
      "Confusion Matrix of test data\n"
     ]
    },
    {
     "data": {
      "image/png": "[encoded data removed]",
      "text/plain": [
       "<Figure size 576x360 with 2 Axes>"
      ]
     },
     "metadata": {
      "needs_background": "light"
     },
     "output_type": "display_data"
    },
    {
     "name": "stdout",
     "output_type": "stream",
     "text": [
      "Classifictation Report of test data \n",
      "\n",
      "              precision    recall  f1-score   support\n",
      "\n",
      "           0       0.53      0.56      0.55      3597\n",
      "           1       0.60      0.57      0.59      4210\n",
      "\n",
      "    accuracy                           0.57      7807\n",
      "   macro avg       0.57      0.57      0.57      7807\n",
      "weighted avg       0.57      0.57      0.57      7807\n",
      " \n",
      "\n",
      "Main model evaluation metrics with cross validation (train and test data) \n",
      "\n",
      "    data                 model  accuracy  precision    recall   f1score    rocauc\n",
      "0  train  KNeighborsClassifier  0.590521    0.62158  0.641081  0.631164  0.620717\n",
      "1   test  KNeighborsClassifier  0.564240    0.59376  0.607126  0.600323  0.583244\n"
     ]
    }
   ],
   "source": [
    "estimator = KNeighborsClassifier(**knn_params) \n",
    "estimator_name = 'KNeighborsClassifier'\n",
    "\n",
    "no_balancing  = [('scaler', Normalizer()),\n",
    "                 ('clf', estimator)]\n",
    "\n",
    "near_miss     = [('scaler', Normalizer()),\n",
    "                 ('balancing', NearMiss(random_state=42)),\n",
    "                 ('clf', estimator)]\n",
    "\n",
    "instance      = [('scaler', Normalizer()),\n",
    "                 ('balancing', InstanceHardnessThreshold(random_state=42)),\n",
    "                 ('clf', estimator)]\n",
    "\n",
    "smote         = [('scaler', Normalizer()),\n",
    "                 ('balancing', SMOTE(random_state=42)),\n",
    "                 ('clf', estimator)]\n",
    "\n",
    "bal_pipes = [no_balancing, near_miss, instance, smote]\n",
    "bal_names = ['No Balancing', 'Near Miss', 'Instance Hardness Threshold', 'SMOTE']\n",
    "\n",
    "for steps, bal in zip(bal_pipes, bal_names):\n",
    "    pipeline = imbPipeline(steps)\n",
    "    print('\\n',f'**{bal}**')\n",
    "    model_results_tr_ts(pipeline, X_train, y_train, X_test, y_test, estimator_name)"
   ]
  },
  {
   "cell_type": "markdown",
   "metadata": {},
   "source": [
    "We can see from the results that the same as with the previous models, with KNeighborsClassifier is also best not to use any balancing technique.  "
   ]
  },
  {
   "cell_type": "markdown",
   "metadata": {},
   "source": [
    "#### Data Preprocessing (Scaling and Balancing) Conclusions"
   ]
  },
  {
   "cell_type": "markdown",
   "metadata": {},
   "source": [
    "We have been checking if any Scaling or Balancing techniques could improve our results and we saw that no balancing technique is necessary for our data (not improving predictor results), regarding the scaler, K-Nearest Neighbors Classifier tends to work a bit better when using the Normalizer, Random Forest doesn't need any data preprocessing and Support Vector Machine works slightly better with the Standard Scaler."
   ]
  },
  {
   "cell_type": "markdown",
   "metadata": {},
   "source": [
    "## Pipeline (Hyperparameter tuning)"
   ]
  },
  {
   "cell_type": "markdown",
   "metadata": {},
   "source": [
    "Now that we know which data preprocessing technique works best with our models, let's see if we can improve the results with a more in-depth hyperparameter tuning."
   ]
  },
  {
   "cell_type": "markdown",
   "metadata": {},
   "source": [
    "### Random Forest Classifier"
   ]
  },
  {
   "cell_type": "code",
   "execution_count": 36,
   "metadata": {
    "ExecuteTime": {
     "end_time": "2020-05-31T19:59:38.805289Z",
     "start_time": "2020-05-31T19:59:38.800302Z"
    }
   },
   "outputs": [
    {
     "name": "stdout",
     "output_type": "stream",
     "text": [
      "At the moment we were runing Random Forest with these parameters: \n",
      "{'criterion': 'gini', 'max_depth': 2, 'max_features': 'auto', 'n_estimators': 100}\n"
     ]
    }
   ],
   "source": [
    "print(f'At the moment we were runing Random Forest with these parameters: \\n{rf_params}')"
   ]
  },
  {
   "cell_type": "markdown",
   "metadata": {},
   "source": [
    "- We had the F1 score at 0.6882\n",
    "- TP 3227\n",
    "- FN 983\n",
    "- FP 2280\n",
    "\n",
    "The most important parameters are the number of trees in the forest (n_estimators) and the number of features considered for splitting at each leaf node (max_features). Other parameters that we will be using:\n",
    "\n",
    "- max_depth = max number of levels in each decision tree\n",
    "- min_samples_split = min number of data points placed in a node before the node is split\n",
    "- min_samples_leaf = min number of data points allowed in a leaf node\n",
    "- bootstrap = method for sampling data points (with or without replacement)"
   ]
  },
  {
   "cell_type": "code",
   "execution_count": 37,
   "metadata": {
    "ExecuteTime": {
     "end_time": "2020-05-31T20:04:50.345563Z",
     "start_time": "2020-05-31T19:59:38.806286Z"
    },
    "scrolled": true
   },
   "outputs": [
    {
     "name": "stdout",
     "output_type": "stream",
     "text": [
      "{'clf__bootstrap': True, 'clf__max_depth': 2, 'clf__max_features': 'auto', 'clf__min_samples_leaf': 1, 'clf__min_samples_split': 2, 'clf__n_estimators': 150} \n",
      "\n",
      "\n",
      " **Random Forest Classifier** results \n",
      "\n",
      "Confusion Matrix of test data\n"
     ]
    },
    {
     "data": {
      "image/png": "[encoded data removed]",
      "text/plain": [
       "<Figure size 576x360 with 2 Axes>"
      ]
     },
     "metadata": {
      "needs_background": "light"
     },
     "output_type": "display_data"
    },
    {
     "name": "stdout",
     "output_type": "stream",
     "text": [
      "Classifictation Report of test data \n",
      "\n",
      "              precision    recall  f1-score   support\n",
      "\n",
      "           0       0.56      0.39      0.46      3597\n",
      "           1       0.59      0.74      0.65      4210\n",
      "\n",
      "    accuracy                           0.58      7807\n",
      "   macro avg       0.57      0.56      0.56      7807\n",
      "weighted avg       0.57      0.58      0.57      7807\n",
      " \n",
      "\n"
     ]
    },
    {
     "data": {
      "text/html": [
       "<div>\n",
       "<style scoped>\n",
       "    .dataframe tbody tr th:only-of-type {\n",
       "        vertical-align: middle;\n",
       "    }\n",
       "\n",
       "    .dataframe tbody tr th {\n",
       "        vertical-align: top;\n",
       "    }\n",
       "\n",
       "    .dataframe thead th {\n",
       "        text-align: right;\n",
       "    }\n",
       "</style>\n",
       "<table border=\"1\" class=\"dataframe\">\n",
       "  <thead>\n",
       "    <tr style=\"text-align: right;\">\n",
       "      <th></th>\n",
       "      <th>data</th>\n",
       "      <th>model</th>\n",
       "      <th>accuracy</th>\n",
       "      <th>precision</th>\n",
       "      <th>recall</th>\n",
       "      <th>f1score</th>\n",
       "      <th>rocauc</th>\n",
       "    </tr>\n",
       "  </thead>\n",
       "  <tbody>\n",
       "    <tr>\n",
       "      <td>0</td>\n",
       "      <td>test</td>\n",
       "      <td>Random Forest Classifier</td>\n",
       "      <td>0.612656</td>\n",
       "      <td>0.60735</td>\n",
       "      <td>0.796912</td>\n",
       "      <td>0.689268</td>\n",
       "      <td>0.665926</td>\n",
       "    </tr>\n",
       "  </tbody>\n",
       "</table>\n",
       "</div>"
      ],
      "text/plain": [
       "   data                     model  accuracy  precision    recall   f1score  \\\n",
       "0  test  Random Forest Classifier  0.612656    0.60735  0.796912  0.689268   \n",
       "\n",
       "     rocauc  \n",
       "0  0.665926  "
      ]
     },
     "execution_count": 37,
     "metadata": {},
     "output_type": "execute_result"
    }
   ],
   "source": [
    "estimator = RandomForestClassifier(random_state=42)\n",
    "estimator_name = 'Random Forest Classifier'\n",
    "\n",
    "pipeline = Pipeline([('clf', estimator)])\n",
    "\n",
    "param_grid = {'clf__n_estimators': [30, 50, 100, 150, 170],\n",
    "              'clf__max_features': ['auto', 'sqrt'],\n",
    "              'clf__max_depth': [2, 6, 10],\n",
    "              'clf__min_samples_split': [2, 5, 10],\n",
    "              'clf__min_samples_leaf': [1, 2, 4],\n",
    "              'clf__bootstrap': [True, False]\n",
    "             }\n",
    "\n",
    "strat_k_fold = StratifiedKFold(n_splits=5, shuffle=True, random_state=42)\n",
    "grid = GridSearchCV(estimator=pipeline, param_grid=param_grid, cv=strat_k_fold, n_jobs=-1, \n",
    "                    scoring='f1')\n",
    "\n",
    "grid.fit(X_train, y_train) \n",
    "best_estimator = grid.best_estimator_\n",
    "print(grid.best_params_, '\\n')\n",
    "model_results_hyp_test_cm_cr_df(best_estimator, X_test, y_test, estimator_name)"
   ]
  },
  {
   "cell_type": "markdown",
   "metadata": {},
   "source": [
    "The new selection of the parameters with n_estimators 150 gives a slightly better F1 score (0.689) but it increases the number of FN and decreases TP that is not what we are looking for.\n",
    "\n",
    "Let's see if we can get better performance when keeping n_estimators at 100 and only changing other parameters:"
   ]
  },
  {
   "cell_type": "code",
   "execution_count": 38,
   "metadata": {
    "ExecuteTime": {
     "end_time": "2020-05-31T20:05:40.682117Z",
     "start_time": "2020-05-31T20:04:50.346560Z"
    }
   },
   "outputs": [
    {
     "name": "stdout",
     "output_type": "stream",
     "text": [
      "{'clf__bootstrap': False, 'clf__max_depth': 2, 'clf__max_features': 'auto', 'clf__min_samples_leaf': 1, 'clf__min_samples_split': 2, 'clf__n_estimators': 100} \n",
      "\n",
      "\n",
      " **Random Forest Classifier** results \n",
      "\n",
      "Confusion Matrix of test data\n"
     ]
    },
    {
     "data": {
      "image/png": "[encoded data removed]",
      "text/plain": [
       "<Figure size 576x360 with 2 Axes>"
      ]
     },
     "metadata": {
      "needs_background": "light"
     },
     "output_type": "display_data"
    },
    {
     "name": "stdout",
     "output_type": "stream",
     "text": [
      "Classifictation Report of test data \n",
      "\n",
      "              precision    recall  f1-score   support\n",
      "\n",
      "           0       0.58      0.36      0.44      3597\n",
      "           1       0.59      0.77      0.67      4210\n",
      "\n",
      "    accuracy                           0.58      7807\n",
      "   macro avg       0.58      0.57      0.55      7807\n",
      "weighted avg       0.58      0.58      0.56      7807\n",
      " \n",
      "\n"
     ]
    },
    {
     "data": {
      "text/html": [
       "<div>\n",
       "<style scoped>\n",
       "    .dataframe tbody tr th:only-of-type {\n",
       "        vertical-align: middle;\n",
       "    }\n",
       "\n",
       "    .dataframe tbody tr th {\n",
       "        vertical-align: top;\n",
       "    }\n",
       "\n",
       "    .dataframe thead th {\n",
       "        text-align: right;\n",
       "    }\n",
       "</style>\n",
       "<table border=\"1\" class=\"dataframe\">\n",
       "  <thead>\n",
       "    <tr style=\"text-align: right;\">\n",
       "      <th></th>\n",
       "      <th>data</th>\n",
       "      <th>model</th>\n",
       "      <th>accuracy</th>\n",
       "      <th>precision</th>\n",
       "      <th>recall</th>\n",
       "      <th>f1score</th>\n",
       "      <th>rocauc</th>\n",
       "    </tr>\n",
       "  </thead>\n",
       "  <tbody>\n",
       "    <tr>\n",
       "      <td>0</td>\n",
       "      <td>test</td>\n",
       "      <td>Random Forest Classifier</td>\n",
       "      <td>0.612656</td>\n",
       "      <td>0.607884</td>\n",
       "      <td>0.793824</td>\n",
       "      <td>0.68845</td>\n",
       "      <td>0.662221</td>\n",
       "    </tr>\n",
       "  </tbody>\n",
       "</table>\n",
       "</div>"
      ],
      "text/plain": [
       "   data                     model  accuracy  precision    recall  f1score  \\\n",
       "0  test  Random Forest Classifier  0.612656   0.607884  0.793824  0.68845   \n",
       "\n",
       "     rocauc  \n",
       "0  0.662221  "
      ]
     },
     "execution_count": 38,
     "metadata": {},
     "output_type": "execute_result"
    }
   ],
   "source": [
    "estimator = RandomForestClassifier(random_state=42)\n",
    "estimator_name = 'Random Forest Classifier'\n",
    "\n",
    "pipeline = Pipeline([('clf', estimator)])\n",
    "\n",
    "param_grid = {'clf__n_estimators': [100],\n",
    "              'clf__max_features': ['auto', 'sqrt'],\n",
    "              'clf__max_depth': [2, 4, 6],\n",
    "              'clf__min_samples_split': [2, 4, 6],\n",
    "              'clf__min_samples_leaf': [1, 2, 4],\n",
    "              'clf__bootstrap': [True, False]}\n",
    "\n",
    "strat_k_fold = StratifiedKFold(n_splits=5, shuffle=True, random_state=42)\n",
    "grid = GridSearchCV(estimator=pipeline, param_grid=param_grid, cv=strat_k_fold, n_jobs=-1, \n",
    "                    scoring='f1')\n",
    "\n",
    "grid.fit(X_train, y_train) \n",
    "best_estimator = grid.best_estimator_\n",
    "print(grid.best_params_, '\\n')\n",
    "model_results_hyp_test_cm_cr_df(best_estimator, X_test, y_test, estimator_name)"
   ]
  },
  {
   "cell_type": "markdown",
   "metadata": {},
   "source": [
    "The new selection of parameters improved the performance slightly:\n",
    "\n",
    "- F1 score (0.6882 to 0.6884)\n",
    "- Number of TP (3227 to 3261) +34\n",
    "- Number of FN (983 to 949) -34\n",
    "- Number of FP (2280 to 2305) +25\n",
    "\n",
    "The best selection of parameters for Random Forest is: {'clf__bootstrap': False, 'clf__max_depth': 2, 'clf__max_features': 'auto', 'clf__min_samples_leaf': 1, 'clf__min_samples_split': 2, 'clf__n_estimators': 100}\n",
    "\n",
    "Let's see if we can get better results with other models."
   ]
  },
  {
   "cell_type": "markdown",
   "metadata": {},
   "source": [
    "### K-Nearest Neighbors Classifier"
   ]
  },
  {
   "cell_type": "code",
   "execution_count": 39,
   "metadata": {
    "ExecuteTime": {
     "end_time": "2020-05-31T20:05:40.687104Z",
     "start_time": "2020-05-31T20:05:40.683113Z"
    },
    "scrolled": true
   },
   "outputs": [
    {
     "name": "stdout",
     "output_type": "stream",
     "text": [
      "At the moment we were runing K-Nearest Neighbors with these parameters: \n",
      "{'metric': 'manhattan', 'n_neighbors': 19, 'weights': 'uniform'}\n"
     ]
    }
   ],
   "source": [
    "print(f'At the moment we were runing K-Nearest Neighbors with these parameters: \\n{knn_params}')"
   ]
  },
  {
   "cell_type": "markdown",
   "metadata": {},
   "source": [
    "- We had the F1 score at 0.6451\n",
    "- TP 2822\n",
    "- FN 1388\n",
    "- FP 1927\n",
    "\n",
    "We will be tweaking these parameters:\n",
    "\n",
    "- n_neighbors represents the number of neighbors to use for kneighbors queries.\n",
    "- leaf_size, passed to BallTree or KDTree. This can affect the speed of the construction and query, as well as the memory required to store the tree. The optimal value depends on the nature of the problem.\n",
    "- p - this is the power parameter for the Minkowski metric. When p=1, this is equivalent to using manhattan_distance(l1), and euliddean_distance(l2) for p=2.\n",
    "- weights, function used in prediction.\n",
    "- metric, the distance metric to use for the tree.\n",
    "\n",
    "Let's first check different values for n_neighbors, leaf_size, and p:"
   ]
  },
  {
   "cell_type": "code",
   "execution_count": 40,
   "metadata": {
    "ExecuteTime": {
     "end_time": "2020-05-31T20:05:48.920874Z",
     "start_time": "2020-05-31T20:05:40.688100Z"
    }
   },
   "outputs": [
    {
     "name": "stdout",
     "output_type": "stream",
     "text": [
      "{'clf__leaf_size': 10, 'clf__metric': 'manhattan', 'clf__n_neighbors': 29, 'clf__p': 1, 'clf__weights': 'uniform'} \n",
      "\n",
      "\n",
      " **K-Nearest Neighbors** results \n",
      "\n",
      "Confusion Matrix of test data\n"
     ]
    },
    {
     "data": {
      "image/png": "[encoded data removed]",
      "text/plain": [
       "<Figure size 576x360 with 2 Axes>"
      ]
     },
     "metadata": {
      "needs_background": "light"
     },
     "output_type": "display_data"
    },
    {
     "name": "stdout",
     "output_type": "stream",
     "text": [
      "Classifictation Report of test data \n",
      "\n",
      "              precision    recall  f1-score   support\n",
      "\n",
      "           0       0.55      0.44      0.49      3597\n",
      "           1       0.59      0.70      0.64      4210\n",
      "\n",
      "    accuracy                           0.58      7807\n",
      "   macro avg       0.57      0.57      0.56      7807\n",
      "weighted avg       0.57      0.58      0.57      7807\n",
      " \n",
      "\n"
     ]
    },
    {
     "data": {
      "text/html": [
       "<div>\n",
       "<style scoped>\n",
       "    .dataframe tbody tr th:only-of-type {\n",
       "        vertical-align: middle;\n",
       "    }\n",
       "\n",
       "    .dataframe tbody tr th {\n",
       "        vertical-align: top;\n",
       "    }\n",
       "\n",
       "    .dataframe thead th {\n",
       "        text-align: right;\n",
       "    }\n",
       "</style>\n",
       "<table border=\"1\" class=\"dataframe\">\n",
       "  <thead>\n",
       "    <tr style=\"text-align: right;\">\n",
       "      <th></th>\n",
       "      <th>data</th>\n",
       "      <th>model</th>\n",
       "      <th>accuracy</th>\n",
       "      <th>precision</th>\n",
       "      <th>recall</th>\n",
       "      <th>f1score</th>\n",
       "      <th>rocauc</th>\n",
       "    </tr>\n",
       "  </thead>\n",
       "  <tbody>\n",
       "    <tr>\n",
       "      <td>0</td>\n",
       "      <td>test</td>\n",
       "      <td>K-Nearest Neighbors</td>\n",
       "      <td>0.574616</td>\n",
       "      <td>0.583475</td>\n",
       "      <td>0.738005</td>\n",
       "      <td>0.651617</td>\n",
       "      <td>0.59053</td>\n",
       "    </tr>\n",
       "  </tbody>\n",
       "</table>\n",
       "</div>"
      ],
      "text/plain": [
       "   data                model  accuracy  precision    recall   f1score   rocauc\n",
       "0  test  K-Nearest Neighbors  0.574616   0.583475  0.738005  0.651617  0.59053"
      ]
     },
     "execution_count": 40,
     "metadata": {},
     "output_type": "execute_result"
    }
   ],
   "source": [
    "estimator = KNeighborsClassifier()\n",
    "estimator_name = 'K-Nearest Neighbors'\n",
    "\n",
    "pipeline = Pipeline([('scaler', Normalizer()),\n",
    "                     ('clf', estimator)])\n",
    "\n",
    "\n",
    "param_grid = {'clf__n_neighbors': [10, 19, 29],\n",
    "              'clf__leaf_size': [5, 10, 15],\n",
    "              'clf__p': [1, 2],\n",
    "              'clf__weights': ['uniform'],\n",
    "              'clf__metric' : ['manhattan']\n",
    "             }\n",
    "\n",
    "strat_k_fold = StratifiedKFold(n_splits=5, shuffle=True, random_state=42)\n",
    "grid = GridSearchCV(estimator=pipeline, param_grid=param_grid, cv=strat_k_fold, n_jobs=-1, \n",
    "                    scoring='f1')\n",
    "\n",
    "grid.fit(X_train, y_train) \n",
    "best_estimator = grid.best_estimator_\n",
    "print(grid.best_params_, '\\n')\n",
    "model_results_hyp_test_cm_cr_df(best_estimator, X_test, y_test, estimator_name)"
   ]
  },
  {
   "cell_type": "markdown",
   "metadata": {},
   "source": [
    "New parameters significantly improved model performance:\n",
    "\n",
    "- F1 score (0.6451 to 0.6711)\n",
    "- Number of TP (2822 to 2929) +107\n",
    "- Number of FN (1388 to 1281) -107\n",
    "- Number of FP (1927 to 1856) -71\n",
    "\n",
    "Let's see if we can improve this furthermore."
   ]
  },
  {
   "cell_type": "code",
   "execution_count": 41,
   "metadata": {
    "ExecuteTime": {
     "end_time": "2020-05-31T20:06:14.812530Z",
     "start_time": "2020-05-31T20:05:48.921864Z"
    }
   },
   "outputs": [
    {
     "name": "stdout",
     "output_type": "stream",
     "text": [
      "{'clf__leaf_size': 9, 'clf__metric': 'manhattan', 'clf__n_neighbors': 39, 'clf__p': 1, 'clf__weights': 'uniform'} \n",
      "\n",
      "\n",
      " **K-Nearest Neighbors** results \n",
      "\n",
      "Confusion Matrix of test data\n"
     ]
    },
    {
     "data": {
      "image/png": "[encoded data removed]",
      "text/plain": [
       "<Figure size 576x360 with 2 Axes>"
      ]
     },
     "metadata": {
      "needs_background": "light"
     },
     "output_type": "display_data"
    },
    {
     "name": "stdout",
     "output_type": "stream",
     "text": [
      "Classifictation Report of test data \n",
      "\n",
      "              precision    recall  f1-score   support\n",
      "\n",
      "           0       0.56      0.43      0.48      3597\n",
      "           1       0.59      0.71      0.64      4210\n",
      "\n",
      "    accuracy                           0.58      7807\n",
      "   macro avg       0.57      0.57      0.56      7807\n",
      "weighted avg       0.58      0.58      0.57      7807\n",
      " \n",
      "\n"
     ]
    },
    {
     "data": {
      "text/html": [
       "<div>\n",
       "<style scoped>\n",
       "    .dataframe tbody tr th:only-of-type {\n",
       "        vertical-align: middle;\n",
       "    }\n",
       "\n",
       "    .dataframe tbody tr th {\n",
       "        vertical-align: top;\n",
       "    }\n",
       "\n",
       "    .dataframe thead th {\n",
       "        text-align: right;\n",
       "    }\n",
       "</style>\n",
       "<table border=\"1\" class=\"dataframe\">\n",
       "  <thead>\n",
       "    <tr style=\"text-align: right;\">\n",
       "      <th></th>\n",
       "      <th>data</th>\n",
       "      <th>model</th>\n",
       "      <th>accuracy</th>\n",
       "      <th>precision</th>\n",
       "      <th>recall</th>\n",
       "      <th>f1score</th>\n",
       "      <th>rocauc</th>\n",
       "    </tr>\n",
       "  </thead>\n",
       "  <tbody>\n",
       "    <tr>\n",
       "      <td>0</td>\n",
       "      <td>test</td>\n",
       "      <td>K-Nearest Neighbors</td>\n",
       "      <td>0.577689</td>\n",
       "      <td>0.582923</td>\n",
       "      <td>0.761045</td>\n",
       "      <td>0.660045</td>\n",
       "      <td>0.595379</td>\n",
       "    </tr>\n",
       "  </tbody>\n",
       "</table>\n",
       "</div>"
      ],
      "text/plain": [
       "   data                model  accuracy  precision    recall   f1score  \\\n",
       "0  test  K-Nearest Neighbors  0.577689   0.582923  0.761045  0.660045   \n",
       "\n",
       "     rocauc  \n",
       "0  0.595379  "
      ]
     },
     "execution_count": 41,
     "metadata": {},
     "output_type": "execute_result"
    }
   ],
   "source": [
    "estimator = KNeighborsClassifier()\n",
    "estimator_name = 'K-Nearest Neighbors'\n",
    "\n",
    "pipeline = Pipeline([('scaler', Normalizer()),\n",
    "                     ('clf', estimator)])\n",
    "\n",
    "param_grid = {'clf__n_neighbors': [19, 29, 39],\n",
    "              'clf__leaf_size': [9, 10, 20],\n",
    "              'clf__p': [1, 2],\n",
    "              'clf__weights': ['uniform', 'distance'],\n",
    "              'clf__metric' : ['euclidean', 'manhattan']\n",
    "             }\n",
    "\n",
    "strat_k_fold = StratifiedKFold(n_splits=5, shuffle=True, random_state=42)\n",
    "grid = GridSearchCV(estimator=pipeline, param_grid=param_grid, cv=strat_k_fold, n_jobs=-1, \n",
    "                    scoring='f1')\n",
    "\n",
    "grid.fit(X_train, y_train) \n",
    "best_estimator = grid.best_estimator_\n",
    "print(grid.best_params_, '\\n')\n",
    "model_results_hyp_test_cm_cr_df(best_estimator, X_test, y_test, estimator_name)"
   ]
  },
  {
   "cell_type": "markdown",
   "metadata": {},
   "source": [
    "Our results improved again, let's just try more different values for the n_neighbors:"
   ]
  },
  {
   "cell_type": "code",
   "execution_count": 42,
   "metadata": {
    "ExecuteTime": {
     "end_time": "2020-05-31T20:06:19.428933Z",
     "start_time": "2020-05-31T20:06:14.813527Z"
    }
   },
   "outputs": [
    {
     "name": "stdout",
     "output_type": "stream",
     "text": [
      "{'clf__leaf_size': 10, 'clf__metric': 'manhattan', 'clf__n_neighbors': 100, 'clf__p': 1, 'clf__weights': 'uniform'} \n",
      "\n",
      "\n",
      " **K-Nearest Neighbors** results \n",
      "\n",
      "Confusion Matrix of test data\n"
     ]
    },
    {
     "data": {
      "image/png": "[encoded data removed]",
      "text/plain": [
       "<Figure size 576x360 with 2 Axes>"
      ]
     },
     "metadata": {
      "needs_background": "light"
     },
     "output_type": "display_data"
    },
    {
     "name": "stdout",
     "output_type": "stream",
     "text": [
      "Classifictation Report of test data \n",
      "\n",
      "              precision    recall  f1-score   support\n",
      "\n",
      "           0       0.58      0.41      0.48      3597\n",
      "           1       0.60      0.75      0.67      4210\n",
      "\n",
      "    accuracy                           0.59      7807\n",
      "   macro avg       0.59      0.58      0.57      7807\n",
      "weighted avg       0.59      0.59      0.58      7807\n",
      " \n",
      "\n"
     ]
    },
    {
     "data": {
      "text/html": [
       "<div>\n",
       "<style scoped>\n",
       "    .dataframe tbody tr th:only-of-type {\n",
       "        vertical-align: middle;\n",
       "    }\n",
       "\n",
       "    .dataframe tbody tr th {\n",
       "        vertical-align: top;\n",
       "    }\n",
       "\n",
       "    .dataframe thead th {\n",
       "        text-align: right;\n",
       "    }\n",
       "</style>\n",
       "<table border=\"1\" class=\"dataframe\">\n",
       "  <thead>\n",
       "    <tr style=\"text-align: right;\">\n",
       "      <th></th>\n",
       "      <th>data</th>\n",
       "      <th>model</th>\n",
       "      <th>accuracy</th>\n",
       "      <th>precision</th>\n",
       "      <th>recall</th>\n",
       "      <th>f1score</th>\n",
       "      <th>rocauc</th>\n",
       "    </tr>\n",
       "  </thead>\n",
       "  <tbody>\n",
       "    <tr>\n",
       "      <td>0</td>\n",
       "      <td>test</td>\n",
       "      <td>K-Nearest Neighbors</td>\n",
       "      <td>0.576535</td>\n",
       "      <td>0.580284</td>\n",
       "      <td>0.775534</td>\n",
       "      <td>0.663718</td>\n",
       "      <td>0.592434</td>\n",
       "    </tr>\n",
       "  </tbody>\n",
       "</table>\n",
       "</div>"
      ],
      "text/plain": [
       "   data                model  accuracy  precision    recall   f1score  \\\n",
       "0  test  K-Nearest Neighbors  0.576535   0.580284  0.775534  0.663718   \n",
       "\n",
       "     rocauc  \n",
       "0  0.592434  "
      ]
     },
     "execution_count": 42,
     "metadata": {},
     "output_type": "execute_result"
    }
   ],
   "source": [
    "estimator = KNeighborsClassifier()\n",
    "estimator_name = 'K-Nearest Neighbors'\n",
    "\n",
    "pipeline = Pipeline([('scaler', Normalizer()),\n",
    "                     ('clf', estimator)])\n",
    "\n",
    "param_grid = {'clf__n_neighbors': [39, 50, 100],\n",
    "              'clf__leaf_size': [10],\n",
    "              'clf__p': [1],\n",
    "              'clf__weights': ['uniform'],\n",
    "              'clf__metric' : ['manhattan']\n",
    "             }\n",
    "\n",
    "strat_k_fold = StratifiedKFold(n_splits=5, shuffle=True, random_state=42)\n",
    "grid = GridSearchCV(estimator=pipeline, param_grid=param_grid, cv=strat_k_fold, n_jobs=-1, \n",
    "                    scoring='f1')\n",
    "\n",
    "grid.fit(X_train, y_train) \n",
    "best_estimator = grid.best_estimator_\n",
    "print(grid.best_params_, '\\n')\n",
    "model_results_hyp_test_cm_cr_df(best_estimator, X_test, y_test, estimator_name)"
   ]
  },
  {
   "cell_type": "markdown",
   "metadata": {},
   "source": [
    "Increasing the number of n_neighbors is not improving our results, F1 score is the same.\n",
    "\n",
    "Even with the hyperparameter tuning K-Nearest Neighbors results are not better compared to the Random Forest. Let's see if we can reach a higher F1 score with Support Vector Machine."
   ]
  },
  {
   "cell_type": "markdown",
   "metadata": {},
   "source": [
    "### Support Vector Machine"
   ]
  },
  {
   "cell_type": "code",
   "execution_count": 43,
   "metadata": {
    "ExecuteTime": {
     "end_time": "2020-05-31T20:06:19.433920Z",
     "start_time": "2020-05-31T20:06:19.429930Z"
    },
    "scrolled": true
   },
   "outputs": [
    {
     "name": "stdout",
     "output_type": "stream",
     "text": [
      "At the moment we were runing Support Vector Machine with these parameters: \n",
      "{'C': 1, 'gamma': 0.1, 'kernel': 'rbf'}\n"
     ]
    }
   ],
   "source": [
    "print(f'At the moment we were runing Support Vector Machine with these parameters: \\n{svc_params}')"
   ]
  },
  {
   "cell_type": "markdown",
   "metadata": {},
   "source": [
    "- We had the F1 score at 0.6704\n",
    "- TP 2253\n",
    "- FN 1957\n",
    "- FP 1276\n",
    "\n",
    "We will be tweaking these parameters:\n",
    "\n",
    "- Kernels, its main function is to take low dimensional input space and transform it into a higher-dimensional space. It is mostly useful in non-linear separation problem.\n",
    "- C (Regularisation), the penalty parameter, which represents misclassification or error term. When C is high it will classify all the data points correctly, also there is a chance to overfit.\n",
    "- Gamma defines how far influences the calculation of plausible line of separation."
   ]
  },
  {
   "cell_type": "code",
   "execution_count": 44,
   "metadata": {
    "ExecuteTime": {
     "end_time": "2020-05-31T20:08:58.946892Z",
     "start_time": "2020-05-31T20:06:19.434931Z"
    }
   },
   "outputs": [
    {
     "name": "stdout",
     "output_type": "stream",
     "text": [
      "Fitting 5 folds for each of 4 candidates, totalling 20 fits\n"
     ]
    },
    {
     "name": "stderr",
     "output_type": "stream",
     "text": [
      "[Parallel(n_jobs=-1)]: Using backend LokyBackend with 8 concurrent workers.\n",
      "[Parallel(n_jobs=-1)]: Done  20 out of  20 | elapsed:  1.7min finished\n"
     ]
    },
    {
     "name": "stdout",
     "output_type": "stream",
     "text": [
      "{'clf__C': 0.1, 'clf__gamma': 0.01, 'clf__kernel': 'rbf'} \n",
      "\n",
      "\n",
      " **Support Vector Machine** results \n",
      "\n",
      "Confusion Matrix of test data\n"
     ]
    },
    {
     "data": {
      "image/png": "[encoded data removed]",
      "text/plain": [
       "<Figure size 576x360 with 2 Axes>"
      ]
     },
     "metadata": {
      "needs_background": "light"
     },
     "output_type": "display_data"
    },
    {
     "name": "stdout",
     "output_type": "stream",
     "text": [
      "Classifictation Report of test data \n",
      "\n",
      "              precision    recall  f1-score   support\n",
      "\n",
      "           0       0.48      0.57      0.52      3597\n",
      "           1       0.57      0.48      0.52      4210\n",
      "\n",
      "    accuracy                           0.52      7807\n",
      "   macro avg       0.52      0.52      0.52      7807\n",
      "weighted avg       0.53      0.52      0.52      7807\n",
      " \n",
      "\n"
     ]
    },
    {
     "data": {
      "text/html": [
       "<div>\n",
       "<style scoped>\n",
       "    .dataframe tbody tr th:only-of-type {\n",
       "        vertical-align: middle;\n",
       "    }\n",
       "\n",
       "    .dataframe tbody tr th {\n",
       "        vertical-align: top;\n",
       "    }\n",
       "\n",
       "    .dataframe thead th {\n",
       "        text-align: right;\n",
       "    }\n",
       "</style>\n",
       "<table border=\"1\" class=\"dataframe\">\n",
       "  <thead>\n",
       "    <tr style=\"text-align: right;\">\n",
       "      <th></th>\n",
       "      <th>data</th>\n",
       "      <th>model</th>\n",
       "      <th>accuracy</th>\n",
       "      <th>precision</th>\n",
       "      <th>recall</th>\n",
       "      <th>f1score</th>\n",
       "      <th>rocauc</th>\n",
       "    </tr>\n",
       "  </thead>\n",
       "  <tbody>\n",
       "    <tr>\n",
       "      <td>0</td>\n",
       "      <td>test</td>\n",
       "      <td>Support Vector Machine</td>\n",
       "      <td>0.624057</td>\n",
       "      <td>0.652988</td>\n",
       "      <td>0.646793</td>\n",
       "      <td>0.649802</td>\n",
       "      <td>0.662665</td>\n",
       "    </tr>\n",
       "  </tbody>\n",
       "</table>\n",
       "</div>"
      ],
      "text/plain": [
       "   data                   model  accuracy  precision    recall   f1score  \\\n",
       "0  test  Support Vector Machine  0.624057   0.652988  0.646793  0.649802   \n",
       "\n",
       "     rocauc  \n",
       "0  0.662665  "
      ]
     },
     "execution_count": 44,
     "metadata": {},
     "output_type": "execute_result"
    }
   ],
   "source": [
    "estimator = SVC(random_state=42)\n",
    "estimator_name = 'Support Vector Machine'\n",
    "\n",
    "pipeline = Pipeline([('scaler', StandardScaler()),\n",
    "                     ('clf', estimator)])\n",
    "\n",
    "param_grid   = {'clf__C': [0.1, 10],\n",
    "                'clf__gamma': [1, 0.01],\n",
    "                'clf__kernel': ['rbf']\n",
    "               }\n",
    "\n",
    "strat_k_fold = StratifiedKFold(n_splits=5, shuffle=True, random_state=42)\n",
    "grid = GridSearchCV(estimator=pipeline, param_grid=param_grid, cv=strat_k_fold, n_jobs=-1, \n",
    "                    verbose=1, scoring='f1')\n",
    "\n",
    "grid.fit(X_train, y_train) \n",
    "best_estimator = grid.best_estimator_\n",
    "print(grid.best_params_, '\\n')\n",
    "model_results_hyp_test_cm_cr_df(best_estimator, X_test, y_test, estimator_name)"
   ]
  },
  {
   "cell_type": "markdown",
   "metadata": {},
   "source": [
    "New parameters haven't improved the results, let's try another set:"
   ]
  },
  {
   "cell_type": "code",
   "execution_count": 45,
   "metadata": {
    "ExecuteTime": {
     "end_time": "2020-05-31T20:11:04.966006Z",
     "start_time": "2020-05-31T20:08:58.947889Z"
    }
   },
   "outputs": [
    {
     "name": "stdout",
     "output_type": "stream",
     "text": [
      "Fitting 5 folds for each of 4 candidates, totalling 20 fits\n"
     ]
    },
    {
     "name": "stderr",
     "output_type": "stream",
     "text": [
      "[Parallel(n_jobs=-1)]: Using backend LokyBackend with 8 concurrent workers.\n",
      "[Parallel(n_jobs=-1)]: Done  20 out of  20 | elapsed:  1.2min finished\n"
     ]
    },
    {
     "name": "stdout",
     "output_type": "stream",
     "text": [
      "{'clf__C': 0.1, 'clf__gamma': 0.01, 'clf__kernel': 'rbf'} \n",
      "\n",
      "\n",
      " **Support Vector Machine** results \n",
      "\n",
      "Confusion Matrix of test data\n"
     ]
    },
    {
     "data": {
      "image/png": "[encoded data removed]",
      "text/plain": [
       "<Figure size 576x360 with 2 Axes>"
      ]
     },
     "metadata": {
      "needs_background": "light"
     },
     "output_type": "display_data"
    },
    {
     "name": "stdout",
     "output_type": "stream",
     "text": [
      "Classifictation Report of test data \n",
      "\n",
      "              precision    recall  f1-score   support\n",
      "\n",
      "           0       0.48      0.57      0.52      3597\n",
      "           1       0.57      0.48      0.52      4210\n",
      "\n",
      "    accuracy                           0.52      7807\n",
      "   macro avg       0.52      0.52      0.52      7807\n",
      "weighted avg       0.53      0.52      0.52      7807\n",
      " \n",
      "\n"
     ]
    },
    {
     "data": {
      "text/html": [
       "<div>\n",
       "<style scoped>\n",
       "    .dataframe tbody tr th:only-of-type {\n",
       "        vertical-align: middle;\n",
       "    }\n",
       "\n",
       "    .dataframe tbody tr th {\n",
       "        vertical-align: top;\n",
       "    }\n",
       "\n",
       "    .dataframe thead th {\n",
       "        text-align: right;\n",
       "    }\n",
       "</style>\n",
       "<table border=\"1\" class=\"dataframe\">\n",
       "  <thead>\n",
       "    <tr style=\"text-align: right;\">\n",
       "      <th></th>\n",
       "      <th>data</th>\n",
       "      <th>model</th>\n",
       "      <th>accuracy</th>\n",
       "      <th>precision</th>\n",
       "      <th>recall</th>\n",
       "      <th>f1score</th>\n",
       "      <th>rocauc</th>\n",
       "    </tr>\n",
       "  </thead>\n",
       "  <tbody>\n",
       "    <tr>\n",
       "      <td>0</td>\n",
       "      <td>test</td>\n",
       "      <td>Support Vector Machine</td>\n",
       "      <td>0.624057</td>\n",
       "      <td>0.652988</td>\n",
       "      <td>0.646793</td>\n",
       "      <td>0.649802</td>\n",
       "      <td>0.662665</td>\n",
       "    </tr>\n",
       "  </tbody>\n",
       "</table>\n",
       "</div>"
      ],
      "text/plain": [
       "   data                   model  accuracy  precision    recall   f1score  \\\n",
       "0  test  Support Vector Machine  0.624057   0.652988  0.646793  0.649802   \n",
       "\n",
       "     rocauc  \n",
       "0  0.662665  "
      ]
     },
     "execution_count": 45,
     "metadata": {},
     "output_type": "execute_result"
    }
   ],
   "source": [
    "estimator = SVC(random_state=42)\n",
    "estimator_name = 'Support Vector Machine'\n",
    "\n",
    "pipeline = Pipeline([('scaler', StandardScaler()),\n",
    "                     ('clf', estimator)])\n",
    "\n",
    "param_grid   = {'clf__C': [0.1, 1],\n",
    "                'clf__gamma': [0.1, 0.01],\n",
    "                'clf__kernel': ['rbf']\n",
    "               }\n",
    "\n",
    "strat_k_fold = StratifiedKFold(n_splits=5, shuffle=True, random_state=42)\n",
    "grid = GridSearchCV(estimator=pipeline, param_grid=param_grid, cv=strat_k_fold, n_jobs=-1, \n",
    "                    verbose=1, scoring='f1')\n",
    "\n",
    "grid.fit(X_train, y_train) \n",
    "best_estimator = grid.best_estimator_\n",
    "print(grid.best_params_, '\\n')\n",
    "model_results_hyp_test_cm_cr_df(best_estimator, X_test, y_test, estimator_name)"
   ]
  },
  {
   "cell_type": "markdown",
   "metadata": {},
   "source": [
    "Let's see if using different kernels would improve the performance:"
   ]
  },
  {
   "cell_type": "code",
   "execution_count": 46,
   "metadata": {
    "ExecuteTime": {
     "end_time": "2020-05-31T20:13:39.931812Z",
     "start_time": "2020-05-31T20:11:04.966006Z"
    }
   },
   "outputs": [
    {
     "name": "stdout",
     "output_type": "stream",
     "text": [
      "Fitting 5 folds for each of 2 candidates, totalling 10 fits\n"
     ]
    },
    {
     "name": "stderr",
     "output_type": "stream",
     "text": [
      "[Parallel(n_jobs=-1)]: Using backend LokyBackend with 8 concurrent workers.\n",
      "[Parallel(n_jobs=-1)]: Done   6 out of  10 | elapsed:   42.1s remaining:   28.0s\n",
      "[Parallel(n_jobs=-1)]: Done  10 out of  10 | elapsed:   46.6s finished\n"
     ]
    },
    {
     "name": "stdout",
     "output_type": "stream",
     "text": [
      "{'clf__C': 1, 'clf__gamma': 0.1, 'clf__kernel': 'poly'} \n",
      "\n",
      "\n",
      " **Support Vector Machine** results \n",
      "\n",
      "Confusion Matrix of test data\n"
     ]
    },
    {
     "data": {
      "image/png": "[encoded data removed]",
      "text/plain": [
       "<Figure size 576x360 with 2 Axes>"
      ]
     },
     "metadata": {
      "needs_background": "light"
     },
     "output_type": "display_data"
    },
    {
     "name": "stdout",
     "output_type": "stream",
     "text": [
      "Classifictation Report of test data \n",
      "\n",
      "              precision    recall  f1-score   support\n",
      "\n",
      "           0       0.54      0.62      0.58      3597\n",
      "           1       0.63      0.56      0.59      4210\n",
      "\n",
      "    accuracy                           0.59      7807\n",
      "   macro avg       0.59      0.59      0.59      7807\n",
      "weighted avg       0.59      0.59      0.59      7807\n",
      " \n",
      "\n"
     ]
    },
    {
     "data": {
      "text/html": [
       "<div>\n",
       "<style scoped>\n",
       "    .dataframe tbody tr th:only-of-type {\n",
       "        vertical-align: middle;\n",
       "    }\n",
       "\n",
       "    .dataframe tbody tr th {\n",
       "        vertical-align: top;\n",
       "    }\n",
       "\n",
       "    .dataframe thead th {\n",
       "        text-align: right;\n",
       "    }\n",
       "</style>\n",
       "<table border=\"1\" class=\"dataframe\">\n",
       "  <thead>\n",
       "    <tr style=\"text-align: right;\">\n",
       "      <th></th>\n",
       "      <th>data</th>\n",
       "      <th>model</th>\n",
       "      <th>accuracy</th>\n",
       "      <th>precision</th>\n",
       "      <th>recall</th>\n",
       "      <th>f1score</th>\n",
       "      <th>rocauc</th>\n",
       "    </tr>\n",
       "  </thead>\n",
       "  <tbody>\n",
       "    <tr>\n",
       "      <td>0</td>\n",
       "      <td>test</td>\n",
       "      <td>Support Vector Machine</td>\n",
       "      <td>0.618164</td>\n",
       "      <td>0.632371</td>\n",
       "      <td>0.697387</td>\n",
       "      <td>0.662997</td>\n",
       "      <td>0.649845</td>\n",
       "    </tr>\n",
       "  </tbody>\n",
       "</table>\n",
       "</div>"
      ],
      "text/plain": [
       "   data                   model  accuracy  precision    recall   f1score  \\\n",
       "0  test  Support Vector Machine  0.618164   0.632371  0.697387  0.662997   \n",
       "\n",
       "     rocauc  \n",
       "0  0.649845  "
      ]
     },
     "execution_count": 46,
     "metadata": {},
     "output_type": "execute_result"
    }
   ],
   "source": [
    "estimator = SVC(random_state=42)\n",
    "estimator_name = 'Support Vector Machine'\n",
    "\n",
    "pipeline = Pipeline([('scaler', StandardScaler()),\n",
    "                     ('clf', estimator)])\n",
    "\n",
    "param_grid   = {'clf__C': [1],\n",
    "                'clf__gamma': [0.1],\n",
    "                'clf__kernel': ['poly', 'sigmoid']\n",
    "               }\n",
    "\n",
    "strat_k_fold = StratifiedKFold(n_splits=5, shuffle=True, random_state=42)\n",
    "grid = GridSearchCV(estimator=pipeline, param_grid=param_grid, cv=strat_k_fold, n_jobs=-1, \n",
    "                    verbose=1, scoring='f1')\n",
    "\n",
    "grid.fit(X_train, y_train) \n",
    "best_estimator = grid.best_estimator_\n",
    "print(grid.best_params_, '\\n')\n",
    "model_results_hyp_test_cm_cr_df(best_estimator, X_test, y_test, estimator_name)"
   ]
  },
  {
   "cell_type": "markdown",
   "metadata": {},
   "source": [
    "Hyperparameter tuning hasn't changed the situation, Random Forest is still showing the best results.\n",
    "\n",
    "Let's try to run Extreme Gradient Boosting Classifier to see if maybe with different parameters we would get better results:"
   ]
  },
  {
   "cell_type": "markdown",
   "metadata": {},
   "source": [
    "### Extreme Gradient Boosting Classifier"
   ]
  },
  {
   "cell_type": "code",
   "execution_count": 47,
   "metadata": {
    "ExecuteTime": {
     "end_time": "2020-05-31T20:13:39.936798Z",
     "start_time": "2020-05-31T20:13:39.932807Z"
    }
   },
   "outputs": [
    {
     "name": "stdout",
     "output_type": "stream",
     "text": [
      "At the moment we were runing Support Vector Machine with these parameters: \n",
      "{'learning_rate': 0.01, 'max_depth': 7, 'n_estimators': 300, 'reg_alpha': 0.3}\n"
     ]
    }
   ],
   "source": [
    "print(f'At the moment we were runing Support Vector Machine with these parameters: \\n{xgb_params}')"
   ]
  },
  {
   "cell_type": "code",
   "execution_count": 48,
   "metadata": {
    "ExecuteTime": {
     "end_time": "2020-05-31T20:15:42.892002Z",
     "start_time": "2020-05-31T20:13:39.937794Z"
    }
   },
   "outputs": [
    {
     "name": "stdout",
     "output_type": "stream",
     "text": [
      "{'clf__learning_rate': 0.01, 'clf__max_depth': 5, 'clf__n_estimators': 200, 'clf__reg_alpha': 0.4} \n",
      "\n",
      "\n",
      " **XGBClassifier** results \n",
      "\n",
      "Confusion Matrix of test data\n"
     ]
    },
    {
     "data": {
      "image/png": "[encoded data removed]",
      "text/plain": [
       "<Figure size 576x360 with 2 Axes>"
      ]
     },
     "metadata": {
      "needs_background": "light"
     },
     "output_type": "display_data"
    },
    {
     "name": "stdout",
     "output_type": "stream",
     "text": [
      "Classifictation Report of test data \n",
      "\n",
      "              precision    recall  f1-score   support\n",
      "\n",
      "           0       0.52      0.66      0.58      3597\n",
      "           1       0.62      0.48      0.54      4210\n",
      "\n",
      "    accuracy                           0.56      7807\n",
      "   macro avg       0.57      0.57      0.56      7807\n",
      "weighted avg       0.57      0.56      0.56      7807\n",
      " \n",
      "\n"
     ]
    },
    {
     "data": {
      "text/html": [
       "<div>\n",
       "<style scoped>\n",
       "    .dataframe tbody tr th:only-of-type {\n",
       "        vertical-align: middle;\n",
       "    }\n",
       "\n",
       "    .dataframe tbody tr th {\n",
       "        vertical-align: top;\n",
       "    }\n",
       "\n",
       "    .dataframe thead th {\n",
       "        text-align: right;\n",
       "    }\n",
       "</style>\n",
       "<table border=\"1\" class=\"dataframe\">\n",
       "  <thead>\n",
       "    <tr style=\"text-align: right;\">\n",
       "      <th></th>\n",
       "      <th>data</th>\n",
       "      <th>model</th>\n",
       "      <th>accuracy</th>\n",
       "      <th>precision</th>\n",
       "      <th>recall</th>\n",
       "      <th>f1score</th>\n",
       "      <th>rocauc</th>\n",
       "    </tr>\n",
       "  </thead>\n",
       "  <tbody>\n",
       "    <tr>\n",
       "      <td>0</td>\n",
       "      <td>test</td>\n",
       "      <td>XGBClassifier</td>\n",
       "      <td>0.634046</td>\n",
       "      <td>0.650274</td>\n",
       "      <td>0.696437</td>\n",
       "      <td>0.672322</td>\n",
       "      <td>0.685182</td>\n",
       "    </tr>\n",
       "  </tbody>\n",
       "</table>\n",
       "</div>"
      ],
      "text/plain": [
       "   data          model  accuracy  precision    recall   f1score    rocauc\n",
       "0  test  XGBClassifier  0.634046   0.650274  0.696437  0.672322  0.685182"
      ]
     },
     "execution_count": 48,
     "metadata": {},
     "output_type": "execute_result"
    }
   ],
   "source": [
    "estimator = XGBClassifier(random_state=42)\n",
    "estimator_name = 'XGBClassifier'\n",
    "\n",
    "pipeline = Pipeline([('scaler', StandardScaler()),\n",
    "                     ('clf', estimator)])\n",
    "\n",
    "param_grid   = {'clf__learning_rate': [0.01],\n",
    "                'clf__n_estimators': [200, 300, 400],\n",
    "                'clf__max_depth':[5, 7, 9],\n",
    "                'clf__reg_alpha':[0.3, 0.4]\n",
    "               }\n",
    "\n",
    "strat_k_fold = StratifiedKFold(n_splits=5, shuffle=True, random_state=42)\n",
    "grid = GridSearchCV(estimator=pipeline, param_grid=param_grid, cv=strat_k_fold, n_jobs=-1, \n",
    "                    scoring='f1')\n",
    "\n",
    "grid.fit(X_train, y_train) \n",
    "best_estimator = grid.best_estimator_\n",
    "print(grid.best_params_, '\\n')\n",
    "model_results_hyp_test_cm_cr_df(best_estimator, X_test, y_test, estimator_name)"
   ]
  },
  {
   "cell_type": "markdown",
   "metadata": {},
   "source": [
    "Random Forest has still better performance."
   ]
  },
  {
   "cell_type": "markdown",
   "metadata": {},
   "source": [
    "### Extra Trees Classifier"
   ]
  },
  {
   "cell_type": "markdown",
   "metadata": {},
   "source": [
    "Extra Trees Classifier with the short list of the important features had a very nice class separation, at that time its performance was lower compared to the Random forest. Let's see if we could improve it with hyperparameter tuning.\n",
    "\n",
    "We will first need to split the dataset with the short list:"
   ]
  },
  {
   "cell_type": "code",
   "execution_count": 49,
   "metadata": {
    "ExecuteTime": {
     "end_time": "2020-05-31T20:15:42.913950Z",
     "start_time": "2020-05-31T20:15:42.893000Z"
    }
   },
   "outputs": [
    {
     "name": "stdout",
     "output_type": "stream",
     "text": [
      "Training data shape: (18377, 12)\n",
      "Testing data shape: (7807, 12)\n"
     ]
    }
   ],
   "source": [
    "# Train data\n",
    "\n",
    "year = [2017, 2018]\n",
    "train = df_encoded_short.loc[df_encoded_short.reg_year.apply(lambda x: x in year)]\n",
    "\n",
    "to_drop = ['churned_1_month', 'reg_year']\n",
    "X_train = train.drop(to_drop, axis=1)\n",
    "y_train = train['churned_1_month']\n",
    "\n",
    "print(f'Training data shape: {X_train.shape}')\n",
    "\n",
    "# Test data\n",
    "\n",
    "year = [2019]\n",
    "test = df_encoded_short.loc[df_encoded_short.reg_year.apply(lambda x: x in year)]\n",
    "\n",
    "to_drop = ['churned_1_month', 'reg_year']\n",
    "X_test = test.drop(to_drop, axis=1)\n",
    "y_test = test['churned_1_month']\n",
    "\n",
    "print(f'Testing data shape: {X_test.shape}')"
   ]
  },
  {
   "cell_type": "code",
   "execution_count": 50,
   "metadata": {
    "ExecuteTime": {
     "end_time": "2020-05-31T20:15:42.918931Z",
     "start_time": "2020-05-31T20:15:42.914969Z"
    }
   },
   "outputs": [
    {
     "name": "stdout",
     "output_type": "stream",
     "text": [
      "At the moment we were runing Support Vector Machine with these parameters: \n",
      "{'max_features': 'auto', 'min_samples_split': 6, 'n_estimators': 100}\n"
     ]
    }
   ],
   "source": [
    "print(f'At the moment we were runing Support Vector Machine with these parameters: \\n{ext_params}')"
   ]
  },
  {
   "cell_type": "code",
   "execution_count": 51,
   "metadata": {
    "ExecuteTime": {
     "end_time": "2020-05-31T20:16:11.025741Z",
     "start_time": "2020-05-31T20:15:42.919927Z"
    }
   },
   "outputs": [
    {
     "name": "stdout",
     "output_type": "stream",
     "text": [
      "{'clf__max_features': 'auto', 'clf__min_samples_split': 10, 'clf__n_estimators': 50} \n",
      "\n",
      "\n",
      " **Extra Trees Classifier** results \n",
      "\n",
      "Confusion Matrix of test data\n"
     ]
    },
    {
     "data": {
      "image/png": "[encoded data removed]",
      "text/plain": [
       "<Figure size 576x360 with 2 Axes>"
      ]
     },
     "metadata": {
      "needs_background": "light"
     },
     "output_type": "display_data"
    },
    {
     "name": "stdout",
     "output_type": "stream",
     "text": [
      "Classifictation Report of test data \n",
      "\n",
      "              precision    recall  f1-score   support\n",
      "\n",
      "           0       0.52      0.65      0.58      3597\n",
      "           1       0.62      0.50      0.55      4210\n",
      "\n",
      "    accuracy                           0.57      7807\n",
      "   macro avg       0.57      0.57      0.57      7807\n",
      "weighted avg       0.58      0.57      0.57      7807\n",
      " \n",
      "\n"
     ]
    },
    {
     "data": {
      "text/html": [
       "<div>\n",
       "<style scoped>\n",
       "    .dataframe tbody tr th:only-of-type {\n",
       "        vertical-align: middle;\n",
       "    }\n",
       "\n",
       "    .dataframe tbody tr th {\n",
       "        vertical-align: top;\n",
       "    }\n",
       "\n",
       "    .dataframe thead th {\n",
       "        text-align: right;\n",
       "    }\n",
       "</style>\n",
       "<table border=\"1\" class=\"dataframe\">\n",
       "  <thead>\n",
       "    <tr style=\"text-align: right;\">\n",
       "      <th></th>\n",
       "      <th>data</th>\n",
       "      <th>model</th>\n",
       "      <th>accuracy</th>\n",
       "      <th>precision</th>\n",
       "      <th>recall</th>\n",
       "      <th>f1score</th>\n",
       "      <th>rocauc</th>\n",
       "    </tr>\n",
       "  </thead>\n",
       "  <tbody>\n",
       "    <tr>\n",
       "      <td>0</td>\n",
       "      <td>test</td>\n",
       "      <td>Extra Trees Classifier</td>\n",
       "      <td>0.605995</td>\n",
       "      <td>0.629697</td>\n",
       "      <td>0.654157</td>\n",
       "      <td>0.641535</td>\n",
       "      <td>0.64523</td>\n",
       "    </tr>\n",
       "  </tbody>\n",
       "</table>\n",
       "</div>"
      ],
      "text/plain": [
       "   data                   model  accuracy  precision    recall   f1score  \\\n",
       "0  test  Extra Trees Classifier  0.605995   0.629697  0.654157  0.641535   \n",
       "\n",
       "    rocauc  \n",
       "0  0.64523  "
      ]
     },
     "execution_count": 51,
     "metadata": {},
     "output_type": "execute_result"
    }
   ],
   "source": [
    "estimator = ExtraTreesClassifier(random_state=42)\n",
    "estimator_name = 'Extra Trees Classifier'\n",
    "\n",
    "pipeline = Pipeline([('scaler', StandardScaler()),\n",
    "                     ('clf', estimator)])\n",
    "\n",
    "param_grid = {'clf__n_estimators': [50, 100, 150],\n",
    "              'clf__max_features': ['auto', 'sqrt', 'log2'],\n",
    "              'clf__min_samples_split': [4, 6, 10]\n",
    "             }\n",
    "\n",
    "strat_k_fold = StratifiedKFold(n_splits=5, shuffle=True, random_state=42)\n",
    "grid = GridSearchCV(estimator=pipeline, param_grid=param_grid, cv=strat_k_fold, n_jobs=-1, \n",
    "                    scoring='f1')\n",
    "\n",
    "grid.fit(X_train, y_train) \n",
    "best_estimator = grid.best_estimator_\n",
    "print(grid.best_params_, '\\n')\n",
    "model_results_hyp_test_cm_cr_df(best_estimator, X_test, y_test, estimator_name)"
   ]
  },
  {
   "cell_type": "markdown",
   "metadata": {},
   "source": [
    "Results haven't improved and they are not better compared to Random Forest Classifier."
   ]
  },
  {
   "cell_type": "markdown",
   "metadata": {},
   "source": [
    "# Neural Networks"
   ]
  },
  {
   "cell_type": "markdown",
   "metadata": {},
   "source": [
    "## Multi-Layer Perceptron Classifier"
   ]
  },
  {
   "cell_type": "markdown",
   "metadata": {},
   "source": [
    "MLPClassifier is the basic neural network classifier of scikit learn. This model optimizes the log-loss function using LBFGS or stochastic gradient descent. MLP is supervised learning algorithm that learns a function by training on a dataset implementing a multi-layer perceptron (MLP) algorithm that trains using Backpropagation.\n",
    "\n",
    "Let's see if a neural network classifier could give us better results:"
   ]
  },
  {
   "cell_type": "code",
   "execution_count": 52,
   "metadata": {
    "ExecuteTime": {
     "end_time": "2020-05-31T20:30:32.303061Z",
     "start_time": "2020-05-31T20:16:11.027736Z"
    }
   },
   "outputs": [
    {
     "name": "stdout",
     "output_type": "stream",
     "text": [
      "{'clf__activation': 'relu', 'clf__alpha': 0.05, 'clf__hidden_layer_sizes': (50, 100, 50), 'clf__learning_rate': 'adaptive', 'clf__solver': 'sgd'} \n",
      "\n",
      "\n",
      " **MLPClassifier** results \n",
      "\n",
      "Confusion Matrix of test data\n"
     ]
    },
    {
     "data": {
      "image/png": "[encoded data removed]",
      "text/plain": [
       "<Figure size 576x360 with 2 Axes>"
      ]
     },
     "metadata": {
      "needs_background": "light"
     },
     "output_type": "display_data"
    },
    {
     "name": "stdout",
     "output_type": "stream",
     "text": [
      "Classifictation Report of test data \n",
      "\n",
      "              precision    recall  f1-score   support\n",
      "\n",
      "           0       0.52      0.66      0.58      3597\n",
      "           1       0.63      0.48      0.54      4210\n",
      "\n",
      "    accuracy                           0.57      7807\n",
      "   macro avg       0.57      0.57      0.56      7807\n",
      "weighted avg       0.58      0.57      0.56      7807\n",
      " \n",
      "\n"
     ]
    },
    {
     "data": {
      "text/html": [
       "<div>\n",
       "<style scoped>\n",
       "    .dataframe tbody tr th:only-of-type {\n",
       "        vertical-align: middle;\n",
       "    }\n",
       "\n",
       "    .dataframe tbody tr th {\n",
       "        vertical-align: top;\n",
       "    }\n",
       "\n",
       "    .dataframe thead th {\n",
       "        text-align: right;\n",
       "    }\n",
       "</style>\n",
       "<table border=\"1\" class=\"dataframe\">\n",
       "  <thead>\n",
       "    <tr style=\"text-align: right;\">\n",
       "      <th></th>\n",
       "      <th>data</th>\n",
       "      <th>model</th>\n",
       "      <th>accuracy</th>\n",
       "      <th>precision</th>\n",
       "      <th>recall</th>\n",
       "      <th>f1score</th>\n",
       "      <th>rocauc</th>\n",
       "    </tr>\n",
       "  </thead>\n",
       "  <tbody>\n",
       "    <tr>\n",
       "      <td>0</td>\n",
       "      <td>test</td>\n",
       "      <td>MLPClassifier</td>\n",
       "      <td>0.62649</td>\n",
       "      <td>0.644503</td>\n",
       "      <td>0.685511</td>\n",
       "      <td>0.664264</td>\n",
       "      <td>0.672333</td>\n",
       "    </tr>\n",
       "  </tbody>\n",
       "</table>\n",
       "</div>"
      ],
      "text/plain": [
       "   data          model  accuracy  precision    recall   f1score    rocauc\n",
       "0  test  MLPClassifier   0.62649   0.644503  0.685511  0.664264  0.672333"
      ]
     },
     "execution_count": 52,
     "metadata": {},
     "output_type": "execute_result"
    }
   ],
   "source": [
    "estimator = MLPClassifier(random_state=42)\n",
    "estimator_name = 'MLPClassifier'\n",
    "\n",
    "pipeline = Pipeline([('scaler', StandardScaler()),\n",
    "                     ('clf', estimator)])\n",
    "\n",
    "param_grid = {'clf__hidden_layer_sizes': [(50,50,50), (50,100,50), (100,)],\n",
    "              'clf__activation': ['tanh', 'relu'],\n",
    "              'clf__solver': ['sgd', 'adam'],\n",
    "              'clf__alpha': [0.0001, 0.05],\n",
    "              'clf__learning_rate': ['constant','adaptive']\n",
    "             }\n",
    "\n",
    "strat_k_fold = StratifiedKFold(n_splits=5, shuffle=True, random_state=42)\n",
    "grid = GridSearchCV(estimator=pipeline, param_grid=param_grid, cv=strat_k_fold, n_jobs=-1, \n",
    "                    scoring='f1')\n",
    "\n",
    "grid.fit(X_train, y_train) \n",
    "best_estimator = grid.best_estimator_\n",
    "print(grid.best_params_, '\\n')\n",
    "model_results_hyp_test_cm_cr_df(best_estimator, X_test, y_test, estimator_name)"
   ]
  },
  {
   "cell_type": "markdown",
   "metadata": {},
   "source": [
    "Results are not better compared to Random Forest Classifier."
   ]
  },
  {
   "cell_type": "markdown",
   "metadata": {},
   "source": [
    "# Conclusions"
   ]
  },
  {
   "cell_type": "markdown",
   "metadata": {},
   "source": [
    "**After testing multiple models, we can see that with Random Forest Classifier we have F1 score at 0.69 which is the highest and we also predict the highest number of TP while having the lowest number of FN. We don't need to scale nor to balance our data. It's best to use the long list of the most important features.**\n",
    "\n",
    "The best selection of hyperparameters for the Random Forest Classifier is: \n",
    "- {'bootstrap': False, 'max_depth': 2, 'max_features': 'auto', 'min_samples_leaf': 1, 'min_samples_split': 2, 'n_estimators': 100}\n",
    "\n",
    "Before running the model we need to split our data again to have the dataset with the long list active (we have used the dataset with the short list for Extra Trees Classifier)."
   ]
  },
  {
   "cell_type": "code",
   "execution_count": 53,
   "metadata": {
    "ExecuteTime": {
     "end_time": "2020-05-31T20:30:32.362001Z",
     "start_time": "2020-05-31T20:30:32.307821Z"
    }
   },
   "outputs": [
    {
     "name": "stdout",
     "output_type": "stream",
     "text": [
      "Training data shape: (18377, 24)\n",
      "Testing data shape: (7807, 24)\n"
     ]
    }
   ],
   "source": [
    "# Train data\n",
    "\n",
    "year = [2017, 2018]\n",
    "train = df_encoded_long.loc[df_encoded_long.reg_year.apply(lambda x: x in year)]\n",
    "\n",
    "to_drop = ['churned_1_month', 'reg_year']\n",
    "X_train = train.drop(to_drop, axis=1)\n",
    "y_train = train['churned_1_month']\n",
    "\n",
    "print(f'Training data shape: {X_train.shape}')\n",
    "\n",
    "# Test data\n",
    "\n",
    "year = [2019]\n",
    "test = df_encoded_long.loc[df_encoded_long.reg_year.apply(lambda x: x in year)]\n",
    "\n",
    "to_drop = ['churned_1_month', 'reg_year']\n",
    "X_test = test.drop(to_drop, axis=1)\n",
    "y_test = test['churned_1_month']\n",
    "\n",
    "print(f'Testing data shape: {X_test.shape}')"
   ]
  },
  {
   "cell_type": "code",
   "execution_count": 54,
   "metadata": {
    "ExecuteTime": {
     "end_time": "2020-05-31T20:30:41.620155Z",
     "start_time": "2020-05-31T20:30:32.364278Z"
    }
   },
   "outputs": [
    {
     "name": "stdout",
     "output_type": "stream",
     "text": [
      "\n",
      " **Random Forest Classifier** results \n",
      "\n",
      "Confusion Matrix of test data\n"
     ]
    },
    {
     "data": {
      "image/png": "[encoded data removed]",
      "text/plain": [
       "<Figure size 576x360 with 2 Axes>"
      ]
     },
     "metadata": {
      "needs_background": "light"
     },
     "output_type": "display_data"
    },
    {
     "data": {
      "text/html": [
       "<div>\n",
       "<style scoped>\n",
       "    .dataframe tbody tr th:only-of-type {\n",
       "        vertical-align: middle;\n",
       "    }\n",
       "\n",
       "    .dataframe tbody tr th {\n",
       "        vertical-align: top;\n",
       "    }\n",
       "\n",
       "    .dataframe thead th {\n",
       "        text-align: right;\n",
       "    }\n",
       "</style>\n",
       "<table border=\"1\" class=\"dataframe\">\n",
       "  <thead>\n",
       "    <tr style=\"text-align: right;\">\n",
       "      <th></th>\n",
       "      <th>data</th>\n",
       "      <th>model</th>\n",
       "      <th>accuracy</th>\n",
       "      <th>precision</th>\n",
       "      <th>recall</th>\n",
       "      <th>f1score</th>\n",
       "      <th>rocauc</th>\n",
       "    </tr>\n",
       "  </thead>\n",
       "  <tbody>\n",
       "    <tr>\n",
       "      <td>0</td>\n",
       "      <td>test</td>\n",
       "      <td>Random Forest Classifier</td>\n",
       "      <td>0.612656</td>\n",
       "      <td>0.607884</td>\n",
       "      <td>0.793824</td>\n",
       "      <td>0.68845</td>\n",
       "      <td>0.662221</td>\n",
       "    </tr>\n",
       "  </tbody>\n",
       "</table>\n",
       "</div>"
      ],
      "text/plain": [
       "   data                     model  accuracy  precision    recall  f1score  \\\n",
       "0  test  Random Forest Classifier  0.612656   0.607884  0.793824  0.68845   \n",
       "\n",
       "     rocauc  \n",
       "0  0.662221  "
      ]
     },
     "execution_count": 54,
     "metadata": {},
     "output_type": "execute_result"
    }
   ],
   "source": [
    "best_params = {'bootstrap': False, 'max_depth': 2, 'max_features': 'auto', 'min_samples_leaf': 1, \n",
    "               'min_samples_split': 2, 'n_estimators': 100}\n",
    "\n",
    "estimator = RandomForestClassifier(**best_params, random_state=42) \n",
    "estimator_name = 'Random Forest Classifier'\n",
    "\n",
    "model_results_test_cm_df(estimator, X_train, y_train, X_test, y_test, estimator_name)"
   ]
  },
  {
   "cell_type": "markdown",
   "metadata": {},
   "source": [
    "# Recommendations and next steps"
   ]
  },
  {
   "cell_type": "markdown",
   "metadata": {},
   "source": [
    "- **More behavioral data**: collect more data about customer behavior, interactions with the customer service, add survey data, there might be some hidden features that are actually the decision-makers.\n",
    "- **More diverse marketing strategy**: use different pricing strategies in different channels. Open new acquisition channels to be able to identify different customer patterns.\n",
    "- **With more data try to predict if the customer is going to cancel after the 3rd month**: track customer performance during 2-3 months, try to predict if he or she is going to churn in the later stage of his/hers lifetime."
   ]
  }
 ],
 "metadata": {
  "kernelspec": {
   "display_name": "Python 3",
   "language": "python",
   "name": "python3"
  },
  "language_info": {
   "codemirror_mode": {
    "name": "ipython",
    "version": 3
   },
   "file_extension": ".py",
   "mimetype": "text/x-python",
   "name": "python",
   "nbconvert_exporter": "python",
   "pygments_lexer": "ipython3",
   "version": "3.7.4"
  },
  "toc": {
   "base_numbering": 1,
   "nav_menu": {},
   "number_sections": true,
   "sideBar": true,
   "skip_h1_title": false,
   "title_cell": "Table of Contents",
   "title_sidebar": "Contents",
   "toc_cell": true,
   "toc_position": {
    "height": "calc(100% - 180px)",
    "left": "10px",
    "top": "150px",
    "width": "284.667px"
   },
   "toc_section_display": true,
   "toc_window_display": true
  }
 },
 "nbformat": 4,
 "nbformat_minor": 2
}
